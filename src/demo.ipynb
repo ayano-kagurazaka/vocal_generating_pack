{
 "cells": [
  {
   "cell_type": "markdown",
   "source": [
    "# 请确保你按照readme.md中的步骤配置完环境之后再来运行!"
   ],
   "metadata": {
    "collapsed": false
   }
  },
  {
   "attachments": {},
   "cell_type": "markdown",
   "metadata": {},
   "source": [
    "导入库和构建文件架构(如果执行时报SSL connection error的话请关掉steam++等证书类加速器)"
   ]
  },
  {
   "cell_type": "code",
   "execution_count": 1,
   "metadata": {
    "ExecuteTime": {
     "end_time": "2023-06-14T06:25:57.109895Z",
     "start_time": "2023-06-14T06:25:55.231288Z"
    }
   },
   "outputs": [
    {
     "name": "stdout",
     "output_type": "stream",
     "text": [
      "building file structures...\n",
      "done\n"
     ]
    }
   ],
   "source": [
    "from functions import separate_vocal, convert_ncm, apply_so_vits, fuse_vocal_and_instrumental\n",
    "from resource_manager import get_data_from_source\n",
    "from pathlib import Path"
   ]
  },
  {
   "cell_type": "markdown",
   "source": [
    "总共有6首demo, 你可以自行选择其中一首进行测试, 运行你想要测试的歌曲的单元格"
   ],
   "metadata": {
    "collapsed": false
   }
  },
  {
   "cell_type": "markdown",
   "source": [
    "demo 1(DAI☆TAN センセーション):"
   ],
   "metadata": {
    "collapsed": false
   }
  },
  {
   "cell_type": "code",
   "execution_count": 2,
   "outputs": [],
   "source": [
    "SONG_PATH = Path(\"./demo_assets/DAI☆TAN センセーション.mp3\")"
   ],
   "metadata": {
    "collapsed": false,
    "ExecuteTime": {
     "end_time": "2023-06-14T06:23:36.608748Z",
     "start_time": "2023-06-14T06:23:36.601384Z"
    }
   }
  },
  {
   "cell_type": "markdown",
   "source": [
    "demo 2(ディザイア):"
   ],
   "metadata": {
    "collapsed": false
   }
  },
  {
   "cell_type": "code",
   "execution_count": 4,
   "outputs": [],
   "source": [
    "SONG_PATH = Path(\"./demo_assets/ディザイア.mp3\")"
   ],
   "metadata": {
    "collapsed": false,
    "ExecuteTime": {
     "end_time": "2023-06-13T17:41:10.513895Z",
     "start_time": "2023-06-13T17:41:10.504064Z"
    }
   }
  },
  {
   "cell_type": "markdown",
   "source": [
    "demo 3(星空逃避行):"
   ],
   "metadata": {
    "collapsed": false
   }
  },
  {
   "cell_type": "code",
   "execution_count": 2,
   "outputs": [],
   "source": [
    "SONG_PATH = Path(\"./demo_assets/星空逃避行.wav\")"
   ],
   "metadata": {
    "collapsed": false,
    "ExecuteTime": {
     "end_time": "2023-06-14T04:09:42.404085Z",
     "start_time": "2023-06-14T04:09:42.402238Z"
    }
   }
  },
  {
   "cell_type": "markdown",
   "source": [
    "demo 4(永遠と唄):"
   ],
   "metadata": {
    "collapsed": false
   }
  },
  {
   "cell_type": "code",
   "execution_count": 2,
   "outputs": [],
   "source": [
    "SONG_PATH = Path(\"./demo_assets/永遠と唄.mp3\")"
   ],
   "metadata": {
    "collapsed": false,
    "ExecuteTime": {
     "end_time": "2023-06-14T06:25:59.985157Z",
     "start_time": "2023-06-14T06:25:59.974666Z"
    }
   }
  },
  {
   "cell_type": "markdown",
   "source": [
    "demo 5(空庭雨):"
   ],
   "metadata": {
    "collapsed": false
   }
  },
  {
   "cell_type": "code",
   "execution_count": null,
   "outputs": [],
   "source": [
    "SONG_PATH = Path(\"./demo_assets/空庭雨.ncm\")"
   ],
   "metadata": {
    "collapsed": false
   }
  },
  {
   "cell_type": "markdown",
   "source": [
    "demo 6(蝶と薔薇の罪と罰):"
   ],
   "metadata": {
    "collapsed": false
   }
  },
  {
   "cell_type": "code",
   "execution_count": null,
   "outputs": [],
   "source": [
    "SONG_PATH = Path(\"./demo_assets/蝶と薔薇の罪と罰.mp3\")"
   ],
   "metadata": {
    "collapsed": false
   }
  },
  {
   "cell_type": "markdown",
   "source": [
    "定义路径"
   ],
   "metadata": {
    "collapsed": false
   }
  },
  {
   "cell_type": "code",
   "execution_count": 3,
   "outputs": [],
   "source": [
    "OUT_PATH = Path(\"../files/output/\").joinpath(SONG_PATH.name.rsplit('.')[0])"
   ],
   "metadata": {
    "collapsed": false,
    "ExecuteTime": {
     "end_time": "2023-06-14T06:26:05.967653Z",
     "start_time": "2023-06-14T06:26:05.956907Z"
    }
   }
  },
  {
   "attachments": {},
   "cell_type": "markdown",
   "metadata": {},
   "source": [
    "下载模型(下载来源github和huggingface, 下载可能会较慢, 如果报connection aborted的话请多试几次, 国内用户可以挂代理)"
   ]
  },
  {
   "cell_type": "code",
   "execution_count": 8,
   "metadata": {
    "ExecuteTime": {
     "end_time": "2023-06-14T06:29:07.465339Z",
     "start_time": "2023-06-14T06:29:02.867770Z"
    }
   },
   "outputs": [
    {
     "data": {
      "text/plain": "Fetching 28 files:   0%|          | 0/28 [00:00<?, ?it/s]",
      "application/vnd.jupyter.widget-view+json": {
       "version_major": 2,
       "version_minor": 0,
       "model_id": "8f08af77cc184a5081ea85d8a913a1de"
      }
     },
     "metadata": {},
     "output_type": "display_data"
    },
    {
     "name": "stdout",
     "output_type": "stream",
     "text": [
      "hdemucs_mmi.yaml already exists, skipping\n",
      "75fc33f5-1941ce65.th already exists, skipping\n",
      "avaliable files:\n",
      " nahida_jp_kmeans_10000.pt\n",
      " klee_kmeans_10000.pt\n",
      " nahida_D_40000.pth\n",
      " nahida_kmeans_10000.pt\n",
      " hutao_G_40000.pth\n",
      " klee_G_40000.pth\n",
      " nahida.json\n",
      " nahida_jp_D_40000.pth\n",
      " hutao_jp_D_40000.pth\n",
      " klee_jp_G_40000.pth\n",
      " yaoyao_G_20000.pth\n",
      " klee_jp_kmeans_10000.pt\n",
      " hutao_D_40000.pth\n",
      " hutao_jp_G_40000.pth\n",
      " yaoyao.json\n",
      " nahida_jp_G_40000.pth\n",
      " klee_D_40000.pth\n",
      " yaoyao_D_20000.pth\n",
      " klee_jp_D_40000.pth\n",
      " hutao_kmeans_10000.pt\n",
      " hutao.json\n",
      " yaoyao_kmeans_10000.pt\n",
      " hutao_jp_kmeans_10000.pt\n",
      " klee.json\n",
      " nahida_G_40000.pth\n",
      "\n"
     ]
    }
   ],
   "source": [
    "model_so_vits = get_data_from_source(\"so-vits\", \"model\", \"genshin\", update_cache=False)\n",
    "model_demucs = get_data_from_source(\"demucs\", \"model\", \"hdemucs_mmi\", update_cache=False)\n",
    "print(\"avaliable files:\\n\", *[i + \"\\n\" for i in model_so_vits.keys()])\n",
    "print(\"Note: models with *_G_*.pth are model for inference, models with *_kmeans*.pt are cluster model, .json are configuration files\")"
   ]
  },
  {
   "attachments": {},
   "cell_type": "markdown",
   "metadata": {
    "collapsed": false
   },
   "source": [
    "转换格式"
   ]
  },
  {
   "cell_type": "code",
   "execution_count": 9,
   "metadata": {
    "collapsed": false,
    "ExecuteTime": {
     "end_time": "2023-06-14T04:28:19.383695Z",
     "start_time": "2023-06-14T04:28:19.373550Z"
    }
   },
   "outputs": [
    {
     "name": "stdout",
     "output_type": "stream",
     "text": [
      "demo_assets/星空逃避行.wav\n"
     ]
    }
   ],
   "source": [
    "converted_path = convert_ncm(SONG_PATH, OUT_PATH)\n",
    "print(converted_path)"
   ]
  },
  {
   "attachments": {},
   "cell_type": "markdown",
   "metadata": {},
   "source": [
    "利用demucs分离音频"
   ]
  },
  {
   "cell_type": "code",
   "execution_count": 10,
   "metadata": {
    "ExecuteTime": {
     "end_time": "2023-06-14T04:29:33.657281Z",
     "start_time": "2023-06-14T04:28:22.730428Z"
    }
   },
   "outputs": [
    {
     "name": "stdout",
     "output_type": "stream",
     "text": [
      "['/Users/ayano/Documents/developing/AI/vocal_generating_pack/src/demo_assets/星空逃避行.wav', '-o', '/Users/ayano/Documents/developing/AI/vocal_generating_pack/files/output/星空逃避行', '--repo', '../files/models/demucs/hdemucs_mmi', '--device', 'cpu', '--float32', '--segment', '5', '--clip-mode', 'clamp', '--name', 'hdemucs_mmi', '--jobs', '12', '--two-stems', 'vocals']\n",
      "Selected model is a bag of 1 models. You will see that many progress bars per track.\n",
      "Separated tracks will be stored in /Users/ayano/Documents/developing/AI/vocal_generating_pack/files/output/星空逃避行\n",
      "Separating track /Users/ayano/Documents/developing/AI/vocal_generating_pack/src/demo_assets/星空逃避行.wav\n"
     ]
    },
    {
     "name": "stderr",
     "output_type": "stream",
     "text": [
      "100%|████████████████████████████████████████████████████████████████████████| 337.5/337.5 [01:08<00:00,  4.90seconds/s]\n",
      "[12:29:33] /Users/ayano/anaconda3/envs/vocal_generating_pack/lib/python3.10/site-packages/torchaudio/backend/utils.py:29: UserWarning: list_audio_backend's return value is irrelevant when the I/O backend dispatcher is enabled.\n",
      "  warnings.warn(\"list_audio_backend's return value is irrelevant when the I/O backend dispatcher is enabled.\")\n",
      "\n"
     ]
    },
    {
     "name": "stdout",
     "output_type": "stream",
     "text": [
      "converting file to wav...\n",
      "done\n",
      "{'vocal': PosixPath('../files/output/星空逃避行/vocals.wav'), 'instrumental': PosixPath('../files/output/星空逃避行/no_vocals.wav')}\n"
     ]
    }
   ],
   "source": [
    "separated_path = separate_vocal(Path(converted_path), OUT_PATH)\n",
    "print(separated_path)"
   ]
  },
  {
   "attachments": {},
   "cell_type": "markdown",
   "metadata": {},
   "source": [
    "利用so-vits处理音频"
   ]
  },
  {
   "cell_type": "code",
   "execution_count": 11,
   "metadata": {
    "ExecuteTime": {
     "end_time": "2023-06-14T04:31:13.917034Z",
     "start_time": "2023-06-14T04:29:37.354671Z"
    }
   },
   "outputs": [
    {
     "name": "stderr",
     "output_type": "stream",
     "text": [
      "[12:29:38] /Users/ayano/anaconda3/envs/vocal_generating_pack/lib/python3.10/site-packages/torch/nn/utils/weight_norm.py:30: UserWarning: torch.nn.utils.weight_norm is deprecated in favor of torch.nn.utils.parametrizations.weight_norm.\n",
      "  warnings.warn(\"torch.nn.utils.weight_norm is deprecated in favor of torch.nn.utils.parametrizations.weight_norm.\")\n",
      "\n",
      "[12:29:38] /Users/ayano/Documents/developing/AI/vocal_generating_pack/src/thirdparties/so_vits_svc_fork/modules/synthesizers.py:81: UserWarning: Unused arguments: {'n_layers_q': 3, 'use_spectral_norm': False}\n",
      "  warnings.warn(f\"Unused arguments: {kwargs}\")\n",
      "\n",
      "[12:29:38] Decoder type: hifi-gan\n",
      "[12:29:39] Loaded checkpoint '/Users/ayano/Documents/developing/AI/vocal_generating_pack/files/models/so-vits/genshin/nahida_jp_G_40000.pth' (epoch 378)\n",
      "[12:29:39] Chunk: Chunk(Speech: True, 1764000.0)\n"
     ]
    },
    {
     "name": "stdout",
     "output_type": "stream",
     "text": [
      "44100 50.0\n",
      "0.5\n"
     ]
    },
    {
     "name": "stderr",
     "output_type": "stream",
     "text": [
      "[12:29:39] F0 inference time:       0.486s, RTF: 0.012\n",
      "[12:29:39] /Users/ayano/Documents/developing/AI/vocal_generating_pack/src/thirdparties/so_vits_svc_fork/utils.py:205: UserWarning: legacy_final_proj is deprecated\n",
      "  warnings.warn(\"legacy_final_proj is deprecated\")\n",
      "\n",
      "[12:29:41] HuBERT inference time  : 1.434s, RTF: 0.035\n",
      "[12:29:50] Inferece time: 9.39s, RTF: 0.23\n",
      "[12:29:50] Chunk: Chunk(Speech: True, 1764000.0)\n",
      "[12:29:51] F0 inference time:       0.514s, RTF: 0.013\n",
      "[12:29:52] HuBERT inference time  : 1.466s, RTF: 0.036\n",
      "[12:30:02] Inferece time: 9.36s, RTF: 0.23\n",
      "[12:30:02] Chunk: Chunk(Speech: True, 1764000.0)\n",
      "[12:30:02] F0 inference time:       0.515s, RTF: 0.013\n",
      "[12:30:04] HuBERT inference time  : 1.435s, RTF: 0.035\n",
      "[12:30:13] Inferece time: 9.28s, RTF: 0.23\n",
      "[12:30:13] Chunk: Chunk(Speech: True, 1764000.0)\n",
      "[12:30:13] F0 inference time:       0.504s, RTF: 0.012\n",
      "[12:30:15] HuBERT inference time  : 1.409s, RTF: 0.034\n",
      "[12:30:24] Inferece time: 9.28s, RTF: 0.23\n",
      "[12:30:24] Chunk: Chunk(Speech: True, 1764000.0)\n",
      "[12:30:25] F0 inference time:       0.528s, RTF: 0.013\n",
      "[12:30:26] HuBERT inference time  : 1.409s, RTF: 0.034\n",
      "[12:30:35] Inferece time: 9.22s, RTF: 0.23\n",
      "[12:30:35] Chunk: Chunk(Speech: True, 1764000.0)\n",
      "[12:30:36] F0 inference time:       0.495s, RTF: 0.012\n",
      "[12:30:37] HuBERT inference time  : 1.395s, RTF: 0.034\n",
      "[12:30:46] Inferece time: 9.25s, RTF: 0.23\n",
      "[12:30:46] Chunk: Chunk(Speech: True, 1764000.0)\n",
      "[12:30:47] F0 inference time:       0.510s, RTF: 0.012\n",
      "[12:30:48] HuBERT inference time  : 1.429s, RTF: 0.035\n",
      "[12:30:58] Inferece time: 9.28s, RTF: 0.23\n",
      "[12:30:58] Chunk: Chunk(Speech: True, 1764000.0)\n",
      "[12:30:58] F0 inference time:       0.499s, RTF: 0.012\n",
      "[12:31:00] HuBERT inference time  : 1.432s, RTF: 0.035\n",
      "[12:31:09] Inferece time: 9.32s, RTF: 0.23\n",
      "[12:31:09] Chunk: Chunk(Speech: True, 688360.0)\n",
      "[12:31:09] F0 inference time:       0.214s, RTF: 0.013\n",
      "[12:31:10] HuBERT inference time  : 0.467s, RTF: 0.028\n",
      "[12:31:13] Inferece time: 3.70s, RTF: 0.22\n"
     ]
    },
    {
     "name": "stdout",
     "output_type": "stream",
     "text": [
      "../files/output/星空逃避行/voice_generated_with_nahida.wav\n"
     ]
    }
   ],
   "source": [
    "counterfeited_path = apply_so_vits(separated_path[\"vocal\"], output_path=OUT_PATH, model_path=model_so_vits[\"nahida_jp_G_40000.pth\"], config_file_path=model_so_vits[\"nahida.json\"], cluster=model_so_vits[\"nahida_jp_kmeans_10000.pt\"], auto_predict_f0=False, speaker=\"nahida\", db_threshold=-15)\n",
    "print(counterfeited_path)"
   ]
  },
  {
   "attachments": {},
   "cell_type": "markdown",
   "metadata": {
    "collapsed": false
   },
   "source": [
    "合并"
   ]
  },
  {
   "cell_type": "code",
   "execution_count": 12,
   "metadata": {
    "collapsed": false,
    "ExecuteTime": {
     "end_time": "2023-06-14T04:31:14.546869Z",
     "start_time": "2023-06-14T04:31:13.919010Z"
    }
   },
   "outputs": [
    {
     "name": "stdout",
     "output_type": "stream",
     "text": [
      "done\n",
      "output file: ../files/output/星空逃避行/voice_generated_with_nahida_counterfeited_from_nahida.wav\n",
      "True\n"
     ]
    }
   ],
   "source": [
    "output = fuse_vocal_and_instrumental(vocal_path=counterfeited_path, instrumental_path=separated_path[\"instrumental\"], output_path=OUT_PATH, speaker=\"nahida\")\n",
    "print(\"output file:\", output)\n",
    "print(output.exists())\n",
    "import os, platform\n",
    "if platform.system() == \"Windows\":\n",
    "    os.system(\"explorer.exe %s\" % output)\n",
    "elif platform.system() == \"Darwin\":\n",
    "    os.system(\"open '%s'\" % output)\n",
    "else:\n",
    "    os.system(\"xdg-open '%s'\" % output)"
   ]
  },
  {
   "cell_type": "code",
   "execution_count": null,
   "outputs": [],
   "source": [],
   "metadata": {
    "collapsed": false
   }
  }
 ],
 "metadata": {
  "kernelspec": {
   "display_name": "vocal_generating_pack",
   "language": "python",
   "name": "python3"
  },
  "language_info": {
   "codemirror_mode": {
    "name": "ipython",
    "version": 3
   },
   "file_extension": ".py",
   "mimetype": "text/x-python",
   "name": "python",
   "nbconvert_exporter": "python",
   "pygments_lexer": "ipython3",
   "version": "3.10.9"
  }
 },
 "nbformat": 4,
 "nbformat_minor": 1
}
