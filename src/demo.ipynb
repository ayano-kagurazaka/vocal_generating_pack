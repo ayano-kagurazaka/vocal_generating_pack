{
 "cells": [
  {
   "attachments": {},
   "cell_type": "markdown",
   "metadata": {},
   "source": [
    "## 导入库和构建文件架构(如果执行时报SSL connection error的话请关掉steam++等证书类加速器)"
   ]
  },
  {
   "cell_type": "code",
   "execution_count": 1,
   "metadata": {
    "ExecuteTime": {
     "end_time": "2023-06-13T07:00:37.643879Z",
     "start_time": "2023-06-13T07:00:35.907420Z"
    }
   },
   "outputs": [
    {
     "name": "stdout",
     "output_type": "stream",
     "text": [
      "building file structures...\n",
      "done\n"
     ]
    }
   ],
   "source": [
    "from functions import separate_vocal, convert_ncm, apply_so_vits, fuse_vocal_and_instrumental, Path\n",
    "from resource_manager import get_data_from_source"
   ]
  },
  {
   "attachments": {},
   "cell_type": "markdown",
   "metadata": {},
   "source": [
    "## 定义路径"
   ]
  },
  {
   "cell_type": "code",
   "execution_count": 2,
   "metadata": {
    "ExecuteTime": {
     "end_time": "2023-06-13T07:00:37.646399Z",
     "start_time": "2023-06-13T07:00:37.645104Z"
    },
    "collapsed": false
   },
   "outputs": [],
   "source": [
    "SONG_PATH = Path(\"./demo_assets/demo.ncm\")\n",
    "OUT_PATH = Path(\"../files/output/\").joinpath(SONG_PATH.name.rsplit('.')[0])"
   ]
  },
  {
   "attachments": {},
   "cell_type": "markdown",
   "metadata": {},
   "source": [
    "## 下载模型(来源huggingface, 下载可能会较慢, 如果报connection aborted的话请多试几次, 国内用户可以挂代理)"
   ]
  },
  {
   "cell_type": "code",
   "execution_count": 3,
   "metadata": {
    "ExecuteTime": {
     "end_time": "2023-06-13T07:01:01.817544Z",
     "start_time": "2023-06-13T07:00:42.676507Z"
    }
   },
   "outputs": [
    {
     "data": {
      "application/vnd.jupyter.widget-view+json": {
       "model_id": "ef877b4390704c4f885220e3991697e2",
       "version_major": 2,
       "version_minor": 0
      },
      "text/plain": [
       "Fetching 28 files:   0%|          | 0/28 [00:00<?, ?it/s]"
      ]
     },
     "metadata": {},
     "output_type": "display_data"
    },
    {
     "name": "stdout",
     "output_type": "stream",
     "text": [
      "Downloading hdemucs_mmi.yaml (33 bytes)\n"
     ]
    },
    {
     "data": {
      "application/vnd.jupyter.widget-view+json": {
       "model_id": "eb343d52bd1846319db09396120b1e01",
       "version_major": 2,
       "version_minor": 0
      },
      "text/plain": [
       "hdemucs_mmi.yaml:   0%|          | 0.00/33.0 [00:00<?, ?iB/s]"
      ]
     },
     "metadata": {},
     "output_type": "display_data"
    },
    {
     "name": "stdout",
     "output_type": "stream",
     "text": [
      "hdemucs_mmi.yaml downloaded\n",
      "Downloading 75fc33f5-1941ce65.th (167407275 bytes)\n"
     ]
    },
    {
     "data": {
      "application/vnd.jupyter.widget-view+json": {
       "model_id": "7e4f859240314d8fbee3766b94109e01",
       "version_major": 2,
       "version_minor": 0
      },
      "text/plain": [
       "75fc33f5-1941ce65.th:   0%|          | 0.00/167M [00:00<?, ?iB/s]"
      ]
     },
     "metadata": {},
     "output_type": "display_data"
    },
    {
     "name": "stdout",
     "output_type": "stream",
     "text": [
      "75fc33f5-1941ce65.th downloaded\n"
     ]
    }
   ],
   "source": [
    "model_so_vits = get_data_from_source(\"so-vits\", \"model\", \"genshin\", update_cache=False)\n",
    "model_demucs = get_data_from_source(\"demucs\", \"model\", \"hdemucs_mmi\", update_cache=False)"
   ]
  },
  {
   "attachments": {},
   "cell_type": "markdown",
   "metadata": {
    "collapsed": false
   },
   "source": [
    "## 转换格式"
   ]
  },
  {
   "cell_type": "code",
   "execution_count": 4,
   "metadata": {
    "ExecuteTime": {
     "start_time": "2023-06-13T07:00:38.827823Z"
    },
    "collapsed": false
   },
   "outputs": [
    {
     "name": "stdout",
     "output_type": "stream",
     "text": [
      "..\\files\\output\\demo\\demo.mp3\n"
     ]
    }
   ],
   "source": [
    "converted_path = convert_ncm(SONG_PATH, OUT_PATH)\n",
    "print(converted_path)"
   ]
  },
  {
   "attachments": {},
   "cell_type": "markdown",
   "metadata": {},
   "source": [
    "## 利用demucs分离音频"
   ]
  },
  {
   "cell_type": "code",
   "execution_count": 6,
   "metadata": {
    "ExecuteTime": {
     "start_time": "2023-06-13T07:00:38.828651Z"
    }
   },
   "outputs": [
    {
     "name": "stdout",
     "output_type": "stream",
     "text": [
      "['C:\\\\Users\\\\32165\\\\Development\\\\vocal_generating_pack\\\\files\\\\output\\\\demo\\\\demo.mp3', '-o', 'C:\\\\Users\\\\32165\\\\Development\\\\vocal_generating_pack\\\\files\\\\output\\\\demo', '--repo', '../files/models/demucs/hdemucs_mmi', '--device', 'cuda', '--float32', '--segment', '5', '--clip-mode', 'clamp', '--name', 'hdemucs_mmi', '--jobs', '16', '--two-stems', 'vocals']\n",
      "Selected model is a bag of 1 models. You will see that many progress bars per track.\n",
      "Separated tracks will be stored in C:\\Users\\32165\\Development\\vocal_generating_pack\\files\\output\\demo\n",
      "Separating track C:\\Users\\32165\\Development\\vocal_generating_pack\\files\\output\\demo\\demo.mp3\n"
     ]
    },
    {
     "name": "stderr",
     "output_type": "stream",
     "text": [
      "100%|██████████████████████████████████████████████████████████████████████| 251.25/251.25 [00:12<00:00, 20.21seconds/s]\n"
     ]
    },
    {
     "data": {
      "text/html": [
       "<pre style=\"white-space:pre;overflow-x:auto;line-height:normal;font-family:Menlo,'DejaVu Sans Mono',consolas,'Courier New',monospace\"><span style=\"color: #7fbfbf; text-decoration-color: #7fbfbf\">[16:54:59] </span><span style=\"color: #800000; text-decoration-color: #800000\">WARNING </span> <span style=\"font-weight: bold\">[</span><span style=\"color: #00ff00; text-decoration-color: #00ff00; font-weight: bold\">16:54:59</span><span style=\"font-weight: bold\">]</span>                                                                      <a href=\"file://c:\\Users\\32165\\anaconda3\\envs\\vocal_generating_pack\\lib\\warnings.py\" target=\"_blank\"><span style=\"color: #7f7f7f; text-decoration-color: #7f7f7f\">warnings.py</span></a><span style=\"color: #7f7f7f; text-decoration-color: #7f7f7f\">:</span><a href=\"file://c:\\Users\\32165\\anaconda3\\envs\\vocal_generating_pack\\lib\\warnings.py#109\" target=\"_blank\"><span style=\"color: #7f7f7f; text-decoration-color: #7f7f7f\">109</span></a>\n",
       "<span style=\"color: #7fbfbf; text-decoration-color: #7fbfbf\">           </span>         c:\\Users\\<span style=\"color: #008080; text-decoration-color: #008080; font-weight: bold\">32165</span>\\anaconda3\\envs\\vocal_generating_pack\\lib\\site-packages\\torchaudi <span style=\"color: #7f7f7f; text-decoration-color: #7f7f7f\">               </span>\n",
       "<span style=\"color: #7fbfbf; text-decoration-color: #7fbfbf\">           </span>         o\\backend\\utils.py:<span style=\"color: #008080; text-decoration-color: #008080; font-weight: bold\">29</span>: UserWarning: list_audio_backend's return value is        <span style=\"color: #7f7f7f; text-decoration-color: #7f7f7f\">               </span>\n",
       "<span style=\"color: #7fbfbf; text-decoration-color: #7fbfbf\">           </span>         irrelevant when the I/O backend dispatcher is enabled.                          <span style=\"color: #7f7f7f; text-decoration-color: #7f7f7f\">               </span>\n",
       "<span style=\"color: #7fbfbf; text-decoration-color: #7fbfbf\">           </span>           <span style=\"color: #800080; text-decoration-color: #800080; font-weight: bold\">warnings.warn</span><span style=\"font-weight: bold\">(</span><span style=\"color: #008000; text-decoration-color: #008000\">\"list_audio_backend's return value is irrelevant when the I/O </span>  <span style=\"color: #7f7f7f; text-decoration-color: #7f7f7f\">               </span>\n",
       "<span style=\"color: #7fbfbf; text-decoration-color: #7fbfbf\">           </span>         <span style=\"color: #008000; text-decoration-color: #008000\">backend dispatcher is enabled.\"</span><span style=\"font-weight: bold\">)</span>                                                <span style=\"color: #7f7f7f; text-decoration-color: #7f7f7f\">               </span>\n",
       "<span style=\"color: #7fbfbf; text-decoration-color: #7fbfbf\">           </span>                                                                                         <span style=\"color: #7f7f7f; text-decoration-color: #7f7f7f\">               </span>\n",
       "</pre>\n"
      ],
      "text/plain": [
       "\u001B[2;36m[16:54:59]\u001B[0m\u001B[2;36m \u001B[0m\u001B[31mWARNING \u001B[0m \u001B[1m[\u001B[0m\u001B[1;92m16:54:59\u001B[0m\u001B[1m]\u001B[0m                                                                      \u001B]8;id=317732;file://c:\\Users\\32165\\anaconda3\\envs\\vocal_generating_pack\\lib\\warnings.py\u001B\\\u001B[2mwarnings.py\u001B[0m\u001B]8;;\u001B\\\u001B[2m:\u001B[0m\u001B]8;id=751905;file://c:\\Users\\32165\\anaconda3\\envs\\vocal_generating_pack\\lib\\warnings.py#109\u001B\\\u001B[2m109\u001B[0m\u001B]8;;\u001B\\\n",
       "\u001B[2;36m           \u001B[0m         c:\\Users\\\u001B[1;36m32165\u001B[0m\\anaconda3\\envs\\vocal_generating_pack\\lib\\site-packages\\torchaudi \u001B[2m               \u001B[0m\n",
       "\u001B[2;36m           \u001B[0m         o\\backend\\utils.py:\u001B[1;36m29\u001B[0m: UserWarning: list_audio_backend's return value is        \u001B[2m               \u001B[0m\n",
       "\u001B[2;36m           \u001B[0m         irrelevant when the I/O backend dispatcher is enabled.                          \u001B[2m               \u001B[0m\n",
       "\u001B[2;36m           \u001B[0m           \u001B[1;35mwarnings.warn\u001B[0m\u001B[1m(\u001B[0m\u001B[32m\"list_audio_backend's return value is irrelevant when the I/O \u001B[0m  \u001B[2m               \u001B[0m\n",
       "\u001B[2;36m           \u001B[0m         \u001B[32mbackend dispatcher is enabled.\"\u001B[0m\u001B[1m)\u001B[0m                                                \u001B[2m               \u001B[0m\n",
       "\u001B[2;36m           \u001B[0m                                                                                         \u001B[2m               \u001B[0m\n"
      ]
     },
     "metadata": {},
     "output_type": "display_data"
    },
    {
     "name": "stdout",
     "output_type": "stream",
     "text": [
      "converting file to wav...\n",
      "done\n",
      "{'vocal': WindowsPath('../files/output/demo/vocals.wav'), 'instrumental': WindowsPath('../files/output/demo/no_vocals.wav')}\n"
     ]
    }
   ],
   "source": [
    "separated_path = separate_vocal(Path(converted_path), OUT_PATH)\n",
    "print(separated_path)"
   ]
  },
  {
   "attachments": {},
   "cell_type": "markdown",
   "metadata": {},
   "source": [
    "## 利用so-vits处理音频"
   ]
  },
  {
   "cell_type": "code",
   "execution_count": 20,
   "metadata": {
    "ExecuteTime": {
     "start_time": "2023-06-13T07:00:38.829795Z"
    }
   },
   "outputs": [
    {
     "name": "stderr",
     "output_type": "stream",
     "text": [
      "Some weights of the model checkpoint at lengyue233/content-vec-best were not used when initializing HubertModelWithFinalProj: ['encoder.pos_conv_embed.conv.weight_g', 'encoder.pos_conv_embed.conv.weight_v']\n",
      "- This IS expected if you are initializing HubertModelWithFinalProj from the checkpoint of a model trained on another task or with another architecture (e.g. initializing a BertForSequenceClassification model from a BertForPreTraining model).\n",
      "- This IS NOT expected if you are initializing HubertModelWithFinalProj from the checkpoint of a model that you expect to be exactly identical (initializing a BertForSequenceClassification model from a BertForSequenceClassification model).\n",
      "Some weights of HubertModelWithFinalProj were not initialized from the model checkpoint at lengyue233/content-vec-best and are newly initialized: ['encoder.pos_conv_embed.conv.parametrizations.weight.original0', 'encoder.pos_conv_embed.conv.parametrizations.weight.original1']\n",
      "You should probably TRAIN this model on a down-stream task to be able to use it for predictions and inference.\n"
     ]
    },
    {
     "data": {
      "text/html": [
       "<pre style=\"white-space:pre;overflow-x:auto;line-height:normal;font-family:Menlo,'DejaVu Sans Mono',consolas,'Courier New',monospace\"><span style=\"color: #7fbfbf; text-decoration-color: #7fbfbf\">[17:25:44] </span><span style=\"color: #800000; text-decoration-color: #800000\">WARNING </span> <span style=\"font-weight: bold\">[</span><span style=\"color: #00ff00; text-decoration-color: #00ff00; font-weight: bold\">17:25:44</span><span style=\"font-weight: bold\">]</span>                                                                      <a href=\"file://c:\\Users\\32165\\anaconda3\\envs\\vocal_generating_pack\\lib\\warnings.py\" target=\"_blank\"><span style=\"color: #7f7f7f; text-decoration-color: #7f7f7f\">warnings.py</span></a><span style=\"color: #7f7f7f; text-decoration-color: #7f7f7f\">:</span><a href=\"file://c:\\Users\\32165\\anaconda3\\envs\\vocal_generating_pack\\lib\\warnings.py#109\" target=\"_blank\"><span style=\"color: #7f7f7f; text-decoration-color: #7f7f7f\">109</span></a>\n",
       "<span style=\"color: #7fbfbf; text-decoration-color: #7fbfbf\">           </span>         c:\\Users\\<span style=\"color: #008080; text-decoration-color: #008080; font-weight: bold\">32165</span>\\Development\\vocal_generating_pack\\src\\thirdparties\\so_vits_svc_f <span style=\"color: #7f7f7f; text-decoration-color: #7f7f7f\">               </span>\n",
       "<span style=\"color: #7fbfbf; text-decoration-color: #7fbfbf\">           </span>         ork\\modules\\synthesizers.py:<span style=\"color: #008080; text-decoration-color: #008080; font-weight: bold\">81</span>: UserWarning: Unused arguments: <span style=\"font-weight: bold\">{</span><span style=\"color: #008000; text-decoration-color: #008000\">'n_layers_q'</span>:   <span style=\"color: #7f7f7f; text-decoration-color: #7f7f7f\">               </span>\n",
       "<span style=\"color: #7fbfbf; text-decoration-color: #7fbfbf\">           </span>         <span style=\"color: #008080; text-decoration-color: #008080; font-weight: bold\">3</span>, <span style=\"color: #008000; text-decoration-color: #008000\">'use_spectral_norm'</span>: <span style=\"color: #ff0000; text-decoration-color: #ff0000; font-style: italic\">False</span><span style=\"font-weight: bold\">}</span>                                                  <span style=\"color: #7f7f7f; text-decoration-color: #7f7f7f\">               </span>\n",
       "<span style=\"color: #7fbfbf; text-decoration-color: #7fbfbf\">           </span>           <span style=\"color: #800080; text-decoration-color: #800080; font-weight: bold\">warnings.warn</span><span style=\"font-weight: bold\">(</span>f\"Unused arguments: <span style=\"font-weight: bold\">{</span>kwargs<span style=\"font-weight: bold\">}</span>\"<span style=\"font-weight: bold\">)</span>                                  <span style=\"color: #7f7f7f; text-decoration-color: #7f7f7f\">               </span>\n",
       "<span style=\"color: #7fbfbf; text-decoration-color: #7fbfbf\">           </span>                                                                                         <span style=\"color: #7f7f7f; text-decoration-color: #7f7f7f\">               </span>\n",
       "</pre>\n"
      ],
      "text/plain": [
       "\u001B[2;36m[17:25:44]\u001B[0m\u001B[2;36m \u001B[0m\u001B[31mWARNING \u001B[0m \u001B[1m[\u001B[0m\u001B[1;92m17:25:44\u001B[0m\u001B[1m]\u001B[0m                                                                      \u001B]8;id=694377;file://c:\\Users\\32165\\anaconda3\\envs\\vocal_generating_pack\\lib\\warnings.py\u001B\\\u001B[2mwarnings.py\u001B[0m\u001B]8;;\u001B\\\u001B[2m:\u001B[0m\u001B]8;id=419688;file://c:\\Users\\32165\\anaconda3\\envs\\vocal_generating_pack\\lib\\warnings.py#109\u001B\\\u001B[2m109\u001B[0m\u001B]8;;\u001B\\\n",
       "\u001B[2;36m           \u001B[0m         c:\\Users\\\u001B[1;36m32165\u001B[0m\\Development\\vocal_generating_pack\\src\\thirdparties\\so_vits_svc_f \u001B[2m               \u001B[0m\n",
       "\u001B[2;36m           \u001B[0m         ork\\modules\\synthesizers.py:\u001B[1;36m81\u001B[0m: UserWarning: Unused arguments: \u001B[1m{\u001B[0m\u001B[32m'n_layers_q'\u001B[0m:   \u001B[2m               \u001B[0m\n",
       "\u001B[2;36m           \u001B[0m         \u001B[1;36m3\u001B[0m, \u001B[32m'use_spectral_norm'\u001B[0m: \u001B[3;91mFalse\u001B[0m\u001B[1m}\u001B[0m                                                  \u001B[2m               \u001B[0m\n",
       "\u001B[2;36m           \u001B[0m           \u001B[1;35mwarnings.warn\u001B[0m\u001B[1m(\u001B[0mf\"Unused arguments: \u001B[1m{\u001B[0mkwargs\u001B[1m}\u001B[0m\"\u001B[1m)\u001B[0m                                  \u001B[2m               \u001B[0m\n",
       "\u001B[2;36m           \u001B[0m                                                                                         \u001B[2m               \u001B[0m\n"
      ]
     },
     "metadata": {},
     "output_type": "display_data"
    },
    {
     "data": {
      "text/html": [
       "<pre style=\"white-space:pre;overflow-x:auto;line-height:normal;font-family:Menlo,'DejaVu Sans Mono',consolas,'Courier New',monospace\"><span style=\"color: #7fbfbf; text-decoration-color: #7fbfbf\">           </span><span style=\"color: #000080; text-decoration-color: #000080\">INFO    </span> <span style=\"font-weight: bold\">[</span><span style=\"color: #00ff00; text-decoration-color: #00ff00; font-weight: bold\">17:25:44</span><span style=\"font-weight: bold\">]</span> Decoder type: hifi-gan                                           <a href=\"file://c:\\Users\\32165\\Development\\vocal_generating_pack\\src\\thirdparties\\so_vits_svc_fork\\modules\\synthesizers.py\" target=\"_blank\"><span style=\"color: #7f7f7f; text-decoration-color: #7f7f7f\">synthesizers.py</span></a><span style=\"color: #7f7f7f; text-decoration-color: #7f7f7f\">:</span><a href=\"file://c:\\Users\\32165\\Development\\vocal_generating_pack\\src\\thirdparties\\so_vits_svc_fork\\modules\\synthesizers.py#100\" target=\"_blank\"><span style=\"color: #7f7f7f; text-decoration-color: #7f7f7f\">100</span></a>\n",
       "</pre>\n"
      ],
      "text/plain": [
       "\u001B[2;36m          \u001B[0m\u001B[2;36m \u001B[0m\u001B[34mINFO    \u001B[0m \u001B[1m[\u001B[0m\u001B[1;92m17:25:44\u001B[0m\u001B[1m]\u001B[0m Decoder type: hifi-gan                                           \u001B]8;id=967798;file://c:\\Users\\32165\\Development\\vocal_generating_pack\\src\\thirdparties\\so_vits_svc_fork\\modules\\synthesizers.py\u001B\\\u001B[2msynthesizers.py\u001B[0m\u001B]8;;\u001B\\\u001B[2m:\u001B[0m\u001B]8;id=384241;file://c:\\Users\\32165\\Development\\vocal_generating_pack\\src\\thirdparties\\so_vits_svc_fork\\modules\\synthesizers.py#100\u001B\\\u001B[2m100\u001B[0m\u001B]8;;\u001B\\\n"
      ]
     },
     "metadata": {},
     "output_type": "display_data"
    },
    {
     "data": {
      "text/html": [
       "<pre style=\"white-space:pre;overflow-x:auto;line-height:normal;font-family:Menlo,'DejaVu Sans Mono',consolas,'Courier New',monospace\"><span style=\"color: #7fbfbf; text-decoration-color: #7fbfbf\">           </span><span style=\"color: #800000; text-decoration-color: #800000\">WARNING </span> <span style=\"font-weight: bold\">[</span><span style=\"color: #00ff00; text-decoration-color: #00ff00; font-weight: bold\">17:25:44</span><span style=\"font-weight: bold\">]</span>                                                                      <a href=\"file://c:\\Users\\32165\\anaconda3\\envs\\vocal_generating_pack\\lib\\warnings.py\" target=\"_blank\"><span style=\"color: #7f7f7f; text-decoration-color: #7f7f7f\">warnings.py</span></a><span style=\"color: #7f7f7f; text-decoration-color: #7f7f7f\">:</span><a href=\"file://c:\\Users\\32165\\anaconda3\\envs\\vocal_generating_pack\\lib\\warnings.py#109\" target=\"_blank\"><span style=\"color: #7f7f7f; text-decoration-color: #7f7f7f\">109</span></a>\n",
       "<span style=\"color: #7fbfbf; text-decoration-color: #7fbfbf\">           </span>         c:\\Users\\<span style=\"color: #008080; text-decoration-color: #008080; font-weight: bold\">32165</span>\\anaconda3\\envs\\vocal_generating_pack\\lib\\site-packages\\torch\\nn\\ <span style=\"color: #7f7f7f; text-decoration-color: #7f7f7f\">               </span>\n",
       "<span style=\"color: #7fbfbf; text-decoration-color: #7fbfbf\">           </span>         utils\\weight_norm.py:<span style=\"color: #008080; text-decoration-color: #008080; font-weight: bold\">30</span>: UserWarning: torch.nn.utils.weight_norm is deprecated  <span style=\"color: #7f7f7f; text-decoration-color: #7f7f7f\">               </span>\n",
       "<span style=\"color: #7fbfbf; text-decoration-color: #7fbfbf\">           </span>         in favor of torch.nn.utils.parametrizations.weight_norm.                        <span style=\"color: #7f7f7f; text-decoration-color: #7f7f7f\">               </span>\n",
       "<span style=\"color: #7fbfbf; text-decoration-color: #7fbfbf\">           </span>           <span style=\"color: #800080; text-decoration-color: #800080; font-weight: bold\">warnings.warn</span><span style=\"font-weight: bold\">(</span><span style=\"color: #008000; text-decoration-color: #008000\">\"torch.nn.utils.weight_norm is deprecated in favor of </span>          <span style=\"color: #7f7f7f; text-decoration-color: #7f7f7f\">               </span>\n",
       "<span style=\"color: #7fbfbf; text-decoration-color: #7fbfbf\">           </span>         <span style=\"color: #008000; text-decoration-color: #008000\">torch.nn.utils.parametrizations.weight_norm.\"</span><span style=\"font-weight: bold\">)</span>                                  <span style=\"color: #7f7f7f; text-decoration-color: #7f7f7f\">               </span>\n",
       "<span style=\"color: #7fbfbf; text-decoration-color: #7fbfbf\">           </span>                                                                                         <span style=\"color: #7f7f7f; text-decoration-color: #7f7f7f\">               </span>\n",
       "</pre>\n"
      ],
      "text/plain": [
       "\u001B[2;36m          \u001B[0m\u001B[2;36m \u001B[0m\u001B[31mWARNING \u001B[0m \u001B[1m[\u001B[0m\u001B[1;92m17:25:44\u001B[0m\u001B[1m]\u001B[0m                                                                      \u001B]8;id=122673;file://c:\\Users\\32165\\anaconda3\\envs\\vocal_generating_pack\\lib\\warnings.py\u001B\\\u001B[2mwarnings.py\u001B[0m\u001B]8;;\u001B\\\u001B[2m:\u001B[0m\u001B]8;id=891650;file://c:\\Users\\32165\\anaconda3\\envs\\vocal_generating_pack\\lib\\warnings.py#109\u001B\\\u001B[2m109\u001B[0m\u001B]8;;\u001B\\\n",
       "\u001B[2;36m           \u001B[0m         c:\\Users\\\u001B[1;36m32165\u001B[0m\\anaconda3\\envs\\vocal_generating_pack\\lib\\site-packages\\torch\\nn\\ \u001B[2m               \u001B[0m\n",
       "\u001B[2;36m           \u001B[0m         utils\\weight_norm.py:\u001B[1;36m30\u001B[0m: UserWarning: torch.nn.utils.weight_norm is deprecated  \u001B[2m               \u001B[0m\n",
       "\u001B[2;36m           \u001B[0m         in favor of torch.nn.utils.parametrizations.weight_norm.                        \u001B[2m               \u001B[0m\n",
       "\u001B[2;36m           \u001B[0m           \u001B[1;35mwarnings.warn\u001B[0m\u001B[1m(\u001B[0m\u001B[32m\"torch.nn.utils.weight_norm is deprecated in favor of \u001B[0m          \u001B[2m               \u001B[0m\n",
       "\u001B[2;36m           \u001B[0m         \u001B[32mtorch.nn.utils.parametrizations.weight_norm.\"\u001B[0m\u001B[1m)\u001B[0m                                  \u001B[2m               \u001B[0m\n",
       "\u001B[2;36m           \u001B[0m                                                                                         \u001B[2m               \u001B[0m\n"
      ]
     },
     "metadata": {},
     "output_type": "display_data"
    },
    {
     "data": {
      "text/html": [
       "<pre style=\"white-space:pre;overflow-x:auto;line-height:normal;font-family:Menlo,'DejaVu Sans Mono',consolas,'Courier New',monospace\"><span style=\"color: #7fbfbf; text-decoration-color: #7fbfbf\">[17:25:45] </span><span style=\"color: #000080; text-decoration-color: #000080\">INFO    </span> <span style=\"font-weight: bold\">[</span><span style=\"color: #00ff00; text-decoration-color: #00ff00; font-weight: bold\">17:25:45</span><span style=\"font-weight: bold\">]</span> Loaded checkpoint                                                       <a href=\"file://c:\\Users\\32165\\Development\\vocal_generating_pack\\src\\thirdparties\\so_vits_svc_fork\\utils.py\" target=\"_blank\"><span style=\"color: #7f7f7f; text-decoration-color: #7f7f7f\">utils.py</span></a><span style=\"color: #7f7f7f; text-decoration-color: #7f7f7f\">:</span><a href=\"file://c:\\Users\\32165\\Development\\vocal_generating_pack\\src\\thirdparties\\so_vits_svc_fork\\utils.py#287\" target=\"_blank\"><span style=\"color: #7f7f7f; text-decoration-color: #7f7f7f\">287</span></a>\n",
       "<span style=\"color: #7fbfbf; text-decoration-color: #7fbfbf\">           </span>         <span style=\"color: #008000; text-decoration-color: #008000\">'C:/Users/32165/Development/vocal_generating_pack/files/models/so-vits/genshin/hut</span> <span style=\"color: #7f7f7f; text-decoration-color: #7f7f7f\">            </span>\n",
       "<span style=\"color: #7fbfbf; text-decoration-color: #7fbfbf\">           </span>         <span style=\"color: #008000; text-decoration-color: #008000\">ao_G_40000.pth'</span> <span style=\"font-weight: bold\">(</span>epoch <span style=\"color: #008080; text-decoration-color: #008080; font-weight: bold\">976</span><span style=\"font-weight: bold\">)</span>                                                        <span style=\"color: #7f7f7f; text-decoration-color: #7f7f7f\">            </span>\n",
       "</pre>\n"
      ],
      "text/plain": [
       "\u001B[2;36m[17:25:45]\u001B[0m\u001B[2;36m \u001B[0m\u001B[34mINFO    \u001B[0m \u001B[1m[\u001B[0m\u001B[1;92m17:25:45\u001B[0m\u001B[1m]\u001B[0m Loaded checkpoint                                                       \u001B]8;id=934589;file://c:\\Users\\32165\\Development\\vocal_generating_pack\\src\\thirdparties\\so_vits_svc_fork\\utils.py\u001B\\\u001B[2mutils.py\u001B[0m\u001B]8;;\u001B\\\u001B[2m:\u001B[0m\u001B]8;id=654482;file://c:\\Users\\32165\\Development\\vocal_generating_pack\\src\\thirdparties\\so_vits_svc_fork\\utils.py#287\u001B\\\u001B[2m287\u001B[0m\u001B]8;;\u001B\\\n",
       "\u001B[2;36m           \u001B[0m         \u001B[32m'C:/Users/32165/Development/vocal_generating_pack/files/models/so-vits/genshin/hut\u001B[0m \u001B[2m            \u001B[0m\n",
       "\u001B[2;36m           \u001B[0m         \u001B[32mao_G_40000.pth'\u001B[0m \u001B[1m(\u001B[0mepoch \u001B[1;36m976\u001B[0m\u001B[1m)\u001B[0m                                                        \u001B[2m            \u001B[0m\n"
      ]
     },
     "metadata": {},
     "output_type": "display_data"
    },
    {
     "name": "stdout",
     "output_type": "stream",
     "text": [
      "44100 50.0\n",
      "0.5\n"
     ]
    },
    {
     "data": {
      "text/html": [
       "<pre style=\"white-space:pre;overflow-x:auto;line-height:normal;font-family:Menlo,'DejaVu Sans Mono',consolas,'Courier New',monospace\"><span style=\"color: #7fbfbf; text-decoration-color: #7fbfbf\">           </span><span style=\"color: #000080; text-decoration-color: #000080\">INFO    </span> <span style=\"font-weight: bold\">[</span><span style=\"color: #00ff00; text-decoration-color: #00ff00; font-weight: bold\">17:25:45</span><span style=\"font-weight: bold\">]</span> Chunk: <span style=\"color: #800080; text-decoration-color: #800080; font-weight: bold\">Chunk</span><span style=\"font-weight: bold\">(</span>Speech: <span style=\"color: #ff0000; text-decoration-color: #ff0000; font-style: italic\">False</span>, <span style=\"color: #008080; text-decoration-color: #008080; font-weight: bold\">123480.0</span><span style=\"font-weight: bold\">)</span>                                    <a href=\"file://c:\\Users\\32165\\Development\\vocal_generating_pack\\src\\thirdparties\\so_vits_svc_fork\\inference\\core.py\" target=\"_blank\"><span style=\"color: #7f7f7f; text-decoration-color: #7f7f7f\">core.py</span></a><span style=\"color: #7f7f7f; text-decoration-color: #7f7f7f\">:</span><a href=\"file://c:\\Users\\32165\\Development\\vocal_generating_pack\\src\\thirdparties\\so_vits_svc_fork\\inference\\core.py#286\" target=\"_blank\"><span style=\"color: #7f7f7f; text-decoration-color: #7f7f7f\">286</span></a>\n",
       "</pre>\n"
      ],
      "text/plain": [
       "\u001B[2;36m          \u001B[0m\u001B[2;36m \u001B[0m\u001B[34mINFO    \u001B[0m \u001B[1m[\u001B[0m\u001B[1;92m17:25:45\u001B[0m\u001B[1m]\u001B[0m Chunk: \u001B[1;35mChunk\u001B[0m\u001B[1m(\u001B[0mSpeech: \u001B[3;91mFalse\u001B[0m, \u001B[1;36m123480.0\u001B[0m\u001B[1m)\u001B[0m                                    \u001B]8;id=777174;file://c:\\Users\\32165\\Development\\vocal_generating_pack\\src\\thirdparties\\so_vits_svc_fork\\inference\\core.py\u001B\\\u001B[2mcore.py\u001B[0m\u001B]8;;\u001B\\\u001B[2m:\u001B[0m\u001B]8;id=839926;file://c:\\Users\\32165\\Development\\vocal_generating_pack\\src\\thirdparties\\so_vits_svc_fork\\inference\\core.py#286\u001B\\\u001B[2m286\u001B[0m\u001B]8;;\u001B\\\n"
      ]
     },
     "metadata": {},
     "output_type": "display_data"
    },
    {
     "data": {
      "text/html": [
       "<pre style=\"white-space:pre;overflow-x:auto;line-height:normal;font-family:Menlo,'DejaVu Sans Mono',consolas,'Courier New',monospace\"><span style=\"color: #7fbfbf; text-decoration-color: #7fbfbf\">           </span><span style=\"color: #000080; text-decoration-color: #000080\">INFO    </span> <span style=\"font-weight: bold\">[</span><span style=\"color: #00ff00; text-decoration-color: #00ff00; font-weight: bold\">17:25:45</span><span style=\"font-weight: bold\">]</span> Chunk: <span style=\"color: #800080; text-decoration-color: #800080; font-weight: bold\">Chunk</span><span style=\"font-weight: bold\">(</span>Speech: <span style=\"color: #00ff00; text-decoration-color: #00ff00; font-style: italic\">True</span>, <span style=\"color: #008080; text-decoration-color: #008080; font-weight: bold\">17640.0</span><span style=\"font-weight: bold\">)</span>                                      <a href=\"file://c:\\Users\\32165\\Development\\vocal_generating_pack\\src\\thirdparties\\so_vits_svc_fork\\inference\\core.py\" target=\"_blank\"><span style=\"color: #7f7f7f; text-decoration-color: #7f7f7f\">core.py</span></a><span style=\"color: #7f7f7f; text-decoration-color: #7f7f7f\">:</span><a href=\"file://c:\\Users\\32165\\Development\\vocal_generating_pack\\src\\thirdparties\\so_vits_svc_fork\\inference\\core.py#286\" target=\"_blank\"><span style=\"color: #7f7f7f; text-decoration-color: #7f7f7f\">286</span></a>\n",
       "</pre>\n"
      ],
      "text/plain": [
       "\u001B[2;36m          \u001B[0m\u001B[2;36m \u001B[0m\u001B[34mINFO    \u001B[0m \u001B[1m[\u001B[0m\u001B[1;92m17:25:45\u001B[0m\u001B[1m]\u001B[0m Chunk: \u001B[1;35mChunk\u001B[0m\u001B[1m(\u001B[0mSpeech: \u001B[3;92mTrue\u001B[0m, \u001B[1;36m17640.0\u001B[0m\u001B[1m)\u001B[0m                                      \u001B]8;id=935225;file://c:\\Users\\32165\\Development\\vocal_generating_pack\\src\\thirdparties\\so_vits_svc_fork\\inference\\core.py\u001B\\\u001B[2mcore.py\u001B[0m\u001B]8;;\u001B\\\u001B[2m:\u001B[0m\u001B]8;id=864950;file://c:\\Users\\32165\\Development\\vocal_generating_pack\\src\\thirdparties\\so_vits_svc_fork\\inference\\core.py#286\u001B\\\u001B[2m286\u001B[0m\u001B]8;;\u001B\\\n"
      ]
     },
     "metadata": {},
     "output_type": "display_data"
    },
    {
     "data": {
      "text/html": [
       "<pre style=\"white-space:pre;overflow-x:auto;line-height:normal;font-family:Menlo,'DejaVu Sans Mono',consolas,'Courier New',monospace\"><span style=\"color: #7fbfbf; text-decoration-color: #7fbfbf\">           </span><span style=\"color: #000080; text-decoration-color: #000080\">INFO    </span> <span style=\"font-weight: bold\">[</span><span style=\"color: #00ff00; text-decoration-color: #00ff00; font-weight: bold\">17:25:45</span><span style=\"font-weight: bold\">]</span> F0 inference time:       <span style=\"color: #008080; text-decoration-color: #008080; font-weight: bold\">0.</span>017s, RTF: <span style=\"color: #008080; text-decoration-color: #008080; font-weight: bold\">0.012</span>                                <a href=\"file://c:\\Users\\32165\\Development\\vocal_generating_pack\\src\\thirdparties\\so_vits_svc_fork\\f0.py\" target=\"_blank\"><span style=\"color: #7f7f7f; text-decoration-color: #7f7f7f\">f0.py</span></a><span style=\"color: #7f7f7f; text-decoration-color: #7f7f7f\">:</span><a href=\"file://c:\\Users\\32165\\Development\\vocal_generating_pack\\src\\thirdparties\\so_vits_svc_fork\\f0.py#214\" target=\"_blank\"><span style=\"color: #7f7f7f; text-decoration-color: #7f7f7f\">214</span></a>\n",
       "</pre>\n"
      ],
      "text/plain": [
       "\u001B[2;36m          \u001B[0m\u001B[2;36m \u001B[0m\u001B[34mINFO    \u001B[0m \u001B[1m[\u001B[0m\u001B[1;92m17:25:45\u001B[0m\u001B[1m]\u001B[0m F0 inference time:       \u001B[1;36m0.\u001B[0m017s, RTF: \u001B[1;36m0.012\u001B[0m                                \u001B]8;id=889305;file://c:\\Users\\32165\\Development\\vocal_generating_pack\\src\\thirdparties\\so_vits_svc_fork\\f0.py\u001B\\\u001B[2mf0.py\u001B[0m\u001B]8;;\u001B\\\u001B[2m:\u001B[0m\u001B]8;id=712068;file://c:\\Users\\32165\\Development\\vocal_generating_pack\\src\\thirdparties\\so_vits_svc_fork\\f0.py#214\u001B\\\u001B[2m214\u001B[0m\u001B]8;;\u001B\\\n"
      ]
     },
     "metadata": {},
     "output_type": "display_data"
    },
    {
     "data": {
      "text/html": [
       "<pre style=\"white-space:pre;overflow-x:auto;line-height:normal;font-family:Menlo,'DejaVu Sans Mono',consolas,'Courier New',monospace\"><span style=\"color: #7fbfbf; text-decoration-color: #7fbfbf\">           </span><span style=\"color: #800000; text-decoration-color: #800000\">WARNING </span> <span style=\"font-weight: bold\">[</span><span style=\"color: #00ff00; text-decoration-color: #00ff00; font-weight: bold\">17:25:45</span><span style=\"font-weight: bold\">]</span>                                                                      <a href=\"file://c:\\Users\\32165\\anaconda3\\envs\\vocal_generating_pack\\lib\\warnings.py\" target=\"_blank\"><span style=\"color: #7f7f7f; text-decoration-color: #7f7f7f\">warnings.py</span></a><span style=\"color: #7f7f7f; text-decoration-color: #7f7f7f\">:</span><a href=\"file://c:\\Users\\32165\\anaconda3\\envs\\vocal_generating_pack\\lib\\warnings.py#109\" target=\"_blank\"><span style=\"color: #7f7f7f; text-decoration-color: #7f7f7f\">109</span></a>\n",
       "<span style=\"color: #7fbfbf; text-decoration-color: #7fbfbf\">           </span>         c:\\Users\\<span style=\"color: #008080; text-decoration-color: #008080; font-weight: bold\">32165</span>\\Development\\vocal_generating_pack\\src\\thirdparties\\so_vits_svc_f <span style=\"color: #7f7f7f; text-decoration-color: #7f7f7f\">               </span>\n",
       "<span style=\"color: #7fbfbf; text-decoration-color: #7fbfbf\">           </span>         ork\\utils.py:<span style=\"color: #008080; text-decoration-color: #008080; font-weight: bold\">205</span>: UserWarning: legacy_final_proj is deprecated                  <span style=\"color: #7f7f7f; text-decoration-color: #7f7f7f\">               </span>\n",
       "<span style=\"color: #7fbfbf; text-decoration-color: #7fbfbf\">           </span>           <span style=\"color: #800080; text-decoration-color: #800080; font-weight: bold\">warnings.warn</span><span style=\"font-weight: bold\">(</span><span style=\"color: #008000; text-decoration-color: #008000\">\"legacy_final_proj is deprecated\"</span><span style=\"font-weight: bold\">)</span>                              <span style=\"color: #7f7f7f; text-decoration-color: #7f7f7f\">               </span>\n",
       "<span style=\"color: #7fbfbf; text-decoration-color: #7fbfbf\">           </span>                                                                                         <span style=\"color: #7f7f7f; text-decoration-color: #7f7f7f\">               </span>\n",
       "</pre>\n"
      ],
      "text/plain": [
       "\u001B[2;36m          \u001B[0m\u001B[2;36m \u001B[0m\u001B[31mWARNING \u001B[0m \u001B[1m[\u001B[0m\u001B[1;92m17:25:45\u001B[0m\u001B[1m]\u001B[0m                                                                      \u001B]8;id=653577;file://c:\\Users\\32165\\anaconda3\\envs\\vocal_generating_pack\\lib\\warnings.py\u001B\\\u001B[2mwarnings.py\u001B[0m\u001B]8;;\u001B\\\u001B[2m:\u001B[0m\u001B]8;id=763991;file://c:\\Users\\32165\\anaconda3\\envs\\vocal_generating_pack\\lib\\warnings.py#109\u001B\\\u001B[2m109\u001B[0m\u001B]8;;\u001B\\\n",
       "\u001B[2;36m           \u001B[0m         c:\\Users\\\u001B[1;36m32165\u001B[0m\\Development\\vocal_generating_pack\\src\\thirdparties\\so_vits_svc_f \u001B[2m               \u001B[0m\n",
       "\u001B[2;36m           \u001B[0m         ork\\utils.py:\u001B[1;36m205\u001B[0m: UserWarning: legacy_final_proj is deprecated                  \u001B[2m               \u001B[0m\n",
       "\u001B[2;36m           \u001B[0m           \u001B[1;35mwarnings.warn\u001B[0m\u001B[1m(\u001B[0m\u001B[32m\"legacy_final_proj is deprecated\"\u001B[0m\u001B[1m)\u001B[0m                              \u001B[2m               \u001B[0m\n",
       "\u001B[2;36m           \u001B[0m                                                                                         \u001B[2m               \u001B[0m\n"
      ]
     },
     "metadata": {},
     "output_type": "display_data"
    },
    {
     "data": {
      "text/html": [
       "<pre style=\"white-space:pre;overflow-x:auto;line-height:normal;font-family:Menlo,'DejaVu Sans Mono',consolas,'Courier New',monospace\"><span style=\"color: #7fbfbf; text-decoration-color: #7fbfbf\">           </span><span style=\"color: #000080; text-decoration-color: #000080\">INFO    </span> <span style=\"font-weight: bold\">[</span><span style=\"color: #00ff00; text-decoration-color: #00ff00; font-weight: bold\">17:25:45</span><span style=\"font-weight: bold\">]</span> HuBERT inference time  : <span style=\"color: #008080; text-decoration-color: #008080; font-weight: bold\">0.</span>034s, RTF: <span style=\"color: #008080; text-decoration-color: #008080; font-weight: bold\">0.024</span>                             <a href=\"file://c:\\Users\\32165\\Development\\vocal_generating_pack\\src\\thirdparties\\so_vits_svc_fork\\utils.py\" target=\"_blank\"><span style=\"color: #7f7f7f; text-decoration-color: #7f7f7f\">utils.py</span></a><span style=\"color: #7f7f7f; text-decoration-color: #7f7f7f\">:</span><a href=\"file://c:\\Users\\32165\\Development\\vocal_generating_pack\\src\\thirdparties\\so_vits_svc_fork\\utils.py#214\" target=\"_blank\"><span style=\"color: #7f7f7f; text-decoration-color: #7f7f7f\">214</span></a>\n",
       "</pre>\n"
      ],
      "text/plain": [
       "\u001B[2;36m          \u001B[0m\u001B[2;36m \u001B[0m\u001B[34mINFO    \u001B[0m \u001B[1m[\u001B[0m\u001B[1;92m17:25:45\u001B[0m\u001B[1m]\u001B[0m HuBERT inference time  : \u001B[1;36m0.\u001B[0m034s, RTF: \u001B[1;36m0.024\u001B[0m                             \u001B]8;id=385384;file://c:\\Users\\32165\\Development\\vocal_generating_pack\\src\\thirdparties\\so_vits_svc_fork\\utils.py\u001B\\\u001B[2mutils.py\u001B[0m\u001B]8;;\u001B\\\u001B[2m:\u001B[0m\u001B]8;id=417405;file://c:\\Users\\32165\\Development\\vocal_generating_pack\\src\\thirdparties\\so_vits_svc_fork\\utils.py#214\u001B\\\u001B[2m214\u001B[0m\u001B]8;;\u001B\\\n"
      ]
     },
     "metadata": {},
     "output_type": "display_data"
    },
    {
     "data": {
      "text/html": [
       "<pre style=\"white-space:pre;overflow-x:auto;line-height:normal;font-family:Menlo,'DejaVu Sans Mono',consolas,'Courier New',monospace\"><span style=\"color: #7fbfbf; text-decoration-color: #7fbfbf\">           </span><span style=\"color: #000080; text-decoration-color: #000080\">INFO    </span> <span style=\"font-weight: bold\">[</span><span style=\"color: #00ff00; text-decoration-color: #00ff00; font-weight: bold\">17:25:45</span><span style=\"font-weight: bold\">]</span> Inferece time: <span style=\"color: #008080; text-decoration-color: #008080; font-weight: bold\">0.</span>08s, RTF: <span style=\"color: #008080; text-decoration-color: #008080; font-weight: bold\">0.06</span>                                          <a href=\"file://c:\\Users\\32165\\Development\\vocal_generating_pack\\src\\thirdparties\\so_vits_svc_fork\\inference\\core.py\" target=\"_blank\"><span style=\"color: #7f7f7f; text-decoration-color: #7f7f7f\">core.py</span></a><span style=\"color: #7f7f7f; text-decoration-color: #7f7f7f\">:</span><a href=\"file://c:\\Users\\32165\\Development\\vocal_generating_pack\\src\\thirdparties\\so_vits_svc_fork\\inference\\core.py#238\" target=\"_blank\"><span style=\"color: #7f7f7f; text-decoration-color: #7f7f7f\">238</span></a>\n",
       "</pre>\n"
      ],
      "text/plain": [
       "\u001B[2;36m          \u001B[0m\u001B[2;36m \u001B[0m\u001B[34mINFO    \u001B[0m \u001B[1m[\u001B[0m\u001B[1;92m17:25:45\u001B[0m\u001B[1m]\u001B[0m Inferece time: \u001B[1;36m0.\u001B[0m08s, RTF: \u001B[1;36m0.06\u001B[0m                                          \u001B]8;id=343363;file://c:\\Users\\32165\\Development\\vocal_generating_pack\\src\\thirdparties\\so_vits_svc_fork\\inference\\core.py\u001B\\\u001B[2mcore.py\u001B[0m\u001B]8;;\u001B\\\u001B[2m:\u001B[0m\u001B]8;id=991261;file://c:\\Users\\32165\\Development\\vocal_generating_pack\\src\\thirdparties\\so_vits_svc_fork\\inference\\core.py#238\u001B\\\u001B[2m238\u001B[0m\u001B]8;;\u001B\\\n"
      ]
     },
     "metadata": {},
     "output_type": "display_data"
    },
    {
     "data": {
      "text/html": [
       "<pre style=\"white-space:pre;overflow-x:auto;line-height:normal;font-family:Menlo,'DejaVu Sans Mono',consolas,'Courier New',monospace\"><span style=\"color: #7fbfbf; text-decoration-color: #7fbfbf\">           </span><span style=\"color: #000080; text-decoration-color: #000080\">INFO    </span> <span style=\"font-weight: bold\">[</span><span style=\"color: #00ff00; text-decoration-color: #00ff00; font-weight: bold\">17:25:45</span><span style=\"font-weight: bold\">]</span> Chunk: <span style=\"color: #800080; text-decoration-color: #800080; font-weight: bold\">Chunk</span><span style=\"font-weight: bold\">(</span>Speech: <span style=\"color: #ff0000; text-decoration-color: #ff0000; font-style: italic\">False</span>, <span style=\"color: #008080; text-decoration-color: #008080; font-weight: bold\">26460.0</span><span style=\"font-weight: bold\">)</span>                                     <a href=\"file://c:\\Users\\32165\\Development\\vocal_generating_pack\\src\\thirdparties\\so_vits_svc_fork\\inference\\core.py\" target=\"_blank\"><span style=\"color: #7f7f7f; text-decoration-color: #7f7f7f\">core.py</span></a><span style=\"color: #7f7f7f; text-decoration-color: #7f7f7f\">:</span><a href=\"file://c:\\Users\\32165\\Development\\vocal_generating_pack\\src\\thirdparties\\so_vits_svc_fork\\inference\\core.py#286\" target=\"_blank\"><span style=\"color: #7f7f7f; text-decoration-color: #7f7f7f\">286</span></a>\n",
       "</pre>\n"
      ],
      "text/plain": [
       "\u001B[2;36m          \u001B[0m\u001B[2;36m \u001B[0m\u001B[34mINFO    \u001B[0m \u001B[1m[\u001B[0m\u001B[1;92m17:25:45\u001B[0m\u001B[1m]\u001B[0m Chunk: \u001B[1;35mChunk\u001B[0m\u001B[1m(\u001B[0mSpeech: \u001B[3;91mFalse\u001B[0m, \u001B[1;36m26460.0\u001B[0m\u001B[1m)\u001B[0m                                     \u001B]8;id=40357;file://c:\\Users\\32165\\Development\\vocal_generating_pack\\src\\thirdparties\\so_vits_svc_fork\\inference\\core.py\u001B\\\u001B[2mcore.py\u001B[0m\u001B]8;;\u001B\\\u001B[2m:\u001B[0m\u001B]8;id=909779;file://c:\\Users\\32165\\Development\\vocal_generating_pack\\src\\thirdparties\\so_vits_svc_fork\\inference\\core.py#286\u001B\\\u001B[2m286\u001B[0m\u001B]8;;\u001B\\\n"
      ]
     },
     "metadata": {},
     "output_type": "display_data"
    },
    {
     "data": {
      "text/html": [
       "<pre style=\"white-space:pre;overflow-x:auto;line-height:normal;font-family:Menlo,'DejaVu Sans Mono',consolas,'Courier New',monospace\"><span style=\"color: #7fbfbf; text-decoration-color: #7fbfbf\">           </span><span style=\"color: #000080; text-decoration-color: #000080\">INFO    </span> <span style=\"font-weight: bold\">[</span><span style=\"color: #00ff00; text-decoration-color: #00ff00; font-weight: bold\">17:25:45</span><span style=\"font-weight: bold\">]</span> Chunk: <span style=\"color: #800080; text-decoration-color: #800080; font-weight: bold\">Chunk</span><span style=\"font-weight: bold\">(</span>Speech: <span style=\"color: #00ff00; text-decoration-color: #00ff00; font-style: italic\">True</span>, <span style=\"color: #008080; text-decoration-color: #008080; font-weight: bold\">335160.0</span><span style=\"font-weight: bold\">)</span>                                     <a href=\"file://c:\\Users\\32165\\Development\\vocal_generating_pack\\src\\thirdparties\\so_vits_svc_fork\\inference\\core.py\" target=\"_blank\"><span style=\"color: #7f7f7f; text-decoration-color: #7f7f7f\">core.py</span></a><span style=\"color: #7f7f7f; text-decoration-color: #7f7f7f\">:</span><a href=\"file://c:\\Users\\32165\\Development\\vocal_generating_pack\\src\\thirdparties\\so_vits_svc_fork\\inference\\core.py#286\" target=\"_blank\"><span style=\"color: #7f7f7f; text-decoration-color: #7f7f7f\">286</span></a>\n",
       "</pre>\n"
      ],
      "text/plain": [
       "\u001B[2;36m          \u001B[0m\u001B[2;36m \u001B[0m\u001B[34mINFO    \u001B[0m \u001B[1m[\u001B[0m\u001B[1;92m17:25:45\u001B[0m\u001B[1m]\u001B[0m Chunk: \u001B[1;35mChunk\u001B[0m\u001B[1m(\u001B[0mSpeech: \u001B[3;92mTrue\u001B[0m, \u001B[1;36m335160.0\u001B[0m\u001B[1m)\u001B[0m                                     \u001B]8;id=255835;file://c:\\Users\\32165\\Development\\vocal_generating_pack\\src\\thirdparties\\so_vits_svc_fork\\inference\\core.py\u001B\\\u001B[2mcore.py\u001B[0m\u001B]8;;\u001B\\\u001B[2m:\u001B[0m\u001B]8;id=551670;file://c:\\Users\\32165\\Development\\vocal_generating_pack\\src\\thirdparties\\so_vits_svc_fork\\inference\\core.py#286\u001B\\\u001B[2m286\u001B[0m\u001B]8;;\u001B\\\n"
      ]
     },
     "metadata": {},
     "output_type": "display_data"
    },
    {
     "data": {
      "text/html": [
       "<pre style=\"white-space:pre;overflow-x:auto;line-height:normal;font-family:Menlo,'DejaVu Sans Mono',consolas,'Courier New',monospace\"><span style=\"color: #7fbfbf; text-decoration-color: #7fbfbf\">           </span><span style=\"color: #000080; text-decoration-color: #000080\">INFO    </span> <span style=\"font-weight: bold\">[</span><span style=\"color: #00ff00; text-decoration-color: #00ff00; font-weight: bold\">17:25:45</span><span style=\"font-weight: bold\">]</span> F0 inference time:       <span style=\"color: #008080; text-decoration-color: #008080; font-weight: bold\">0.</span>192s, RTF: <span style=\"color: #008080; text-decoration-color: #008080; font-weight: bold\">0.022</span>                                <a href=\"file://c:\\Users\\32165\\Development\\vocal_generating_pack\\src\\thirdparties\\so_vits_svc_fork\\f0.py\" target=\"_blank\"><span style=\"color: #7f7f7f; text-decoration-color: #7f7f7f\">f0.py</span></a><span style=\"color: #7f7f7f; text-decoration-color: #7f7f7f\">:</span><a href=\"file://c:\\Users\\32165\\Development\\vocal_generating_pack\\src\\thirdparties\\so_vits_svc_fork\\f0.py#214\" target=\"_blank\"><span style=\"color: #7f7f7f; text-decoration-color: #7f7f7f\">214</span></a>\n",
       "</pre>\n"
      ],
      "text/plain": [
       "\u001B[2;36m          \u001B[0m\u001B[2;36m \u001B[0m\u001B[34mINFO    \u001B[0m \u001B[1m[\u001B[0m\u001B[1;92m17:25:45\u001B[0m\u001B[1m]\u001B[0m F0 inference time:       \u001B[1;36m0.\u001B[0m192s, RTF: \u001B[1;36m0.022\u001B[0m                                \u001B]8;id=933566;file://c:\\Users\\32165\\Development\\vocal_generating_pack\\src\\thirdparties\\so_vits_svc_fork\\f0.py\u001B\\\u001B[2mf0.py\u001B[0m\u001B]8;;\u001B\\\u001B[2m:\u001B[0m\u001B]8;id=486681;file://c:\\Users\\32165\\Development\\vocal_generating_pack\\src\\thirdparties\\so_vits_svc_fork\\f0.py#214\u001B\\\u001B[2m214\u001B[0m\u001B]8;;\u001B\\\n"
      ]
     },
     "metadata": {},
     "output_type": "display_data"
    },
    {
     "data": {
      "text/html": [
       "<pre style=\"white-space:pre;overflow-x:auto;line-height:normal;font-family:Menlo,'DejaVu Sans Mono',consolas,'Courier New',monospace\"><span style=\"color: #7fbfbf; text-decoration-color: #7fbfbf\">           </span><span style=\"color: #000080; text-decoration-color: #000080\">INFO    </span> <span style=\"font-weight: bold\">[</span><span style=\"color: #00ff00; text-decoration-color: #00ff00; font-weight: bold\">17:25:45</span><span style=\"font-weight: bold\">]</span> HuBERT inference time  : <span style=\"color: #008080; text-decoration-color: #008080; font-weight: bold\">0.</span>020s, RTF: <span style=\"color: #008080; text-decoration-color: #008080; font-weight: bold\">0.002</span>                             <a href=\"file://c:\\Users\\32165\\Development\\vocal_generating_pack\\src\\thirdparties\\so_vits_svc_fork\\utils.py\" target=\"_blank\"><span style=\"color: #7f7f7f; text-decoration-color: #7f7f7f\">utils.py</span></a><span style=\"color: #7f7f7f; text-decoration-color: #7f7f7f\">:</span><a href=\"file://c:\\Users\\32165\\Development\\vocal_generating_pack\\src\\thirdparties\\so_vits_svc_fork\\utils.py#214\" target=\"_blank\"><span style=\"color: #7f7f7f; text-decoration-color: #7f7f7f\">214</span></a>\n",
       "</pre>\n"
      ],
      "text/plain": [
       "\u001B[2;36m          \u001B[0m\u001B[2;36m \u001B[0m\u001B[34mINFO    \u001B[0m \u001B[1m[\u001B[0m\u001B[1;92m17:25:45\u001B[0m\u001B[1m]\u001B[0m HuBERT inference time  : \u001B[1;36m0.\u001B[0m020s, RTF: \u001B[1;36m0.002\u001B[0m                             \u001B]8;id=911348;file://c:\\Users\\32165\\Development\\vocal_generating_pack\\src\\thirdparties\\so_vits_svc_fork\\utils.py\u001B\\\u001B[2mutils.py\u001B[0m\u001B]8;;\u001B\\\u001B[2m:\u001B[0m\u001B]8;id=828901;file://c:\\Users\\32165\\Development\\vocal_generating_pack\\src\\thirdparties\\so_vits_svc_fork\\utils.py#214\u001B\\\u001B[2m214\u001B[0m\u001B]8;;\u001B\\\n"
      ]
     },
     "metadata": {},
     "output_type": "display_data"
    },
    {
     "data": {
      "text/html": [
       "<pre style=\"white-space:pre;overflow-x:auto;line-height:normal;font-family:Menlo,'DejaVu Sans Mono',consolas,'Courier New',monospace\"><span style=\"color: #7fbfbf; text-decoration-color: #7fbfbf\">[17:25:46] </span><span style=\"color: #000080; text-decoration-color: #000080\">INFO    </span> <span style=\"font-weight: bold\">[</span><span style=\"color: #00ff00; text-decoration-color: #00ff00; font-weight: bold\">17:25:46</span><span style=\"font-weight: bold\">]</span> Inferece time: <span style=\"color: #008080; text-decoration-color: #008080; font-weight: bold\">0.</span>07s, RTF: <span style=\"color: #008080; text-decoration-color: #008080; font-weight: bold\">0.01</span>                                          <a href=\"file://c:\\Users\\32165\\Development\\vocal_generating_pack\\src\\thirdparties\\so_vits_svc_fork\\inference\\core.py\" target=\"_blank\"><span style=\"color: #7f7f7f; text-decoration-color: #7f7f7f\">core.py</span></a><span style=\"color: #7f7f7f; text-decoration-color: #7f7f7f\">:</span><a href=\"file://c:\\Users\\32165\\Development\\vocal_generating_pack\\src\\thirdparties\\so_vits_svc_fork\\inference\\core.py#238\" target=\"_blank\"><span style=\"color: #7f7f7f; text-decoration-color: #7f7f7f\">238</span></a>\n",
       "</pre>\n"
      ],
      "text/plain": [
       "\u001B[2;36m[17:25:46]\u001B[0m\u001B[2;36m \u001B[0m\u001B[34mINFO    \u001B[0m \u001B[1m[\u001B[0m\u001B[1;92m17:25:46\u001B[0m\u001B[1m]\u001B[0m Inferece time: \u001B[1;36m0.\u001B[0m07s, RTF: \u001B[1;36m0.01\u001B[0m                                          \u001B]8;id=144591;file://c:\\Users\\32165\\Development\\vocal_generating_pack\\src\\thirdparties\\so_vits_svc_fork\\inference\\core.py\u001B\\\u001B[2mcore.py\u001B[0m\u001B]8;;\u001B\\\u001B[2m:\u001B[0m\u001B]8;id=354907;file://c:\\Users\\32165\\Development\\vocal_generating_pack\\src\\thirdparties\\so_vits_svc_fork\\inference\\core.py#238\u001B\\\u001B[2m238\u001B[0m\u001B]8;;\u001B\\\n"
      ]
     },
     "metadata": {},
     "output_type": "display_data"
    },
    {
     "data": {
      "text/html": [
       "<pre style=\"white-space:pre;overflow-x:auto;line-height:normal;font-family:Menlo,'DejaVu Sans Mono',consolas,'Courier New',monospace\"><span style=\"color: #7fbfbf; text-decoration-color: #7fbfbf\">           </span><span style=\"color: #000080; text-decoration-color: #000080\">INFO    </span> <span style=\"font-weight: bold\">[</span><span style=\"color: #00ff00; text-decoration-color: #00ff00; font-weight: bold\">17:25:46</span><span style=\"font-weight: bold\">]</span> Chunk: <span style=\"color: #800080; text-decoration-color: #800080; font-weight: bold\">Chunk</span><span style=\"font-weight: bold\">(</span>Speech: <span style=\"color: #ff0000; text-decoration-color: #ff0000; font-style: italic\">False</span>, <span style=\"color: #008080; text-decoration-color: #008080; font-weight: bold\">238140.0</span><span style=\"font-weight: bold\">)</span>                                    <a href=\"file://c:\\Users\\32165\\Development\\vocal_generating_pack\\src\\thirdparties\\so_vits_svc_fork\\inference\\core.py\" target=\"_blank\"><span style=\"color: #7f7f7f; text-decoration-color: #7f7f7f\">core.py</span></a><span style=\"color: #7f7f7f; text-decoration-color: #7f7f7f\">:</span><a href=\"file://c:\\Users\\32165\\Development\\vocal_generating_pack\\src\\thirdparties\\so_vits_svc_fork\\inference\\core.py#286\" target=\"_blank\"><span style=\"color: #7f7f7f; text-decoration-color: #7f7f7f\">286</span></a>\n",
       "</pre>\n"
      ],
      "text/plain": [
       "\u001B[2;36m          \u001B[0m\u001B[2;36m \u001B[0m\u001B[34mINFO    \u001B[0m \u001B[1m[\u001B[0m\u001B[1;92m17:25:46\u001B[0m\u001B[1m]\u001B[0m Chunk: \u001B[1;35mChunk\u001B[0m\u001B[1m(\u001B[0mSpeech: \u001B[3;91mFalse\u001B[0m, \u001B[1;36m238140.0\u001B[0m\u001B[1m)\u001B[0m                                    \u001B]8;id=149900;file://c:\\Users\\32165\\Development\\vocal_generating_pack\\src\\thirdparties\\so_vits_svc_fork\\inference\\core.py\u001B\\\u001B[2mcore.py\u001B[0m\u001B]8;;\u001B\\\u001B[2m:\u001B[0m\u001B]8;id=289249;file://c:\\Users\\32165\\Development\\vocal_generating_pack\\src\\thirdparties\\so_vits_svc_fork\\inference\\core.py#286\u001B\\\u001B[2m286\u001B[0m\u001B]8;;\u001B\\\n"
      ]
     },
     "metadata": {},
     "output_type": "display_data"
    },
    {
     "data": {
      "text/html": [
       "<pre style=\"white-space:pre;overflow-x:auto;line-height:normal;font-family:Menlo,'DejaVu Sans Mono',consolas,'Courier New',monospace\"><span style=\"color: #7fbfbf; text-decoration-color: #7fbfbf\">           </span><span style=\"color: #000080; text-decoration-color: #000080\">INFO    </span> <span style=\"font-weight: bold\">[</span><span style=\"color: #00ff00; text-decoration-color: #00ff00; font-weight: bold\">17:25:46</span><span style=\"font-weight: bold\">]</span> Chunk: <span style=\"color: #800080; text-decoration-color: #800080; font-weight: bold\">Chunk</span><span style=\"font-weight: bold\">(</span>Speech: <span style=\"color: #00ff00; text-decoration-color: #00ff00; font-style: italic\">True</span>, <span style=\"color: #008080; text-decoration-color: #008080; font-weight: bold\">8820.0</span><span style=\"font-weight: bold\">)</span>                                       <a href=\"file://c:\\Users\\32165\\Development\\vocal_generating_pack\\src\\thirdparties\\so_vits_svc_fork\\inference\\core.py\" target=\"_blank\"><span style=\"color: #7f7f7f; text-decoration-color: #7f7f7f\">core.py</span></a><span style=\"color: #7f7f7f; text-decoration-color: #7f7f7f\">:</span><a href=\"file://c:\\Users\\32165\\Development\\vocal_generating_pack\\src\\thirdparties\\so_vits_svc_fork\\inference\\core.py#286\" target=\"_blank\"><span style=\"color: #7f7f7f; text-decoration-color: #7f7f7f\">286</span></a>\n",
       "</pre>\n"
      ],
      "text/plain": [
       "\u001B[2;36m          \u001B[0m\u001B[2;36m \u001B[0m\u001B[34mINFO    \u001B[0m \u001B[1m[\u001B[0m\u001B[1;92m17:25:46\u001B[0m\u001B[1m]\u001B[0m Chunk: \u001B[1;35mChunk\u001B[0m\u001B[1m(\u001B[0mSpeech: \u001B[3;92mTrue\u001B[0m, \u001B[1;36m8820.0\u001B[0m\u001B[1m)\u001B[0m                                       \u001B]8;id=240697;file://c:\\Users\\32165\\Development\\vocal_generating_pack\\src\\thirdparties\\so_vits_svc_fork\\inference\\core.py\u001B\\\u001B[2mcore.py\u001B[0m\u001B]8;;\u001B\\\u001B[2m:\u001B[0m\u001B]8;id=843853;file://c:\\Users\\32165\\Development\\vocal_generating_pack\\src\\thirdparties\\so_vits_svc_fork\\inference\\core.py#286\u001B\\\u001B[2m286\u001B[0m\u001B]8;;\u001B\\\n"
      ]
     },
     "metadata": {},
     "output_type": "display_data"
    },
    {
     "data": {
      "text/html": [
       "<pre style=\"white-space:pre;overflow-x:auto;line-height:normal;font-family:Menlo,'DejaVu Sans Mono',consolas,'Courier New',monospace\"><span style=\"color: #7fbfbf; text-decoration-color: #7fbfbf\">           </span><span style=\"color: #000080; text-decoration-color: #000080\">INFO    </span> <span style=\"font-weight: bold\">[</span><span style=\"color: #00ff00; text-decoration-color: #00ff00; font-weight: bold\">17:25:46</span><span style=\"font-weight: bold\">]</span> F0 inference time:       <span style=\"color: #008080; text-decoration-color: #008080; font-weight: bold\">0.</span>017s, RTF: <span style=\"color: #008080; text-decoration-color: #008080; font-weight: bold\">0.014</span>                                <a href=\"file://c:\\Users\\32165\\Development\\vocal_generating_pack\\src\\thirdparties\\so_vits_svc_fork\\f0.py\" target=\"_blank\"><span style=\"color: #7f7f7f; text-decoration-color: #7f7f7f\">f0.py</span></a><span style=\"color: #7f7f7f; text-decoration-color: #7f7f7f\">:</span><a href=\"file://c:\\Users\\32165\\Development\\vocal_generating_pack\\src\\thirdparties\\so_vits_svc_fork\\f0.py#214\" target=\"_blank\"><span style=\"color: #7f7f7f; text-decoration-color: #7f7f7f\">214</span></a>\n",
       "</pre>\n"
      ],
      "text/plain": [
       "\u001B[2;36m          \u001B[0m\u001B[2;36m \u001B[0m\u001B[34mINFO    \u001B[0m \u001B[1m[\u001B[0m\u001B[1;92m17:25:46\u001B[0m\u001B[1m]\u001B[0m F0 inference time:       \u001B[1;36m0.\u001B[0m017s, RTF: \u001B[1;36m0.014\u001B[0m                                \u001B]8;id=93707;file://c:\\Users\\32165\\Development\\vocal_generating_pack\\src\\thirdparties\\so_vits_svc_fork\\f0.py\u001B\\\u001B[2mf0.py\u001B[0m\u001B]8;;\u001B\\\u001B[2m:\u001B[0m\u001B]8;id=713363;file://c:\\Users\\32165\\Development\\vocal_generating_pack\\src\\thirdparties\\so_vits_svc_fork\\f0.py#214\u001B\\\u001B[2m214\u001B[0m\u001B]8;;\u001B\\\n"
      ]
     },
     "metadata": {},
     "output_type": "display_data"
    },
    {
     "data": {
      "text/html": [
       "<pre style=\"white-space:pre;overflow-x:auto;line-height:normal;font-family:Menlo,'DejaVu Sans Mono',consolas,'Courier New',monospace\"><span style=\"color: #7fbfbf; text-decoration-color: #7fbfbf\">           </span><span style=\"color: #000080; text-decoration-color: #000080\">INFO    </span> <span style=\"font-weight: bold\">[</span><span style=\"color: #00ff00; text-decoration-color: #00ff00; font-weight: bold\">17:25:46</span><span style=\"font-weight: bold\">]</span> HuBERT inference time  : <span style=\"color: #008080; text-decoration-color: #008080; font-weight: bold\">0.</span>026s, RTF: <span style=\"color: #008080; text-decoration-color: #008080; font-weight: bold\">0.021</span>                             <a href=\"file://c:\\Users\\32165\\Development\\vocal_generating_pack\\src\\thirdparties\\so_vits_svc_fork\\utils.py\" target=\"_blank\"><span style=\"color: #7f7f7f; text-decoration-color: #7f7f7f\">utils.py</span></a><span style=\"color: #7f7f7f; text-decoration-color: #7f7f7f\">:</span><a href=\"file://c:\\Users\\32165\\Development\\vocal_generating_pack\\src\\thirdparties\\so_vits_svc_fork\\utils.py#214\" target=\"_blank\"><span style=\"color: #7f7f7f; text-decoration-color: #7f7f7f\">214</span></a>\n",
       "</pre>\n"
      ],
      "text/plain": [
       "\u001B[2;36m          \u001B[0m\u001B[2;36m \u001B[0m\u001B[34mINFO    \u001B[0m \u001B[1m[\u001B[0m\u001B[1;92m17:25:46\u001B[0m\u001B[1m]\u001B[0m HuBERT inference time  : \u001B[1;36m0.\u001B[0m026s, RTF: \u001B[1;36m0.021\u001B[0m                             \u001B]8;id=237643;file://c:\\Users\\32165\\Development\\vocal_generating_pack\\src\\thirdparties\\so_vits_svc_fork\\utils.py\u001B\\\u001B[2mutils.py\u001B[0m\u001B]8;;\u001B\\\u001B[2m:\u001B[0m\u001B]8;id=330562;file://c:\\Users\\32165\\Development\\vocal_generating_pack\\src\\thirdparties\\so_vits_svc_fork\\utils.py#214\u001B\\\u001B[2m214\u001B[0m\u001B]8;;\u001B\\\n"
      ]
     },
     "metadata": {},
     "output_type": "display_data"
    },
    {
     "data": {
      "text/html": [
       "<pre style=\"white-space:pre;overflow-x:auto;line-height:normal;font-family:Menlo,'DejaVu Sans Mono',consolas,'Courier New',monospace\"><span style=\"color: #7fbfbf; text-decoration-color: #7fbfbf\">           </span><span style=\"color: #000080; text-decoration-color: #000080\">INFO    </span> <span style=\"font-weight: bold\">[</span><span style=\"color: #00ff00; text-decoration-color: #00ff00; font-weight: bold\">17:25:46</span><span style=\"font-weight: bold\">]</span> Inferece time: <span style=\"color: #008080; text-decoration-color: #008080; font-weight: bold\">0.</span>07s, RTF: <span style=\"color: #008080; text-decoration-color: #008080; font-weight: bold\">0.06</span>                                          <a href=\"file://c:\\Users\\32165\\Development\\vocal_generating_pack\\src\\thirdparties\\so_vits_svc_fork\\inference\\core.py\" target=\"_blank\"><span style=\"color: #7f7f7f; text-decoration-color: #7f7f7f\">core.py</span></a><span style=\"color: #7f7f7f; text-decoration-color: #7f7f7f\">:</span><a href=\"file://c:\\Users\\32165\\Development\\vocal_generating_pack\\src\\thirdparties\\so_vits_svc_fork\\inference\\core.py#238\" target=\"_blank\"><span style=\"color: #7f7f7f; text-decoration-color: #7f7f7f\">238</span></a>\n",
       "</pre>\n"
      ],
      "text/plain": [
       "\u001B[2;36m          \u001B[0m\u001B[2;36m \u001B[0m\u001B[34mINFO    \u001B[0m \u001B[1m[\u001B[0m\u001B[1;92m17:25:46\u001B[0m\u001B[1m]\u001B[0m Inferece time: \u001B[1;36m0.\u001B[0m07s, RTF: \u001B[1;36m0.06\u001B[0m                                          \u001B]8;id=55187;file://c:\\Users\\32165\\Development\\vocal_generating_pack\\src\\thirdparties\\so_vits_svc_fork\\inference\\core.py\u001B\\\u001B[2mcore.py\u001B[0m\u001B]8;;\u001B\\\u001B[2m:\u001B[0m\u001B]8;id=258002;file://c:\\Users\\32165\\Development\\vocal_generating_pack\\src\\thirdparties\\so_vits_svc_fork\\inference\\core.py#238\u001B\\\u001B[2m238\u001B[0m\u001B]8;;\u001B\\\n"
      ]
     },
     "metadata": {},
     "output_type": "display_data"
    },
    {
     "data": {
      "text/html": [
       "<pre style=\"white-space:pre;overflow-x:auto;line-height:normal;font-family:Menlo,'DejaVu Sans Mono',consolas,'Courier New',monospace\"><span style=\"color: #7fbfbf; text-decoration-color: #7fbfbf\">           </span><span style=\"color: #000080; text-decoration-color: #000080\">INFO    </span> <span style=\"font-weight: bold\">[</span><span style=\"color: #00ff00; text-decoration-color: #00ff00; font-weight: bold\">17:25:46</span><span style=\"font-weight: bold\">]</span> Chunk: <span style=\"color: #800080; text-decoration-color: #800080; font-weight: bold\">Chunk</span><span style=\"font-weight: bold\">(</span>Speech: <span style=\"color: #ff0000; text-decoration-color: #ff0000; font-style: italic\">False</span>, <span style=\"color: #008080; text-decoration-color: #008080; font-weight: bold\">26460.0</span><span style=\"font-weight: bold\">)</span>                                     <a href=\"file://c:\\Users\\32165\\Development\\vocal_generating_pack\\src\\thirdparties\\so_vits_svc_fork\\inference\\core.py\" target=\"_blank\"><span style=\"color: #7f7f7f; text-decoration-color: #7f7f7f\">core.py</span></a><span style=\"color: #7f7f7f; text-decoration-color: #7f7f7f\">:</span><a href=\"file://c:\\Users\\32165\\Development\\vocal_generating_pack\\src\\thirdparties\\so_vits_svc_fork\\inference\\core.py#286\" target=\"_blank\"><span style=\"color: #7f7f7f; text-decoration-color: #7f7f7f\">286</span></a>\n",
       "</pre>\n"
      ],
      "text/plain": [
       "\u001B[2;36m          \u001B[0m\u001B[2;36m \u001B[0m\u001B[34mINFO    \u001B[0m \u001B[1m[\u001B[0m\u001B[1;92m17:25:46\u001B[0m\u001B[1m]\u001B[0m Chunk: \u001B[1;35mChunk\u001B[0m\u001B[1m(\u001B[0mSpeech: \u001B[3;91mFalse\u001B[0m, \u001B[1;36m26460.0\u001B[0m\u001B[1m)\u001B[0m                                     \u001B]8;id=95977;file://c:\\Users\\32165\\Development\\vocal_generating_pack\\src\\thirdparties\\so_vits_svc_fork\\inference\\core.py\u001B\\\u001B[2mcore.py\u001B[0m\u001B]8;;\u001B\\\u001B[2m:\u001B[0m\u001B]8;id=424701;file://c:\\Users\\32165\\Development\\vocal_generating_pack\\src\\thirdparties\\so_vits_svc_fork\\inference\\core.py#286\u001B\\\u001B[2m286\u001B[0m\u001B]8;;\u001B\\\n"
      ]
     },
     "metadata": {},
     "output_type": "display_data"
    },
    {
     "data": {
      "text/html": [
       "<pre style=\"white-space:pre;overflow-x:auto;line-height:normal;font-family:Menlo,'DejaVu Sans Mono',consolas,'Courier New',monospace\"><span style=\"color: #7fbfbf; text-decoration-color: #7fbfbf\">           </span><span style=\"color: #000080; text-decoration-color: #000080\">INFO    </span> <span style=\"font-weight: bold\">[</span><span style=\"color: #00ff00; text-decoration-color: #00ff00; font-weight: bold\">17:25:46</span><span style=\"font-weight: bold\">]</span> Chunk: <span style=\"color: #800080; text-decoration-color: #800080; font-weight: bold\">Chunk</span><span style=\"font-weight: bold\">(</span>Speech: <span style=\"color: #00ff00; text-decoration-color: #00ff00; font-style: italic\">True</span>, <span style=\"color: #008080; text-decoration-color: #008080; font-weight: bold\">26460.0</span><span style=\"font-weight: bold\">)</span>                                      <a href=\"file://c:\\Users\\32165\\Development\\vocal_generating_pack\\src\\thirdparties\\so_vits_svc_fork\\inference\\core.py\" target=\"_blank\"><span style=\"color: #7f7f7f; text-decoration-color: #7f7f7f\">core.py</span></a><span style=\"color: #7f7f7f; text-decoration-color: #7f7f7f\">:</span><a href=\"file://c:\\Users\\32165\\Development\\vocal_generating_pack\\src\\thirdparties\\so_vits_svc_fork\\inference\\core.py#286\" target=\"_blank\"><span style=\"color: #7f7f7f; text-decoration-color: #7f7f7f\">286</span></a>\n",
       "</pre>\n"
      ],
      "text/plain": [
       "\u001B[2;36m          \u001B[0m\u001B[2;36m \u001B[0m\u001B[34mINFO    \u001B[0m \u001B[1m[\u001B[0m\u001B[1;92m17:25:46\u001B[0m\u001B[1m]\u001B[0m Chunk: \u001B[1;35mChunk\u001B[0m\u001B[1m(\u001B[0mSpeech: \u001B[3;92mTrue\u001B[0m, \u001B[1;36m26460.0\u001B[0m\u001B[1m)\u001B[0m                                      \u001B]8;id=476210;file://c:\\Users\\32165\\Development\\vocal_generating_pack\\src\\thirdparties\\so_vits_svc_fork\\inference\\core.py\u001B\\\u001B[2mcore.py\u001B[0m\u001B]8;;\u001B\\\u001B[2m:\u001B[0m\u001B]8;id=795363;file://c:\\Users\\32165\\Development\\vocal_generating_pack\\src\\thirdparties\\so_vits_svc_fork\\inference\\core.py#286\u001B\\\u001B[2m286\u001B[0m\u001B]8;;\u001B\\\n"
      ]
     },
     "metadata": {},
     "output_type": "display_data"
    },
    {
     "data": {
      "text/html": [
       "<pre style=\"white-space:pre;overflow-x:auto;line-height:normal;font-family:Menlo,'DejaVu Sans Mono',consolas,'Courier New',monospace\"><span style=\"color: #7fbfbf; text-decoration-color: #7fbfbf\">           </span><span style=\"color: #000080; text-decoration-color: #000080\">INFO    </span> <span style=\"font-weight: bold\">[</span><span style=\"color: #00ff00; text-decoration-color: #00ff00; font-weight: bold\">17:25:46</span><span style=\"font-weight: bold\">]</span> F0 inference time:       <span style=\"color: #008080; text-decoration-color: #008080; font-weight: bold\">0.</span>050s, RTF: <span style=\"color: #008080; text-decoration-color: #008080; font-weight: bold\">0.031</span>                                <a href=\"file://c:\\Users\\32165\\Development\\vocal_generating_pack\\src\\thirdparties\\so_vits_svc_fork\\f0.py\" target=\"_blank\"><span style=\"color: #7f7f7f; text-decoration-color: #7f7f7f\">f0.py</span></a><span style=\"color: #7f7f7f; text-decoration-color: #7f7f7f\">:</span><a href=\"file://c:\\Users\\32165\\Development\\vocal_generating_pack\\src\\thirdparties\\so_vits_svc_fork\\f0.py#214\" target=\"_blank\"><span style=\"color: #7f7f7f; text-decoration-color: #7f7f7f\">214</span></a>\n",
       "</pre>\n"
      ],
      "text/plain": [
       "\u001B[2;36m          \u001B[0m\u001B[2;36m \u001B[0m\u001B[34mINFO    \u001B[0m \u001B[1m[\u001B[0m\u001B[1;92m17:25:46\u001B[0m\u001B[1m]\u001B[0m F0 inference time:       \u001B[1;36m0.\u001B[0m050s, RTF: \u001B[1;36m0.031\u001B[0m                                \u001B]8;id=763142;file://c:\\Users\\32165\\Development\\vocal_generating_pack\\src\\thirdparties\\so_vits_svc_fork\\f0.py\u001B\\\u001B[2mf0.py\u001B[0m\u001B]8;;\u001B\\\u001B[2m:\u001B[0m\u001B]8;id=629704;file://c:\\Users\\32165\\Development\\vocal_generating_pack\\src\\thirdparties\\so_vits_svc_fork\\f0.py#214\u001B\\\u001B[2m214\u001B[0m\u001B]8;;\u001B\\\n"
      ]
     },
     "metadata": {},
     "output_type": "display_data"
    },
    {
     "data": {
      "text/html": [
       "<pre style=\"white-space:pre;overflow-x:auto;line-height:normal;font-family:Menlo,'DejaVu Sans Mono',consolas,'Courier New',monospace\"><span style=\"color: #7fbfbf; text-decoration-color: #7fbfbf\">           </span><span style=\"color: #000080; text-decoration-color: #000080\">INFO    </span> <span style=\"font-weight: bold\">[</span><span style=\"color: #00ff00; text-decoration-color: #00ff00; font-weight: bold\">17:25:46</span><span style=\"font-weight: bold\">]</span> HuBERT inference time  : <span style=\"color: #008080; text-decoration-color: #008080; font-weight: bold\">0.</span>029s, RTF: <span style=\"color: #008080; text-decoration-color: #008080; font-weight: bold\">0.018</span>                             <a href=\"file://c:\\Users\\32165\\Development\\vocal_generating_pack\\src\\thirdparties\\so_vits_svc_fork\\utils.py\" target=\"_blank\"><span style=\"color: #7f7f7f; text-decoration-color: #7f7f7f\">utils.py</span></a><span style=\"color: #7f7f7f; text-decoration-color: #7f7f7f\">:</span><a href=\"file://c:\\Users\\32165\\Development\\vocal_generating_pack\\src\\thirdparties\\so_vits_svc_fork\\utils.py#214\" target=\"_blank\"><span style=\"color: #7f7f7f; text-decoration-color: #7f7f7f\">214</span></a>\n",
       "</pre>\n"
      ],
      "text/plain": [
       "\u001B[2;36m          \u001B[0m\u001B[2;36m \u001B[0m\u001B[34mINFO    \u001B[0m \u001B[1m[\u001B[0m\u001B[1;92m17:25:46\u001B[0m\u001B[1m]\u001B[0m HuBERT inference time  : \u001B[1;36m0.\u001B[0m029s, RTF: \u001B[1;36m0.018\u001B[0m                             \u001B]8;id=90870;file://c:\\Users\\32165\\Development\\vocal_generating_pack\\src\\thirdparties\\so_vits_svc_fork\\utils.py\u001B\\\u001B[2mutils.py\u001B[0m\u001B]8;;\u001B\\\u001B[2m:\u001B[0m\u001B]8;id=548569;file://c:\\Users\\32165\\Development\\vocal_generating_pack\\src\\thirdparties\\so_vits_svc_fork\\utils.py#214\u001B\\\u001B[2m214\u001B[0m\u001B]8;;\u001B\\\n"
      ]
     },
     "metadata": {},
     "output_type": "display_data"
    },
    {
     "data": {
      "text/html": [
       "<pre style=\"white-space:pre;overflow-x:auto;line-height:normal;font-family:Menlo,'DejaVu Sans Mono',consolas,'Courier New',monospace\"><span style=\"color: #7fbfbf; text-decoration-color: #7fbfbf\">           </span><span style=\"color: #000080; text-decoration-color: #000080\">INFO    </span> <span style=\"font-weight: bold\">[</span><span style=\"color: #00ff00; text-decoration-color: #00ff00; font-weight: bold\">17:25:46</span><span style=\"font-weight: bold\">]</span> Inferece time: <span style=\"color: #008080; text-decoration-color: #008080; font-weight: bold\">0.</span>09s, RTF: <span style=\"color: #008080; text-decoration-color: #008080; font-weight: bold\">0.05</span>                                          <a href=\"file://c:\\Users\\32165\\Development\\vocal_generating_pack\\src\\thirdparties\\so_vits_svc_fork\\inference\\core.py\" target=\"_blank\"><span style=\"color: #7f7f7f; text-decoration-color: #7f7f7f\">core.py</span></a><span style=\"color: #7f7f7f; text-decoration-color: #7f7f7f\">:</span><a href=\"file://c:\\Users\\32165\\Development\\vocal_generating_pack\\src\\thirdparties\\so_vits_svc_fork\\inference\\core.py#238\" target=\"_blank\"><span style=\"color: #7f7f7f; text-decoration-color: #7f7f7f\">238</span></a>\n",
       "</pre>\n"
      ],
      "text/plain": [
       "\u001B[2;36m          \u001B[0m\u001B[2;36m \u001B[0m\u001B[34mINFO    \u001B[0m \u001B[1m[\u001B[0m\u001B[1;92m17:25:46\u001B[0m\u001B[1m]\u001B[0m Inferece time: \u001B[1;36m0.\u001B[0m09s, RTF: \u001B[1;36m0.05\u001B[0m                                          \u001B]8;id=117097;file://c:\\Users\\32165\\Development\\vocal_generating_pack\\src\\thirdparties\\so_vits_svc_fork\\inference\\core.py\u001B\\\u001B[2mcore.py\u001B[0m\u001B]8;;\u001B\\\u001B[2m:\u001B[0m\u001B]8;id=496028;file://c:\\Users\\32165\\Development\\vocal_generating_pack\\src\\thirdparties\\so_vits_svc_fork\\inference\\core.py#238\u001B\\\u001B[2m238\u001B[0m\u001B]8;;\u001B\\\n"
      ]
     },
     "metadata": {},
     "output_type": "display_data"
    },
    {
     "data": {
      "text/html": [
       "<pre style=\"white-space:pre;overflow-x:auto;line-height:normal;font-family:Menlo,'DejaVu Sans Mono',consolas,'Courier New',monospace\"><span style=\"color: #7fbfbf; text-decoration-color: #7fbfbf\">           </span><span style=\"color: #000080; text-decoration-color: #000080\">INFO    </span> <span style=\"font-weight: bold\">[</span><span style=\"color: #00ff00; text-decoration-color: #00ff00; font-weight: bold\">17:25:46</span><span style=\"font-weight: bold\">]</span> Chunk: <span style=\"color: #800080; text-decoration-color: #800080; font-weight: bold\">Chunk</span><span style=\"font-weight: bold\">(</span>Speech: <span style=\"color: #ff0000; text-decoration-color: #ff0000; font-style: italic\">False</span>, <span style=\"color: #008080; text-decoration-color: #008080; font-weight: bold\">61740.0</span><span style=\"font-weight: bold\">)</span>                                     <a href=\"file://c:\\Users\\32165\\Development\\vocal_generating_pack\\src\\thirdparties\\so_vits_svc_fork\\inference\\core.py\" target=\"_blank\"><span style=\"color: #7f7f7f; text-decoration-color: #7f7f7f\">core.py</span></a><span style=\"color: #7f7f7f; text-decoration-color: #7f7f7f\">:</span><a href=\"file://c:\\Users\\32165\\Development\\vocal_generating_pack\\src\\thirdparties\\so_vits_svc_fork\\inference\\core.py#286\" target=\"_blank\"><span style=\"color: #7f7f7f; text-decoration-color: #7f7f7f\">286</span></a>\n",
       "</pre>\n"
      ],
      "text/plain": [
       "\u001B[2;36m          \u001B[0m\u001B[2;36m \u001B[0m\u001B[34mINFO    \u001B[0m \u001B[1m[\u001B[0m\u001B[1;92m17:25:46\u001B[0m\u001B[1m]\u001B[0m Chunk: \u001B[1;35mChunk\u001B[0m\u001B[1m(\u001B[0mSpeech: \u001B[3;91mFalse\u001B[0m, \u001B[1;36m61740.0\u001B[0m\u001B[1m)\u001B[0m                                     \u001B]8;id=367364;file://c:\\Users\\32165\\Development\\vocal_generating_pack\\src\\thirdparties\\so_vits_svc_fork\\inference\\core.py\u001B\\\u001B[2mcore.py\u001B[0m\u001B]8;;\u001B\\\u001B[2m:\u001B[0m\u001B]8;id=631978;file://c:\\Users\\32165\\Development\\vocal_generating_pack\\src\\thirdparties\\so_vits_svc_fork\\inference\\core.py#286\u001B\\\u001B[2m286\u001B[0m\u001B]8;;\u001B\\\n"
      ]
     },
     "metadata": {},
     "output_type": "display_data"
    },
    {
     "data": {
      "text/html": [
       "<pre style=\"white-space:pre;overflow-x:auto;line-height:normal;font-family:Menlo,'DejaVu Sans Mono',consolas,'Courier New',monospace\"><span style=\"color: #7fbfbf; text-decoration-color: #7fbfbf\">           </span><span style=\"color: #000080; text-decoration-color: #000080\">INFO    </span> <span style=\"font-weight: bold\">[</span><span style=\"color: #00ff00; text-decoration-color: #00ff00; font-weight: bold\">17:25:46</span><span style=\"font-weight: bold\">]</span> Chunk: <span style=\"color: #800080; text-decoration-color: #800080; font-weight: bold\">Chunk</span><span style=\"font-weight: bold\">(</span>Speech: <span style=\"color: #00ff00; text-decoration-color: #00ff00; font-style: italic\">True</span>, <span style=\"color: #008080; text-decoration-color: #008080; font-weight: bold\">26460.0</span><span style=\"font-weight: bold\">)</span>                                      <a href=\"file://c:\\Users\\32165\\Development\\vocal_generating_pack\\src\\thirdparties\\so_vits_svc_fork\\inference\\core.py\" target=\"_blank\"><span style=\"color: #7f7f7f; text-decoration-color: #7f7f7f\">core.py</span></a><span style=\"color: #7f7f7f; text-decoration-color: #7f7f7f\">:</span><a href=\"file://c:\\Users\\32165\\Development\\vocal_generating_pack\\src\\thirdparties\\so_vits_svc_fork\\inference\\core.py#286\" target=\"_blank\"><span style=\"color: #7f7f7f; text-decoration-color: #7f7f7f\">286</span></a>\n",
       "</pre>\n"
      ],
      "text/plain": [
       "\u001B[2;36m          \u001B[0m\u001B[2;36m \u001B[0m\u001B[34mINFO    \u001B[0m \u001B[1m[\u001B[0m\u001B[1;92m17:25:46\u001B[0m\u001B[1m]\u001B[0m Chunk: \u001B[1;35mChunk\u001B[0m\u001B[1m(\u001B[0mSpeech: \u001B[3;92mTrue\u001B[0m, \u001B[1;36m26460.0\u001B[0m\u001B[1m)\u001B[0m                                      \u001B]8;id=987604;file://c:\\Users\\32165\\Development\\vocal_generating_pack\\src\\thirdparties\\so_vits_svc_fork\\inference\\core.py\u001B\\\u001B[2mcore.py\u001B[0m\u001B]8;;\u001B\\\u001B[2m:\u001B[0m\u001B]8;id=31020;file://c:\\Users\\32165\\Development\\vocal_generating_pack\\src\\thirdparties\\so_vits_svc_fork\\inference\\core.py#286\u001B\\\u001B[2m286\u001B[0m\u001B]8;;\u001B\\\n"
      ]
     },
     "metadata": {},
     "output_type": "display_data"
    },
    {
     "data": {
      "text/html": [
       "<pre style=\"white-space:pre;overflow-x:auto;line-height:normal;font-family:Menlo,'DejaVu Sans Mono',consolas,'Courier New',monospace\"><span style=\"color: #7fbfbf; text-decoration-color: #7fbfbf\">           </span><span style=\"color: #000080; text-decoration-color: #000080\">INFO    </span> <span style=\"font-weight: bold\">[</span><span style=\"color: #00ff00; text-decoration-color: #00ff00; font-weight: bold\">17:25:46</span><span style=\"font-weight: bold\">]</span> F0 inference time:       <span style=\"color: #008080; text-decoration-color: #008080; font-weight: bold\">0.</span>046s, RTF: <span style=\"color: #008080; text-decoration-color: #008080; font-weight: bold\">0.029</span>                                <a href=\"file://c:\\Users\\32165\\Development\\vocal_generating_pack\\src\\thirdparties\\so_vits_svc_fork\\f0.py\" target=\"_blank\"><span style=\"color: #7f7f7f; text-decoration-color: #7f7f7f\">f0.py</span></a><span style=\"color: #7f7f7f; text-decoration-color: #7f7f7f\">:</span><a href=\"file://c:\\Users\\32165\\Development\\vocal_generating_pack\\src\\thirdparties\\so_vits_svc_fork\\f0.py#214\" target=\"_blank\"><span style=\"color: #7f7f7f; text-decoration-color: #7f7f7f\">214</span></a>\n",
       "</pre>\n"
      ],
      "text/plain": [
       "\u001B[2;36m          \u001B[0m\u001B[2;36m \u001B[0m\u001B[34mINFO    \u001B[0m \u001B[1m[\u001B[0m\u001B[1;92m17:25:46\u001B[0m\u001B[1m]\u001B[0m F0 inference time:       \u001B[1;36m0.\u001B[0m046s, RTF: \u001B[1;36m0.029\u001B[0m                                \u001B]8;id=198564;file://c:\\Users\\32165\\Development\\vocal_generating_pack\\src\\thirdparties\\so_vits_svc_fork\\f0.py\u001B\\\u001B[2mf0.py\u001B[0m\u001B]8;;\u001B\\\u001B[2m:\u001B[0m\u001B]8;id=530163;file://c:\\Users\\32165\\Development\\vocal_generating_pack\\src\\thirdparties\\so_vits_svc_fork\\f0.py#214\u001B\\\u001B[2m214\u001B[0m\u001B]8;;\u001B\\\n"
      ]
     },
     "metadata": {},
     "output_type": "display_data"
    },
    {
     "data": {
      "text/html": [
       "<pre style=\"white-space:pre;overflow-x:auto;line-height:normal;font-family:Menlo,'DejaVu Sans Mono',consolas,'Courier New',monospace\"><span style=\"color: #7fbfbf; text-decoration-color: #7fbfbf\">           </span><span style=\"color: #000080; text-decoration-color: #000080\">INFO    </span> <span style=\"font-weight: bold\">[</span><span style=\"color: #00ff00; text-decoration-color: #00ff00; font-weight: bold\">17:25:46</span><span style=\"font-weight: bold\">]</span> HuBERT inference time  : <span style=\"color: #008080; text-decoration-color: #008080; font-weight: bold\">0.</span>026s, RTF: <span style=\"color: #008080; text-decoration-color: #008080; font-weight: bold\">0.017</span>                             <a href=\"file://c:\\Users\\32165\\Development\\vocal_generating_pack\\src\\thirdparties\\so_vits_svc_fork\\utils.py\" target=\"_blank\"><span style=\"color: #7f7f7f; text-decoration-color: #7f7f7f\">utils.py</span></a><span style=\"color: #7f7f7f; text-decoration-color: #7f7f7f\">:</span><a href=\"file://c:\\Users\\32165\\Development\\vocal_generating_pack\\src\\thirdparties\\so_vits_svc_fork\\utils.py#214\" target=\"_blank\"><span style=\"color: #7f7f7f; text-decoration-color: #7f7f7f\">214</span></a>\n",
       "</pre>\n"
      ],
      "text/plain": [
       "\u001B[2;36m          \u001B[0m\u001B[2;36m \u001B[0m\u001B[34mINFO    \u001B[0m \u001B[1m[\u001B[0m\u001B[1;92m17:25:46\u001B[0m\u001B[1m]\u001B[0m HuBERT inference time  : \u001B[1;36m0.\u001B[0m026s, RTF: \u001B[1;36m0.017\u001B[0m                             \u001B]8;id=24791;file://c:\\Users\\32165\\Development\\vocal_generating_pack\\src\\thirdparties\\so_vits_svc_fork\\utils.py\u001B\\\u001B[2mutils.py\u001B[0m\u001B]8;;\u001B\\\u001B[2m:\u001B[0m\u001B]8;id=59641;file://c:\\Users\\32165\\Development\\vocal_generating_pack\\src\\thirdparties\\so_vits_svc_fork\\utils.py#214\u001B\\\u001B[2m214\u001B[0m\u001B]8;;\u001B\\\n"
      ]
     },
     "metadata": {},
     "output_type": "display_data"
    },
    {
     "data": {
      "text/html": [
       "<pre style=\"white-space:pre;overflow-x:auto;line-height:normal;font-family:Menlo,'DejaVu Sans Mono',consolas,'Courier New',monospace\"><span style=\"color: #7fbfbf; text-decoration-color: #7fbfbf\">           </span><span style=\"color: #000080; text-decoration-color: #000080\">INFO    </span> <span style=\"font-weight: bold\">[</span><span style=\"color: #00ff00; text-decoration-color: #00ff00; font-weight: bold\">17:25:46</span><span style=\"font-weight: bold\">]</span> Inferece time: <span style=\"color: #008080; text-decoration-color: #008080; font-weight: bold\">0.</span>07s, RTF: <span style=\"color: #008080; text-decoration-color: #008080; font-weight: bold\">0.05</span>                                          <a href=\"file://c:\\Users\\32165\\Development\\vocal_generating_pack\\src\\thirdparties\\so_vits_svc_fork\\inference\\core.py\" target=\"_blank\"><span style=\"color: #7f7f7f; text-decoration-color: #7f7f7f\">core.py</span></a><span style=\"color: #7f7f7f; text-decoration-color: #7f7f7f\">:</span><a href=\"file://c:\\Users\\32165\\Development\\vocal_generating_pack\\src\\thirdparties\\so_vits_svc_fork\\inference\\core.py#238\" target=\"_blank\"><span style=\"color: #7f7f7f; text-decoration-color: #7f7f7f\">238</span></a>\n",
       "</pre>\n"
      ],
      "text/plain": [
       "\u001B[2;36m          \u001B[0m\u001B[2;36m \u001B[0m\u001B[34mINFO    \u001B[0m \u001B[1m[\u001B[0m\u001B[1;92m17:25:46\u001B[0m\u001B[1m]\u001B[0m Inferece time: \u001B[1;36m0.\u001B[0m07s, RTF: \u001B[1;36m0.05\u001B[0m                                          \u001B]8;id=707505;file://c:\\Users\\32165\\Development\\vocal_generating_pack\\src\\thirdparties\\so_vits_svc_fork\\inference\\core.py\u001B\\\u001B[2mcore.py\u001B[0m\u001B]8;;\u001B\\\u001B[2m:\u001B[0m\u001B]8;id=156054;file://c:\\Users\\32165\\Development\\vocal_generating_pack\\src\\thirdparties\\so_vits_svc_fork\\inference\\core.py#238\u001B\\\u001B[2m238\u001B[0m\u001B]8;;\u001B\\\n"
      ]
     },
     "metadata": {},
     "output_type": "display_data"
    },
    {
     "data": {
      "text/html": [
       "<pre style=\"white-space:pre;overflow-x:auto;line-height:normal;font-family:Menlo,'DejaVu Sans Mono',consolas,'Courier New',monospace\"><span style=\"color: #7fbfbf; text-decoration-color: #7fbfbf\">           </span><span style=\"color: #000080; text-decoration-color: #000080\">INFO    </span> <span style=\"font-weight: bold\">[</span><span style=\"color: #00ff00; text-decoration-color: #00ff00; font-weight: bold\">17:25:46</span><span style=\"font-weight: bold\">]</span> Chunk: <span style=\"color: #800080; text-decoration-color: #800080; font-weight: bold\">Chunk</span><span style=\"font-weight: bold\">(</span>Speech: <span style=\"color: #ff0000; text-decoration-color: #ff0000; font-style: italic\">False</span>, <span style=\"color: #008080; text-decoration-color: #008080; font-weight: bold\">17640.0</span><span style=\"font-weight: bold\">)</span>                                     <a href=\"file://c:\\Users\\32165\\Development\\vocal_generating_pack\\src\\thirdparties\\so_vits_svc_fork\\inference\\core.py\" target=\"_blank\"><span style=\"color: #7f7f7f; text-decoration-color: #7f7f7f\">core.py</span></a><span style=\"color: #7f7f7f; text-decoration-color: #7f7f7f\">:</span><a href=\"file://c:\\Users\\32165\\Development\\vocal_generating_pack\\src\\thirdparties\\so_vits_svc_fork\\inference\\core.py#286\" target=\"_blank\"><span style=\"color: #7f7f7f; text-decoration-color: #7f7f7f\">286</span></a>\n",
       "</pre>\n"
      ],
      "text/plain": [
       "\u001B[2;36m          \u001B[0m\u001B[2;36m \u001B[0m\u001B[34mINFO    \u001B[0m \u001B[1m[\u001B[0m\u001B[1;92m17:25:46\u001B[0m\u001B[1m]\u001B[0m Chunk: \u001B[1;35mChunk\u001B[0m\u001B[1m(\u001B[0mSpeech: \u001B[3;91mFalse\u001B[0m, \u001B[1;36m17640.0\u001B[0m\u001B[1m)\u001B[0m                                     \u001B]8;id=254993;file://c:\\Users\\32165\\Development\\vocal_generating_pack\\src\\thirdparties\\so_vits_svc_fork\\inference\\core.py\u001B\\\u001B[2mcore.py\u001B[0m\u001B]8;;\u001B\\\u001B[2m:\u001B[0m\u001B]8;id=899506;file://c:\\Users\\32165\\Development\\vocal_generating_pack\\src\\thirdparties\\so_vits_svc_fork\\inference\\core.py#286\u001B\\\u001B[2m286\u001B[0m\u001B]8;;\u001B\\\n"
      ]
     },
     "metadata": {},
     "output_type": "display_data"
    },
    {
     "data": {
      "text/html": [
       "<pre style=\"white-space:pre;overflow-x:auto;line-height:normal;font-family:Menlo,'DejaVu Sans Mono',consolas,'Courier New',monospace\"><span style=\"color: #7fbfbf; text-decoration-color: #7fbfbf\">           </span><span style=\"color: #000080; text-decoration-color: #000080\">INFO    </span> <span style=\"font-weight: bold\">[</span><span style=\"color: #00ff00; text-decoration-color: #00ff00; font-weight: bold\">17:25:46</span><span style=\"font-weight: bold\">]</span> Chunk: <span style=\"color: #800080; text-decoration-color: #800080; font-weight: bold\">Chunk</span><span style=\"font-weight: bold\">(</span>Speech: <span style=\"color: #00ff00; text-decoration-color: #00ff00; font-style: italic\">True</span>, <span style=\"color: #008080; text-decoration-color: #008080; font-weight: bold\">79380.0</span><span style=\"font-weight: bold\">)</span>                                      <a href=\"file://c:\\Users\\32165\\Development\\vocal_generating_pack\\src\\thirdparties\\so_vits_svc_fork\\inference\\core.py\" target=\"_blank\"><span style=\"color: #7f7f7f; text-decoration-color: #7f7f7f\">core.py</span></a><span style=\"color: #7f7f7f; text-decoration-color: #7f7f7f\">:</span><a href=\"file://c:\\Users\\32165\\Development\\vocal_generating_pack\\src\\thirdparties\\so_vits_svc_fork\\inference\\core.py#286\" target=\"_blank\"><span style=\"color: #7f7f7f; text-decoration-color: #7f7f7f\">286</span></a>\n",
       "</pre>\n"
      ],
      "text/plain": [
       "\u001B[2;36m          \u001B[0m\u001B[2;36m \u001B[0m\u001B[34mINFO    \u001B[0m \u001B[1m[\u001B[0m\u001B[1;92m17:25:46\u001B[0m\u001B[1m]\u001B[0m Chunk: \u001B[1;35mChunk\u001B[0m\u001B[1m(\u001B[0mSpeech: \u001B[3;92mTrue\u001B[0m, \u001B[1;36m79380.0\u001B[0m\u001B[1m)\u001B[0m                                      \u001B]8;id=827593;file://c:\\Users\\32165\\Development\\vocal_generating_pack\\src\\thirdparties\\so_vits_svc_fork\\inference\\core.py\u001B\\\u001B[2mcore.py\u001B[0m\u001B]8;;\u001B\\\u001B[2m:\u001B[0m\u001B]8;id=688192;file://c:\\Users\\32165\\Development\\vocal_generating_pack\\src\\thirdparties\\so_vits_svc_fork\\inference\\core.py#286\u001B\\\u001B[2m286\u001B[0m\u001B]8;;\u001B\\\n"
      ]
     },
     "metadata": {},
     "output_type": "display_data"
    },
    {
     "data": {
      "text/html": [
       "<pre style=\"white-space:pre;overflow-x:auto;line-height:normal;font-family:Menlo,'DejaVu Sans Mono',consolas,'Courier New',monospace\"><span style=\"color: #7fbfbf; text-decoration-color: #7fbfbf\">[17:25:47] </span><span style=\"color: #000080; text-decoration-color: #000080\">INFO    </span> <span style=\"font-weight: bold\">[</span><span style=\"color: #00ff00; text-decoration-color: #00ff00; font-weight: bold\">17:25:47</span><span style=\"font-weight: bold\">]</span> F0 inference time:       <span style=\"color: #008080; text-decoration-color: #008080; font-weight: bold\">0.</span>055s, RTF: <span style=\"color: #008080; text-decoration-color: #008080; font-weight: bold\">0.020</span>                                <a href=\"file://c:\\Users\\32165\\Development\\vocal_generating_pack\\src\\thirdparties\\so_vits_svc_fork\\f0.py\" target=\"_blank\"><span style=\"color: #7f7f7f; text-decoration-color: #7f7f7f\">f0.py</span></a><span style=\"color: #7f7f7f; text-decoration-color: #7f7f7f\">:</span><a href=\"file://c:\\Users\\32165\\Development\\vocal_generating_pack\\src\\thirdparties\\so_vits_svc_fork\\f0.py#214\" target=\"_blank\"><span style=\"color: #7f7f7f; text-decoration-color: #7f7f7f\">214</span></a>\n",
       "</pre>\n"
      ],
      "text/plain": [
       "\u001B[2;36m[17:25:47]\u001B[0m\u001B[2;36m \u001B[0m\u001B[34mINFO    \u001B[0m \u001B[1m[\u001B[0m\u001B[1;92m17:25:47\u001B[0m\u001B[1m]\u001B[0m F0 inference time:       \u001B[1;36m0.\u001B[0m055s, RTF: \u001B[1;36m0.020\u001B[0m                                \u001B]8;id=817855;file://c:\\Users\\32165\\Development\\vocal_generating_pack\\src\\thirdparties\\so_vits_svc_fork\\f0.py\u001B\\\u001B[2mf0.py\u001B[0m\u001B]8;;\u001B\\\u001B[2m:\u001B[0m\u001B]8;id=480138;file://c:\\Users\\32165\\Development\\vocal_generating_pack\\src\\thirdparties\\so_vits_svc_fork\\f0.py#214\u001B\\\u001B[2m214\u001B[0m\u001B]8;;\u001B\\\n"
      ]
     },
     "metadata": {},
     "output_type": "display_data"
    },
    {
     "data": {
      "text/html": [
       "<pre style=\"white-space:pre;overflow-x:auto;line-height:normal;font-family:Menlo,'DejaVu Sans Mono',consolas,'Courier New',monospace\"><span style=\"color: #7fbfbf; text-decoration-color: #7fbfbf\">           </span><span style=\"color: #000080; text-decoration-color: #000080\">INFO    </span> <span style=\"font-weight: bold\">[</span><span style=\"color: #00ff00; text-decoration-color: #00ff00; font-weight: bold\">17:25:47</span><span style=\"font-weight: bold\">]</span> HuBERT inference time  : <span style=\"color: #008080; text-decoration-color: #008080; font-weight: bold\">0.</span>029s, RTF: <span style=\"color: #008080; text-decoration-color: #008080; font-weight: bold\">0.010</span>                             <a href=\"file://c:\\Users\\32165\\Development\\vocal_generating_pack\\src\\thirdparties\\so_vits_svc_fork\\utils.py\" target=\"_blank\"><span style=\"color: #7f7f7f; text-decoration-color: #7f7f7f\">utils.py</span></a><span style=\"color: #7f7f7f; text-decoration-color: #7f7f7f\">:</span><a href=\"file://c:\\Users\\32165\\Development\\vocal_generating_pack\\src\\thirdparties\\so_vits_svc_fork\\utils.py#214\" target=\"_blank\"><span style=\"color: #7f7f7f; text-decoration-color: #7f7f7f\">214</span></a>\n",
       "</pre>\n"
      ],
      "text/plain": [
       "\u001B[2;36m          \u001B[0m\u001B[2;36m \u001B[0m\u001B[34mINFO    \u001B[0m \u001B[1m[\u001B[0m\u001B[1;92m17:25:47\u001B[0m\u001B[1m]\u001B[0m HuBERT inference time  : \u001B[1;36m0.\u001B[0m029s, RTF: \u001B[1;36m0.010\u001B[0m                             \u001B]8;id=202926;file://c:\\Users\\32165\\Development\\vocal_generating_pack\\src\\thirdparties\\so_vits_svc_fork\\utils.py\u001B\\\u001B[2mutils.py\u001B[0m\u001B]8;;\u001B\\\u001B[2m:\u001B[0m\u001B]8;id=305924;file://c:\\Users\\32165\\Development\\vocal_generating_pack\\src\\thirdparties\\so_vits_svc_fork\\utils.py#214\u001B\\\u001B[2m214\u001B[0m\u001B]8;;\u001B\\\n"
      ]
     },
     "metadata": {},
     "output_type": "display_data"
    },
    {
     "data": {
      "text/html": [
       "<pre style=\"white-space:pre;overflow-x:auto;line-height:normal;font-family:Menlo,'DejaVu Sans Mono',consolas,'Courier New',monospace\"><span style=\"color: #7fbfbf; text-decoration-color: #7fbfbf\">           </span><span style=\"color: #000080; text-decoration-color: #000080\">INFO    </span> <span style=\"font-weight: bold\">[</span><span style=\"color: #00ff00; text-decoration-color: #00ff00; font-weight: bold\">17:25:47</span><span style=\"font-weight: bold\">]</span> Inferece time: <span style=\"color: #008080; text-decoration-color: #008080; font-weight: bold\">0.</span>07s, RTF: <span style=\"color: #008080; text-decoration-color: #008080; font-weight: bold\">0.03</span>                                          <a href=\"file://c:\\Users\\32165\\Development\\vocal_generating_pack\\src\\thirdparties\\so_vits_svc_fork\\inference\\core.py\" target=\"_blank\"><span style=\"color: #7f7f7f; text-decoration-color: #7f7f7f\">core.py</span></a><span style=\"color: #7f7f7f; text-decoration-color: #7f7f7f\">:</span><a href=\"file://c:\\Users\\32165\\Development\\vocal_generating_pack\\src\\thirdparties\\so_vits_svc_fork\\inference\\core.py#238\" target=\"_blank\"><span style=\"color: #7f7f7f; text-decoration-color: #7f7f7f\">238</span></a>\n",
       "</pre>\n"
      ],
      "text/plain": [
       "\u001B[2;36m          \u001B[0m\u001B[2;36m \u001B[0m\u001B[34mINFO    \u001B[0m \u001B[1m[\u001B[0m\u001B[1;92m17:25:47\u001B[0m\u001B[1m]\u001B[0m Inferece time: \u001B[1;36m0.\u001B[0m07s, RTF: \u001B[1;36m0.03\u001B[0m                                          \u001B]8;id=868056;file://c:\\Users\\32165\\Development\\vocal_generating_pack\\src\\thirdparties\\so_vits_svc_fork\\inference\\core.py\u001B\\\u001B[2mcore.py\u001B[0m\u001B]8;;\u001B\\\u001B[2m:\u001B[0m\u001B]8;id=932818;file://c:\\Users\\32165\\Development\\vocal_generating_pack\\src\\thirdparties\\so_vits_svc_fork\\inference\\core.py#238\u001B\\\u001B[2m238\u001B[0m\u001B]8;;\u001B\\\n"
      ]
     },
     "metadata": {},
     "output_type": "display_data"
    },
    {
     "data": {
      "text/html": [
       "<pre style=\"white-space:pre;overflow-x:auto;line-height:normal;font-family:Menlo,'DejaVu Sans Mono',consolas,'Courier New',monospace\"><span style=\"color: #7fbfbf; text-decoration-color: #7fbfbf\">           </span><span style=\"color: #000080; text-decoration-color: #000080\">INFO    </span> <span style=\"font-weight: bold\">[</span><span style=\"color: #00ff00; text-decoration-color: #00ff00; font-weight: bold\">17:25:47</span><span style=\"font-weight: bold\">]</span> Chunk: <span style=\"color: #800080; text-decoration-color: #800080; font-weight: bold\">Chunk</span><span style=\"font-weight: bold\">(</span>Speech: <span style=\"color: #ff0000; text-decoration-color: #ff0000; font-style: italic\">False</span>, <span style=\"color: #008080; text-decoration-color: #008080; font-weight: bold\">326340.0</span><span style=\"font-weight: bold\">)</span>                                    <a href=\"file://c:\\Users\\32165\\Development\\vocal_generating_pack\\src\\thirdparties\\so_vits_svc_fork\\inference\\core.py\" target=\"_blank\"><span style=\"color: #7f7f7f; text-decoration-color: #7f7f7f\">core.py</span></a><span style=\"color: #7f7f7f; text-decoration-color: #7f7f7f\">:</span><a href=\"file://c:\\Users\\32165\\Development\\vocal_generating_pack\\src\\thirdparties\\so_vits_svc_fork\\inference\\core.py#286\" target=\"_blank\"><span style=\"color: #7f7f7f; text-decoration-color: #7f7f7f\">286</span></a>\n",
       "</pre>\n"
      ],
      "text/plain": [
       "\u001B[2;36m          \u001B[0m\u001B[2;36m \u001B[0m\u001B[34mINFO    \u001B[0m \u001B[1m[\u001B[0m\u001B[1;92m17:25:47\u001B[0m\u001B[1m]\u001B[0m Chunk: \u001B[1;35mChunk\u001B[0m\u001B[1m(\u001B[0mSpeech: \u001B[3;91mFalse\u001B[0m, \u001B[1;36m326340.0\u001B[0m\u001B[1m)\u001B[0m                                    \u001B]8;id=109383;file://c:\\Users\\32165\\Development\\vocal_generating_pack\\src\\thirdparties\\so_vits_svc_fork\\inference\\core.py\u001B\\\u001B[2mcore.py\u001B[0m\u001B]8;;\u001B\\\u001B[2m:\u001B[0m\u001B]8;id=683848;file://c:\\Users\\32165\\Development\\vocal_generating_pack\\src\\thirdparties\\so_vits_svc_fork\\inference\\core.py#286\u001B\\\u001B[2m286\u001B[0m\u001B]8;;\u001B\\\n"
      ]
     },
     "metadata": {},
     "output_type": "display_data"
    },
    {
     "data": {
      "text/html": [
       "<pre style=\"white-space:pre;overflow-x:auto;line-height:normal;font-family:Menlo,'DejaVu Sans Mono',consolas,'Courier New',monospace\"><span style=\"color: #7fbfbf; text-decoration-color: #7fbfbf\">           </span><span style=\"color: #000080; text-decoration-color: #000080\">INFO    </span> <span style=\"font-weight: bold\">[</span><span style=\"color: #00ff00; text-decoration-color: #00ff00; font-weight: bold\">17:25:47</span><span style=\"font-weight: bold\">]</span> Chunk: <span style=\"color: #800080; text-decoration-color: #800080; font-weight: bold\">Chunk</span><span style=\"font-weight: bold\">(</span>Speech: <span style=\"color: #00ff00; text-decoration-color: #00ff00; font-style: italic\">True</span>, <span style=\"color: #008080; text-decoration-color: #008080; font-weight: bold\">1764000.0</span><span style=\"font-weight: bold\">)</span>                                    <a href=\"file://c:\\Users\\32165\\Development\\vocal_generating_pack\\src\\thirdparties\\so_vits_svc_fork\\inference\\core.py\" target=\"_blank\"><span style=\"color: #7f7f7f; text-decoration-color: #7f7f7f\">core.py</span></a><span style=\"color: #7f7f7f; text-decoration-color: #7f7f7f\">:</span><a href=\"file://c:\\Users\\32165\\Development\\vocal_generating_pack\\src\\thirdparties\\so_vits_svc_fork\\inference\\core.py#286\" target=\"_blank\"><span style=\"color: #7f7f7f; text-decoration-color: #7f7f7f\">286</span></a>\n",
       "</pre>\n"
      ],
      "text/plain": [
       "\u001B[2;36m          \u001B[0m\u001B[2;36m \u001B[0m\u001B[34mINFO    \u001B[0m \u001B[1m[\u001B[0m\u001B[1;92m17:25:47\u001B[0m\u001B[1m]\u001B[0m Chunk: \u001B[1;35mChunk\u001B[0m\u001B[1m(\u001B[0mSpeech: \u001B[3;92mTrue\u001B[0m, \u001B[1;36m1764000.0\u001B[0m\u001B[1m)\u001B[0m                                    \u001B]8;id=996067;file://c:\\Users\\32165\\Development\\vocal_generating_pack\\src\\thirdparties\\so_vits_svc_fork\\inference\\core.py\u001B\\\u001B[2mcore.py\u001B[0m\u001B]8;;\u001B\\\u001B[2m:\u001B[0m\u001B]8;id=145256;file://c:\\Users\\32165\\Development\\vocal_generating_pack\\src\\thirdparties\\so_vits_svc_fork\\inference\\core.py#286\u001B\\\u001B[2m286\u001B[0m\u001B]8;;\u001B\\\n"
      ]
     },
     "metadata": {},
     "output_type": "display_data"
    },
    {
     "data": {
      "text/html": [
       "<pre style=\"white-space:pre;overflow-x:auto;line-height:normal;font-family:Menlo,'DejaVu Sans Mono',consolas,'Courier New',monospace\"><span style=\"color: #7fbfbf; text-decoration-color: #7fbfbf\">[17:25:48] </span><span style=\"color: #000080; text-decoration-color: #000080\">INFO    </span> <span style=\"font-weight: bold\">[</span><span style=\"color: #00ff00; text-decoration-color: #00ff00; font-weight: bold\">17:25:48</span><span style=\"font-weight: bold\">]</span> F0 inference time:       <span style=\"color: #008080; text-decoration-color: #008080; font-weight: bold\">0.</span>843s, RTF: <span style=\"color: #008080; text-decoration-color: #008080; font-weight: bold\">0.021</span>                                <a href=\"file://c:\\Users\\32165\\Development\\vocal_generating_pack\\src\\thirdparties\\so_vits_svc_fork\\f0.py\" target=\"_blank\"><span style=\"color: #7f7f7f; text-decoration-color: #7f7f7f\">f0.py</span></a><span style=\"color: #7f7f7f; text-decoration-color: #7f7f7f\">:</span><a href=\"file://c:\\Users\\32165\\Development\\vocal_generating_pack\\src\\thirdparties\\so_vits_svc_fork\\f0.py#214\" target=\"_blank\"><span style=\"color: #7f7f7f; text-decoration-color: #7f7f7f\">214</span></a>\n",
       "</pre>\n"
      ],
      "text/plain": [
       "\u001B[2;36m[17:25:48]\u001B[0m\u001B[2;36m \u001B[0m\u001B[34mINFO    \u001B[0m \u001B[1m[\u001B[0m\u001B[1;92m17:25:48\u001B[0m\u001B[1m]\u001B[0m F0 inference time:       \u001B[1;36m0.\u001B[0m843s, RTF: \u001B[1;36m0.021\u001B[0m                                \u001B]8;id=437372;file://c:\\Users\\32165\\Development\\vocal_generating_pack\\src\\thirdparties\\so_vits_svc_fork\\f0.py\u001B\\\u001B[2mf0.py\u001B[0m\u001B]8;;\u001B\\\u001B[2m:\u001B[0m\u001B]8;id=630728;file://c:\\Users\\32165\\Development\\vocal_generating_pack\\src\\thirdparties\\so_vits_svc_fork\\f0.py#214\u001B\\\u001B[2m214\u001B[0m\u001B]8;;\u001B\\\n"
      ]
     },
     "metadata": {},
     "output_type": "display_data"
    },
    {
     "data": {
      "text/html": [
       "<pre style=\"white-space:pre;overflow-x:auto;line-height:normal;font-family:Menlo,'DejaVu Sans Mono',consolas,'Courier New',monospace\"><span style=\"color: #7fbfbf; text-decoration-color: #7fbfbf\">           </span><span style=\"color: #000080; text-decoration-color: #000080\">INFO    </span> <span style=\"font-weight: bold\">[</span><span style=\"color: #00ff00; text-decoration-color: #00ff00; font-weight: bold\">17:25:48</span><span style=\"font-weight: bold\">]</span> HuBERT inference time  : <span style=\"color: #008080; text-decoration-color: #008080; font-weight: bold\">0.</span>031s, RTF: <span style=\"color: #008080; text-decoration-color: #008080; font-weight: bold\">0.001</span>                             <a href=\"file://c:\\Users\\32165\\Development\\vocal_generating_pack\\src\\thirdparties\\so_vits_svc_fork\\utils.py\" target=\"_blank\"><span style=\"color: #7f7f7f; text-decoration-color: #7f7f7f\">utils.py</span></a><span style=\"color: #7f7f7f; text-decoration-color: #7f7f7f\">:</span><a href=\"file://c:\\Users\\32165\\Development\\vocal_generating_pack\\src\\thirdparties\\so_vits_svc_fork\\utils.py#214\" target=\"_blank\"><span style=\"color: #7f7f7f; text-decoration-color: #7f7f7f\">214</span></a>\n",
       "</pre>\n"
      ],
      "text/plain": [
       "\u001B[2;36m          \u001B[0m\u001B[2;36m \u001B[0m\u001B[34mINFO    \u001B[0m \u001B[1m[\u001B[0m\u001B[1;92m17:25:48\u001B[0m\u001B[1m]\u001B[0m HuBERT inference time  : \u001B[1;36m0.\u001B[0m031s, RTF: \u001B[1;36m0.001\u001B[0m                             \u001B]8;id=620100;file://c:\\Users\\32165\\Development\\vocal_generating_pack\\src\\thirdparties\\so_vits_svc_fork\\utils.py\u001B\\\u001B[2mutils.py\u001B[0m\u001B]8;;\u001B\\\u001B[2m:\u001B[0m\u001B]8;id=688255;file://c:\\Users\\32165\\Development\\vocal_generating_pack\\src\\thirdparties\\so_vits_svc_fork\\utils.py#214\u001B\\\u001B[2m214\u001B[0m\u001B]8;;\u001B\\\n"
      ]
     },
     "metadata": {},
     "output_type": "display_data"
    },
    {
     "data": {
      "text/html": [
       "<pre style=\"white-space:pre;overflow-x:auto;line-height:normal;font-family:Menlo,'DejaVu Sans Mono',consolas,'Courier New',monospace\"><span style=\"color: #7fbfbf; text-decoration-color: #7fbfbf\">           </span><span style=\"color: #000080; text-decoration-color: #000080\">INFO    </span> <span style=\"font-weight: bold\">[</span><span style=\"color: #00ff00; text-decoration-color: #00ff00; font-weight: bold\">17:25:48</span><span style=\"font-weight: bold\">]</span> Inferece time: <span style=\"color: #008080; text-decoration-color: #008080; font-weight: bold\">0.</span>23s, RTF: <span style=\"color: #008080; text-decoration-color: #008080; font-weight: bold\">0.01</span>                                          <a href=\"file://c:\\Users\\32165\\Development\\vocal_generating_pack\\src\\thirdparties\\so_vits_svc_fork\\inference\\core.py\" target=\"_blank\"><span style=\"color: #7f7f7f; text-decoration-color: #7f7f7f\">core.py</span></a><span style=\"color: #7f7f7f; text-decoration-color: #7f7f7f\">:</span><a href=\"file://c:\\Users\\32165\\Development\\vocal_generating_pack\\src\\thirdparties\\so_vits_svc_fork\\inference\\core.py#238\" target=\"_blank\"><span style=\"color: #7f7f7f; text-decoration-color: #7f7f7f\">238</span></a>\n",
       "</pre>\n"
      ],
      "text/plain": [
       "\u001B[2;36m          \u001B[0m\u001B[2;36m \u001B[0m\u001B[34mINFO    \u001B[0m \u001B[1m[\u001B[0m\u001B[1;92m17:25:48\u001B[0m\u001B[1m]\u001B[0m Inferece time: \u001B[1;36m0.\u001B[0m23s, RTF: \u001B[1;36m0.01\u001B[0m                                          \u001B]8;id=897078;file://c:\\Users\\32165\\Development\\vocal_generating_pack\\src\\thirdparties\\so_vits_svc_fork\\inference\\core.py\u001B\\\u001B[2mcore.py\u001B[0m\u001B]8;;\u001B\\\u001B[2m:\u001B[0m\u001B]8;id=926911;file://c:\\Users\\32165\\Development\\vocal_generating_pack\\src\\thirdparties\\so_vits_svc_fork\\inference\\core.py#238\u001B\\\u001B[2m238\u001B[0m\u001B]8;;\u001B\\\n"
      ]
     },
     "metadata": {},
     "output_type": "display_data"
    },
    {
     "data": {
      "text/html": [
       "<pre style=\"white-space:pre;overflow-x:auto;line-height:normal;font-family:Menlo,'DejaVu Sans Mono',consolas,'Courier New',monospace\"><span style=\"color: #7fbfbf; text-decoration-color: #7fbfbf\">[17:25:49] </span><span style=\"color: #000080; text-decoration-color: #000080\">INFO    </span> <span style=\"font-weight: bold\">[</span><span style=\"color: #00ff00; text-decoration-color: #00ff00; font-weight: bold\">17:25:49</span><span style=\"font-weight: bold\">]</span> Chunk: <span style=\"color: #800080; text-decoration-color: #800080; font-weight: bold\">Chunk</span><span style=\"font-weight: bold\">(</span>Speech: <span style=\"color: #00ff00; text-decoration-color: #00ff00; font-style: italic\">True</span>, <span style=\"color: #008080; text-decoration-color: #008080; font-weight: bold\">88200.0</span><span style=\"font-weight: bold\">)</span>                                      <a href=\"file://c:\\Users\\32165\\Development\\vocal_generating_pack\\src\\thirdparties\\so_vits_svc_fork\\inference\\core.py\" target=\"_blank\"><span style=\"color: #7f7f7f; text-decoration-color: #7f7f7f\">core.py</span></a><span style=\"color: #7f7f7f; text-decoration-color: #7f7f7f\">:</span><a href=\"file://c:\\Users\\32165\\Development\\vocal_generating_pack\\src\\thirdparties\\so_vits_svc_fork\\inference\\core.py#286\" target=\"_blank\"><span style=\"color: #7f7f7f; text-decoration-color: #7f7f7f\">286</span></a>\n",
       "</pre>\n"
      ],
      "text/plain": [
       "\u001B[2;36m[17:25:49]\u001B[0m\u001B[2;36m \u001B[0m\u001B[34mINFO    \u001B[0m \u001B[1m[\u001B[0m\u001B[1;92m17:25:49\u001B[0m\u001B[1m]\u001B[0m Chunk: \u001B[1;35mChunk\u001B[0m\u001B[1m(\u001B[0mSpeech: \u001B[3;92mTrue\u001B[0m, \u001B[1;36m88200.0\u001B[0m\u001B[1m)\u001B[0m                                      \u001B]8;id=960083;file://c:\\Users\\32165\\Development\\vocal_generating_pack\\src\\thirdparties\\so_vits_svc_fork\\inference\\core.py\u001B\\\u001B[2mcore.py\u001B[0m\u001B]8;;\u001B\\\u001B[2m:\u001B[0m\u001B]8;id=623071;file://c:\\Users\\32165\\Development\\vocal_generating_pack\\src\\thirdparties\\so_vits_svc_fork\\inference\\core.py#286\u001B\\\u001B[2m286\u001B[0m\u001B]8;;\u001B\\\n"
      ]
     },
     "metadata": {},
     "output_type": "display_data"
    },
    {
     "data": {
      "text/html": [
       "<pre style=\"white-space:pre;overflow-x:auto;line-height:normal;font-family:Menlo,'DejaVu Sans Mono',consolas,'Courier New',monospace\"><span style=\"color: #7fbfbf; text-decoration-color: #7fbfbf\">           </span><span style=\"color: #000080; text-decoration-color: #000080\">INFO    </span> <span style=\"font-weight: bold\">[</span><span style=\"color: #00ff00; text-decoration-color: #00ff00; font-weight: bold\">17:25:49</span><span style=\"font-weight: bold\">]</span> F0 inference time:       <span style=\"color: #008080; text-decoration-color: #008080; font-weight: bold\">0.</span>089s, RTF: <span style=\"color: #008080; text-decoration-color: #008080; font-weight: bold\">0.030</span>                                <a href=\"file://c:\\Users\\32165\\Development\\vocal_generating_pack\\src\\thirdparties\\so_vits_svc_fork\\f0.py\" target=\"_blank\"><span style=\"color: #7f7f7f; text-decoration-color: #7f7f7f\">f0.py</span></a><span style=\"color: #7f7f7f; text-decoration-color: #7f7f7f\">:</span><a href=\"file://c:\\Users\\32165\\Development\\vocal_generating_pack\\src\\thirdparties\\so_vits_svc_fork\\f0.py#214\" target=\"_blank\"><span style=\"color: #7f7f7f; text-decoration-color: #7f7f7f\">214</span></a>\n",
       "</pre>\n"
      ],
      "text/plain": [
       "\u001B[2;36m          \u001B[0m\u001B[2;36m \u001B[0m\u001B[34mINFO    \u001B[0m \u001B[1m[\u001B[0m\u001B[1;92m17:25:49\u001B[0m\u001B[1m]\u001B[0m F0 inference time:       \u001B[1;36m0.\u001B[0m089s, RTF: \u001B[1;36m0.030\u001B[0m                                \u001B]8;id=536449;file://c:\\Users\\32165\\Development\\vocal_generating_pack\\src\\thirdparties\\so_vits_svc_fork\\f0.py\u001B\\\u001B[2mf0.py\u001B[0m\u001B]8;;\u001B\\\u001B[2m:\u001B[0m\u001B]8;id=150169;file://c:\\Users\\32165\\Development\\vocal_generating_pack\\src\\thirdparties\\so_vits_svc_fork\\f0.py#214\u001B\\\u001B[2m214\u001B[0m\u001B]8;;\u001B\\\n"
      ]
     },
     "metadata": {},
     "output_type": "display_data"
    },
    {
     "data": {
      "text/html": [
       "<pre style=\"white-space:pre;overflow-x:auto;line-height:normal;font-family:Menlo,'DejaVu Sans Mono',consolas,'Courier New',monospace\"><span style=\"color: #7fbfbf; text-decoration-color: #7fbfbf\">           </span><span style=\"color: #000080; text-decoration-color: #000080\">INFO    </span> <span style=\"font-weight: bold\">[</span><span style=\"color: #00ff00; text-decoration-color: #00ff00; font-weight: bold\">17:25:49</span><span style=\"font-weight: bold\">]</span> HuBERT inference time  : <span style=\"color: #008080; text-decoration-color: #008080; font-weight: bold\">0.</span>021s, RTF: <span style=\"color: #008080; text-decoration-color: #008080; font-weight: bold\">0.007</span>                             <a href=\"file://c:\\Users\\32165\\Development\\vocal_generating_pack\\src\\thirdparties\\so_vits_svc_fork\\utils.py\" target=\"_blank\"><span style=\"color: #7f7f7f; text-decoration-color: #7f7f7f\">utils.py</span></a><span style=\"color: #7f7f7f; text-decoration-color: #7f7f7f\">:</span><a href=\"file://c:\\Users\\32165\\Development\\vocal_generating_pack\\src\\thirdparties\\so_vits_svc_fork\\utils.py#214\" target=\"_blank\"><span style=\"color: #7f7f7f; text-decoration-color: #7f7f7f\">214</span></a>\n",
       "</pre>\n"
      ],
      "text/plain": [
       "\u001B[2;36m          \u001B[0m\u001B[2;36m \u001B[0m\u001B[34mINFO    \u001B[0m \u001B[1m[\u001B[0m\u001B[1;92m17:25:49\u001B[0m\u001B[1m]\u001B[0m HuBERT inference time  : \u001B[1;36m0.\u001B[0m021s, RTF: \u001B[1;36m0.007\u001B[0m                             \u001B]8;id=330952;file://c:\\Users\\32165\\Development\\vocal_generating_pack\\src\\thirdparties\\so_vits_svc_fork\\utils.py\u001B\\\u001B[2mutils.py\u001B[0m\u001B]8;;\u001B\\\u001B[2m:\u001B[0m\u001B]8;id=982492;file://c:\\Users\\32165\\Development\\vocal_generating_pack\\src\\thirdparties\\so_vits_svc_fork\\utils.py#214\u001B\\\u001B[2m214\u001B[0m\u001B]8;;\u001B\\\n"
      ]
     },
     "metadata": {},
     "output_type": "display_data"
    },
    {
     "data": {
      "text/html": [
       "<pre style=\"white-space:pre;overflow-x:auto;line-height:normal;font-family:Menlo,'DejaVu Sans Mono',consolas,'Courier New',monospace\"><span style=\"color: #7fbfbf; text-decoration-color: #7fbfbf\">[17:25:50] </span><span style=\"color: #000080; text-decoration-color: #000080\">INFO    </span> <span style=\"font-weight: bold\">[</span><span style=\"color: #00ff00; text-decoration-color: #00ff00; font-weight: bold\">17:25:50</span><span style=\"font-weight: bold\">]</span> Inferece time: <span style=\"color: #008080; text-decoration-color: #008080; font-weight: bold\">0.</span>07s, RTF: <span style=\"color: #008080; text-decoration-color: #008080; font-weight: bold\">0.02</span>                                          <a href=\"file://c:\\Users\\32165\\Development\\vocal_generating_pack\\src\\thirdparties\\so_vits_svc_fork\\inference\\core.py\" target=\"_blank\"><span style=\"color: #7f7f7f; text-decoration-color: #7f7f7f\">core.py</span></a><span style=\"color: #7f7f7f; text-decoration-color: #7f7f7f\">:</span><a href=\"file://c:\\Users\\32165\\Development\\vocal_generating_pack\\src\\thirdparties\\so_vits_svc_fork\\inference\\core.py#238\" target=\"_blank\"><span style=\"color: #7f7f7f; text-decoration-color: #7f7f7f\">238</span></a>\n",
       "</pre>\n"
      ],
      "text/plain": [
       "\u001B[2;36m[17:25:50]\u001B[0m\u001B[2;36m \u001B[0m\u001B[34mINFO    \u001B[0m \u001B[1m[\u001B[0m\u001B[1;92m17:25:50\u001B[0m\u001B[1m]\u001B[0m Inferece time: \u001B[1;36m0.\u001B[0m07s, RTF: \u001B[1;36m0.02\u001B[0m                                          \u001B]8;id=278647;file://c:\\Users\\32165\\Development\\vocal_generating_pack\\src\\thirdparties\\so_vits_svc_fork\\inference\\core.py\u001B\\\u001B[2mcore.py\u001B[0m\u001B]8;;\u001B\\\u001B[2m:\u001B[0m\u001B]8;id=976787;file://c:\\Users\\32165\\Development\\vocal_generating_pack\\src\\thirdparties\\so_vits_svc_fork\\inference\\core.py#238\u001B\\\u001B[2m238\u001B[0m\u001B]8;;\u001B\\\n"
      ]
     },
     "metadata": {},
     "output_type": "display_data"
    },
    {
     "data": {
      "text/html": [
       "<pre style=\"white-space:pre;overflow-x:auto;line-height:normal;font-family:Menlo,'DejaVu Sans Mono',consolas,'Courier New',monospace\"><span style=\"color: #7fbfbf; text-decoration-color: #7fbfbf\">           </span><span style=\"color: #000080; text-decoration-color: #000080\">INFO    </span> <span style=\"font-weight: bold\">[</span><span style=\"color: #00ff00; text-decoration-color: #00ff00; font-weight: bold\">17:25:50</span><span style=\"font-weight: bold\">]</span> Chunk: <span style=\"color: #800080; text-decoration-color: #800080; font-weight: bold\">Chunk</span><span style=\"font-weight: bold\">(</span>Speech: <span style=\"color: #ff0000; text-decoration-color: #ff0000; font-style: italic\">False</span>, <span style=\"color: #008080; text-decoration-color: #008080; font-weight: bold\">17640.0</span><span style=\"font-weight: bold\">)</span>                                     <a href=\"file://c:\\Users\\32165\\Development\\vocal_generating_pack\\src\\thirdparties\\so_vits_svc_fork\\inference\\core.py\" target=\"_blank\"><span style=\"color: #7f7f7f; text-decoration-color: #7f7f7f\">core.py</span></a><span style=\"color: #7f7f7f; text-decoration-color: #7f7f7f\">:</span><a href=\"file://c:\\Users\\32165\\Development\\vocal_generating_pack\\src\\thirdparties\\so_vits_svc_fork\\inference\\core.py#286\" target=\"_blank\"><span style=\"color: #7f7f7f; text-decoration-color: #7f7f7f\">286</span></a>\n",
       "</pre>\n"
      ],
      "text/plain": [
       "\u001B[2;36m          \u001B[0m\u001B[2;36m \u001B[0m\u001B[34mINFO    \u001B[0m \u001B[1m[\u001B[0m\u001B[1;92m17:25:50\u001B[0m\u001B[1m]\u001B[0m Chunk: \u001B[1;35mChunk\u001B[0m\u001B[1m(\u001B[0mSpeech: \u001B[3;91mFalse\u001B[0m, \u001B[1;36m17640.0\u001B[0m\u001B[1m)\u001B[0m                                     \u001B]8;id=954847;file://c:\\Users\\32165\\Development\\vocal_generating_pack\\src\\thirdparties\\so_vits_svc_fork\\inference\\core.py\u001B\\\u001B[2mcore.py\u001B[0m\u001B]8;;\u001B\\\u001B[2m:\u001B[0m\u001B]8;id=709464;file://c:\\Users\\32165\\Development\\vocal_generating_pack\\src\\thirdparties\\so_vits_svc_fork\\inference\\core.py#286\u001B\\\u001B[2m286\u001B[0m\u001B]8;;\u001B\\\n"
      ]
     },
     "metadata": {},
     "output_type": "display_data"
    },
    {
     "data": {
      "text/html": [
       "<pre style=\"white-space:pre;overflow-x:auto;line-height:normal;font-family:Menlo,'DejaVu Sans Mono',consolas,'Courier New',monospace\"><span style=\"color: #7fbfbf; text-decoration-color: #7fbfbf\">           </span><span style=\"color: #000080; text-decoration-color: #000080\">INFO    </span> <span style=\"font-weight: bold\">[</span><span style=\"color: #00ff00; text-decoration-color: #00ff00; font-weight: bold\">17:25:50</span><span style=\"font-weight: bold\">]</span> Chunk: <span style=\"color: #800080; text-decoration-color: #800080; font-weight: bold\">Chunk</span><span style=\"font-weight: bold\">(</span>Speech: <span style=\"color: #00ff00; text-decoration-color: #00ff00; font-style: italic\">True</span>, <span style=\"color: #008080; text-decoration-color: #008080; font-weight: bold\">1764000.0</span><span style=\"font-weight: bold\">)</span>                                    <a href=\"file://c:\\Users\\32165\\Development\\vocal_generating_pack\\src\\thirdparties\\so_vits_svc_fork\\inference\\core.py\" target=\"_blank\"><span style=\"color: #7f7f7f; text-decoration-color: #7f7f7f\">core.py</span></a><span style=\"color: #7f7f7f; text-decoration-color: #7f7f7f\">:</span><a href=\"file://c:\\Users\\32165\\Development\\vocal_generating_pack\\src\\thirdparties\\so_vits_svc_fork\\inference\\core.py#286\" target=\"_blank\"><span style=\"color: #7f7f7f; text-decoration-color: #7f7f7f\">286</span></a>\n",
       "</pre>\n"
      ],
      "text/plain": [
       "\u001B[2;36m          \u001B[0m\u001B[2;36m \u001B[0m\u001B[34mINFO    \u001B[0m \u001B[1m[\u001B[0m\u001B[1;92m17:25:50\u001B[0m\u001B[1m]\u001B[0m Chunk: \u001B[1;35mChunk\u001B[0m\u001B[1m(\u001B[0mSpeech: \u001B[3;92mTrue\u001B[0m, \u001B[1;36m1764000.0\u001B[0m\u001B[1m)\u001B[0m                                    \u001B]8;id=301750;file://c:\\Users\\32165\\Development\\vocal_generating_pack\\src\\thirdparties\\so_vits_svc_fork\\inference\\core.py\u001B\\\u001B[2mcore.py\u001B[0m\u001B]8;;\u001B\\\u001B[2m:\u001B[0m\u001B]8;id=791317;file://c:\\Users\\32165\\Development\\vocal_generating_pack\\src\\thirdparties\\so_vits_svc_fork\\inference\\core.py#286\u001B\\\u001B[2m286\u001B[0m\u001B]8;;\u001B\\\n"
      ]
     },
     "metadata": {},
     "output_type": "display_data"
    },
    {
     "data": {
      "text/html": [
       "<pre style=\"white-space:pre;overflow-x:auto;line-height:normal;font-family:Menlo,'DejaVu Sans Mono',consolas,'Courier New',monospace\"><span style=\"color: #7fbfbf; text-decoration-color: #7fbfbf\">[17:25:51] </span><span style=\"color: #000080; text-decoration-color: #000080\">INFO    </span> <span style=\"font-weight: bold\">[</span><span style=\"color: #00ff00; text-decoration-color: #00ff00; font-weight: bold\">17:25:51</span><span style=\"font-weight: bold\">]</span> F0 inference time:       <span style=\"color: #008080; text-decoration-color: #008080; font-weight: bold\">0.</span>860s, RTF: <span style=\"color: #008080; text-decoration-color: #008080; font-weight: bold\">0.021</span>                                <a href=\"file://c:\\Users\\32165\\Development\\vocal_generating_pack\\src\\thirdparties\\so_vits_svc_fork\\f0.py\" target=\"_blank\"><span style=\"color: #7f7f7f; text-decoration-color: #7f7f7f\">f0.py</span></a><span style=\"color: #7f7f7f; text-decoration-color: #7f7f7f\">:</span><a href=\"file://c:\\Users\\32165\\Development\\vocal_generating_pack\\src\\thirdparties\\so_vits_svc_fork\\f0.py#214\" target=\"_blank\"><span style=\"color: #7f7f7f; text-decoration-color: #7f7f7f\">214</span></a>\n",
       "</pre>\n"
      ],
      "text/plain": [
       "\u001B[2;36m[17:25:51]\u001B[0m\u001B[2;36m \u001B[0m\u001B[34mINFO    \u001B[0m \u001B[1m[\u001B[0m\u001B[1;92m17:25:51\u001B[0m\u001B[1m]\u001B[0m F0 inference time:       \u001B[1;36m0.\u001B[0m860s, RTF: \u001B[1;36m0.021\u001B[0m                                \u001B]8;id=205869;file://c:\\Users\\32165\\Development\\vocal_generating_pack\\src\\thirdparties\\so_vits_svc_fork\\f0.py\u001B\\\u001B[2mf0.py\u001B[0m\u001B]8;;\u001B\\\u001B[2m:\u001B[0m\u001B]8;id=436059;file://c:\\Users\\32165\\Development\\vocal_generating_pack\\src\\thirdparties\\so_vits_svc_fork\\f0.py#214\u001B\\\u001B[2m214\u001B[0m\u001B]8;;\u001B\\\n"
      ]
     },
     "metadata": {},
     "output_type": "display_data"
    },
    {
     "data": {
      "text/html": [
       "<pre style=\"white-space:pre;overflow-x:auto;line-height:normal;font-family:Menlo,'DejaVu Sans Mono',consolas,'Courier New',monospace\"><span style=\"color: #7fbfbf; text-decoration-color: #7fbfbf\">           </span><span style=\"color: #000080; text-decoration-color: #000080\">INFO    </span> <span style=\"font-weight: bold\">[</span><span style=\"color: #00ff00; text-decoration-color: #00ff00; font-weight: bold\">17:25:51</span><span style=\"font-weight: bold\">]</span> HuBERT inference time  : <span style=\"color: #008080; text-decoration-color: #008080; font-weight: bold\">0.</span>025s, RTF: <span style=\"color: #008080; text-decoration-color: #008080; font-weight: bold\">0.001</span>                             <a href=\"file://c:\\Users\\32165\\Development\\vocal_generating_pack\\src\\thirdparties\\so_vits_svc_fork\\utils.py\" target=\"_blank\"><span style=\"color: #7f7f7f; text-decoration-color: #7f7f7f\">utils.py</span></a><span style=\"color: #7f7f7f; text-decoration-color: #7f7f7f\">:</span><a href=\"file://c:\\Users\\32165\\Development\\vocal_generating_pack\\src\\thirdparties\\so_vits_svc_fork\\utils.py#214\" target=\"_blank\"><span style=\"color: #7f7f7f; text-decoration-color: #7f7f7f\">214</span></a>\n",
       "</pre>\n"
      ],
      "text/plain": [
       "\u001B[2;36m          \u001B[0m\u001B[2;36m \u001B[0m\u001B[34mINFO    \u001B[0m \u001B[1m[\u001B[0m\u001B[1;92m17:25:51\u001B[0m\u001B[1m]\u001B[0m HuBERT inference time  : \u001B[1;36m0.\u001B[0m025s, RTF: \u001B[1;36m0.001\u001B[0m                             \u001B]8;id=673952;file://c:\\Users\\32165\\Development\\vocal_generating_pack\\src\\thirdparties\\so_vits_svc_fork\\utils.py\u001B\\\u001B[2mutils.py\u001B[0m\u001B]8;;\u001B\\\u001B[2m:\u001B[0m\u001B]8;id=93729;file://c:\\Users\\32165\\Development\\vocal_generating_pack\\src\\thirdparties\\so_vits_svc_fork\\utils.py#214\u001B\\\u001B[2m214\u001B[0m\u001B]8;;\u001B\\\n"
      ]
     },
     "metadata": {},
     "output_type": "display_data"
    },
    {
     "data": {
      "text/html": [
       "<pre style=\"white-space:pre;overflow-x:auto;line-height:normal;font-family:Menlo,'DejaVu Sans Mono',consolas,'Courier New',monospace\"><span style=\"color: #7fbfbf; text-decoration-color: #7fbfbf\">           </span><span style=\"color: #000080; text-decoration-color: #000080\">INFO    </span> <span style=\"font-weight: bold\">[</span><span style=\"color: #00ff00; text-decoration-color: #00ff00; font-weight: bold\">17:25:51</span><span style=\"font-weight: bold\">]</span> Inferece time: <span style=\"color: #008080; text-decoration-color: #008080; font-weight: bold\">0.</span>24s, RTF: <span style=\"color: #008080; text-decoration-color: #008080; font-weight: bold\">0.01</span>                                          <a href=\"file://c:\\Users\\32165\\Development\\vocal_generating_pack\\src\\thirdparties\\so_vits_svc_fork\\inference\\core.py\" target=\"_blank\"><span style=\"color: #7f7f7f; text-decoration-color: #7f7f7f\">core.py</span></a><span style=\"color: #7f7f7f; text-decoration-color: #7f7f7f\">:</span><a href=\"file://c:\\Users\\32165\\Development\\vocal_generating_pack\\src\\thirdparties\\so_vits_svc_fork\\inference\\core.py#238\" target=\"_blank\"><span style=\"color: #7f7f7f; text-decoration-color: #7f7f7f\">238</span></a>\n",
       "</pre>\n"
      ],
      "text/plain": [
       "\u001B[2;36m          \u001B[0m\u001B[2;36m \u001B[0m\u001B[34mINFO    \u001B[0m \u001B[1m[\u001B[0m\u001B[1;92m17:25:51\u001B[0m\u001B[1m]\u001B[0m Inferece time: \u001B[1;36m0.\u001B[0m24s, RTF: \u001B[1;36m0.01\u001B[0m                                          \u001B]8;id=953893;file://c:\\Users\\32165\\Development\\vocal_generating_pack\\src\\thirdparties\\so_vits_svc_fork\\inference\\core.py\u001B\\\u001B[2mcore.py\u001B[0m\u001B]8;;\u001B\\\u001B[2m:\u001B[0m\u001B]8;id=556388;file://c:\\Users\\32165\\Development\\vocal_generating_pack\\src\\thirdparties\\so_vits_svc_fork\\inference\\core.py#238\u001B\\\u001B[2m238\u001B[0m\u001B]8;;\u001B\\\n"
      ]
     },
     "metadata": {},
     "output_type": "display_data"
    },
    {
     "data": {
      "text/html": [
       "<pre style=\"white-space:pre;overflow-x:auto;line-height:normal;font-family:Menlo,'DejaVu Sans Mono',consolas,'Courier New',monospace\"><span style=\"color: #7fbfbf; text-decoration-color: #7fbfbf\">[17:25:52] </span><span style=\"color: #000080; text-decoration-color: #000080\">INFO    </span> <span style=\"font-weight: bold\">[</span><span style=\"color: #00ff00; text-decoration-color: #00ff00; font-weight: bold\">17:25:52</span><span style=\"font-weight: bold\">]</span> Chunk: <span style=\"color: #800080; text-decoration-color: #800080; font-weight: bold\">Chunk</span><span style=\"font-weight: bold\">(</span>Speech: <span style=\"color: #00ff00; text-decoration-color: #00ff00; font-style: italic\">True</span>, <span style=\"color: #008080; text-decoration-color: #008080; font-weight: bold\">1552320.0</span><span style=\"font-weight: bold\">)</span>                                    <a href=\"file://c:\\Users\\32165\\Development\\vocal_generating_pack\\src\\thirdparties\\so_vits_svc_fork\\inference\\core.py\" target=\"_blank\"><span style=\"color: #7f7f7f; text-decoration-color: #7f7f7f\">core.py</span></a><span style=\"color: #7f7f7f; text-decoration-color: #7f7f7f\">:</span><a href=\"file://c:\\Users\\32165\\Development\\vocal_generating_pack\\src\\thirdparties\\so_vits_svc_fork\\inference\\core.py#286\" target=\"_blank\"><span style=\"color: #7f7f7f; text-decoration-color: #7f7f7f\">286</span></a>\n",
       "</pre>\n"
      ],
      "text/plain": [
       "\u001B[2;36m[17:25:52]\u001B[0m\u001B[2;36m \u001B[0m\u001B[34mINFO    \u001B[0m \u001B[1m[\u001B[0m\u001B[1;92m17:25:52\u001B[0m\u001B[1m]\u001B[0m Chunk: \u001B[1;35mChunk\u001B[0m\u001B[1m(\u001B[0mSpeech: \u001B[3;92mTrue\u001B[0m, \u001B[1;36m1552320.0\u001B[0m\u001B[1m)\u001B[0m                                    \u001B]8;id=522376;file://c:\\Users\\32165\\Development\\vocal_generating_pack\\src\\thirdparties\\so_vits_svc_fork\\inference\\core.py\u001B\\\u001B[2mcore.py\u001B[0m\u001B]8;;\u001B\\\u001B[2m:\u001B[0m\u001B]8;id=506937;file://c:\\Users\\32165\\Development\\vocal_generating_pack\\src\\thirdparties\\so_vits_svc_fork\\inference\\core.py#286\u001B\\\u001B[2m286\u001B[0m\u001B]8;;\u001B\\\n"
      ]
     },
     "metadata": {},
     "output_type": "display_data"
    },
    {
     "data": {
      "text/html": [
       "<pre style=\"white-space:pre;overflow-x:auto;line-height:normal;font-family:Menlo,'DejaVu Sans Mono',consolas,'Courier New',monospace\"><span style=\"color: #7fbfbf; text-decoration-color: #7fbfbf\">[17:25:53] </span><span style=\"color: #000080; text-decoration-color: #000080\">INFO    </span> <span style=\"font-weight: bold\">[</span><span style=\"color: #00ff00; text-decoration-color: #00ff00; font-weight: bold\">17:25:53</span><span style=\"font-weight: bold\">]</span> F0 inference time:       <span style=\"color: #008080; text-decoration-color: #008080; font-weight: bold\">0.</span>813s, RTF: <span style=\"color: #008080; text-decoration-color: #008080; font-weight: bold\">0.022</span>                                <a href=\"file://c:\\Users\\32165\\Development\\vocal_generating_pack\\src\\thirdparties\\so_vits_svc_fork\\f0.py\" target=\"_blank\"><span style=\"color: #7f7f7f; text-decoration-color: #7f7f7f\">f0.py</span></a><span style=\"color: #7f7f7f; text-decoration-color: #7f7f7f\">:</span><a href=\"file://c:\\Users\\32165\\Development\\vocal_generating_pack\\src\\thirdparties\\so_vits_svc_fork\\f0.py#214\" target=\"_blank\"><span style=\"color: #7f7f7f; text-decoration-color: #7f7f7f\">214</span></a>\n",
       "</pre>\n"
      ],
      "text/plain": [
       "\u001B[2;36m[17:25:53]\u001B[0m\u001B[2;36m \u001B[0m\u001B[34mINFO    \u001B[0m \u001B[1m[\u001B[0m\u001B[1;92m17:25:53\u001B[0m\u001B[1m]\u001B[0m F0 inference time:       \u001B[1;36m0.\u001B[0m813s, RTF: \u001B[1;36m0.022\u001B[0m                                \u001B]8;id=220271;file://c:\\Users\\32165\\Development\\vocal_generating_pack\\src\\thirdparties\\so_vits_svc_fork\\f0.py\u001B\\\u001B[2mf0.py\u001B[0m\u001B]8;;\u001B\\\u001B[2m:\u001B[0m\u001B]8;id=469454;file://c:\\Users\\32165\\Development\\vocal_generating_pack\\src\\thirdparties\\so_vits_svc_fork\\f0.py#214\u001B\\\u001B[2m214\u001B[0m\u001B]8;;\u001B\\\n"
      ]
     },
     "metadata": {},
     "output_type": "display_data"
    },
    {
     "data": {
      "text/html": [
       "<pre style=\"white-space:pre;overflow-x:auto;line-height:normal;font-family:Menlo,'DejaVu Sans Mono',consolas,'Courier New',monospace\"><span style=\"color: #7fbfbf; text-decoration-color: #7fbfbf\">           </span><span style=\"color: #000080; text-decoration-color: #000080\">INFO    </span> <span style=\"font-weight: bold\">[</span><span style=\"color: #00ff00; text-decoration-color: #00ff00; font-weight: bold\">17:25:53</span><span style=\"font-weight: bold\">]</span> HuBERT inference time  : <span style=\"color: #008080; text-decoration-color: #008080; font-weight: bold\">0.</span>023s, RTF: <span style=\"color: #008080; text-decoration-color: #008080; font-weight: bold\">0.001</span>                             <a href=\"file://c:\\Users\\32165\\Development\\vocal_generating_pack\\src\\thirdparties\\so_vits_svc_fork\\utils.py\" target=\"_blank\"><span style=\"color: #7f7f7f; text-decoration-color: #7f7f7f\">utils.py</span></a><span style=\"color: #7f7f7f; text-decoration-color: #7f7f7f\">:</span><a href=\"file://c:\\Users\\32165\\Development\\vocal_generating_pack\\src\\thirdparties\\so_vits_svc_fork\\utils.py#214\" target=\"_blank\"><span style=\"color: #7f7f7f; text-decoration-color: #7f7f7f\">214</span></a>\n",
       "</pre>\n"
      ],
      "text/plain": [
       "\u001B[2;36m          \u001B[0m\u001B[2;36m \u001B[0m\u001B[34mINFO    \u001B[0m \u001B[1m[\u001B[0m\u001B[1;92m17:25:53\u001B[0m\u001B[1m]\u001B[0m HuBERT inference time  : \u001B[1;36m0.\u001B[0m023s, RTF: \u001B[1;36m0.001\u001B[0m                             \u001B]8;id=609030;file://c:\\Users\\32165\\Development\\vocal_generating_pack\\src\\thirdparties\\so_vits_svc_fork\\utils.py\u001B\\\u001B[2mutils.py\u001B[0m\u001B]8;;\u001B\\\u001B[2m:\u001B[0m\u001B]8;id=654083;file://c:\\Users\\32165\\Development\\vocal_generating_pack\\src\\thirdparties\\so_vits_svc_fork\\utils.py#214\u001B\\\u001B[2m214\u001B[0m\u001B]8;;\u001B\\\n"
      ]
     },
     "metadata": {},
     "output_type": "display_data"
    },
    {
     "data": {
      "text/html": [
       "<pre style=\"white-space:pre;overflow-x:auto;line-height:normal;font-family:Menlo,'DejaVu Sans Mono',consolas,'Courier New',monospace\"><span style=\"color: #7fbfbf; text-decoration-color: #7fbfbf\">           </span><span style=\"color: #000080; text-decoration-color: #000080\">INFO    </span> <span style=\"font-weight: bold\">[</span><span style=\"color: #00ff00; text-decoration-color: #00ff00; font-weight: bold\">17:25:53</span><span style=\"font-weight: bold\">]</span> Inferece time: <span style=\"color: #008080; text-decoration-color: #008080; font-weight: bold\">0.</span>19s, RTF: <span style=\"color: #008080; text-decoration-color: #008080; font-weight: bold\">0.01</span>                                          <a href=\"file://c:\\Users\\32165\\Development\\vocal_generating_pack\\src\\thirdparties\\so_vits_svc_fork\\inference\\core.py\" target=\"_blank\"><span style=\"color: #7f7f7f; text-decoration-color: #7f7f7f\">core.py</span></a><span style=\"color: #7f7f7f; text-decoration-color: #7f7f7f\">:</span><a href=\"file://c:\\Users\\32165\\Development\\vocal_generating_pack\\src\\thirdparties\\so_vits_svc_fork\\inference\\core.py#238\" target=\"_blank\"><span style=\"color: #7f7f7f; text-decoration-color: #7f7f7f\">238</span></a>\n",
       "</pre>\n"
      ],
      "text/plain": [
       "\u001B[2;36m          \u001B[0m\u001B[2;36m \u001B[0m\u001B[34mINFO    \u001B[0m \u001B[1m[\u001B[0m\u001B[1;92m17:25:53\u001B[0m\u001B[1m]\u001B[0m Inferece time: \u001B[1;36m0.\u001B[0m19s, RTF: \u001B[1;36m0.01\u001B[0m                                          \u001B]8;id=62484;file://c:\\Users\\32165\\Development\\vocal_generating_pack\\src\\thirdparties\\so_vits_svc_fork\\inference\\core.py\u001B\\\u001B[2mcore.py\u001B[0m\u001B]8;;\u001B\\\u001B[2m:\u001B[0m\u001B]8;id=118883;file://c:\\Users\\32165\\Development\\vocal_generating_pack\\src\\thirdparties\\so_vits_svc_fork\\inference\\core.py#238\u001B\\\u001B[2m238\u001B[0m\u001B]8;;\u001B\\\n"
      ]
     },
     "metadata": {},
     "output_type": "display_data"
    },
    {
     "data": {
      "text/html": [
       "<pre style=\"white-space:pre;overflow-x:auto;line-height:normal;font-family:Menlo,'DejaVu Sans Mono',consolas,'Courier New',monospace\"><span style=\"color: #7fbfbf; text-decoration-color: #7fbfbf\">[17:25:55] </span><span style=\"color: #000080; text-decoration-color: #000080\">INFO    </span> <span style=\"font-weight: bold\">[</span><span style=\"color: #00ff00; text-decoration-color: #00ff00; font-weight: bold\">17:25:55</span><span style=\"font-weight: bold\">]</span> Chunk: <span style=\"color: #800080; text-decoration-color: #800080; font-weight: bold\">Chunk</span><span style=\"font-weight: bold\">(</span>Speech: <span style=\"color: #ff0000; text-decoration-color: #ff0000; font-style: italic\">False</span>, <span style=\"color: #008080; text-decoration-color: #008080; font-weight: bold\">273420.0</span><span style=\"font-weight: bold\">)</span>                                    <a href=\"file://c:\\Users\\32165\\Development\\vocal_generating_pack\\src\\thirdparties\\so_vits_svc_fork\\inference\\core.py\" target=\"_blank\"><span style=\"color: #7f7f7f; text-decoration-color: #7f7f7f\">core.py</span></a><span style=\"color: #7f7f7f; text-decoration-color: #7f7f7f\">:</span><a href=\"file://c:\\Users\\32165\\Development\\vocal_generating_pack\\src\\thirdparties\\so_vits_svc_fork\\inference\\core.py#286\" target=\"_blank\"><span style=\"color: #7f7f7f; text-decoration-color: #7f7f7f\">286</span></a>\n",
       "</pre>\n"
      ],
      "text/plain": [
       "\u001B[2;36m[17:25:55]\u001B[0m\u001B[2;36m \u001B[0m\u001B[34mINFO    \u001B[0m \u001B[1m[\u001B[0m\u001B[1;92m17:25:55\u001B[0m\u001B[1m]\u001B[0m Chunk: \u001B[1;35mChunk\u001B[0m\u001B[1m(\u001B[0mSpeech: \u001B[3;91mFalse\u001B[0m, \u001B[1;36m273420.0\u001B[0m\u001B[1m)\u001B[0m                                    \u001B]8;id=193902;file://c:\\Users\\32165\\Development\\vocal_generating_pack\\src\\thirdparties\\so_vits_svc_fork\\inference\\core.py\u001B\\\u001B[2mcore.py\u001B[0m\u001B]8;;\u001B\\\u001B[2m:\u001B[0m\u001B]8;id=79831;file://c:\\Users\\32165\\Development\\vocal_generating_pack\\src\\thirdparties\\so_vits_svc_fork\\inference\\core.py#286\u001B\\\u001B[2m286\u001B[0m\u001B]8;;\u001B\\\n"
      ]
     },
     "metadata": {},
     "output_type": "display_data"
    },
    {
     "data": {
      "text/html": [
       "<pre style=\"white-space:pre;overflow-x:auto;line-height:normal;font-family:Menlo,'DejaVu Sans Mono',consolas,'Courier New',monospace\"><span style=\"color: #7fbfbf; text-decoration-color: #7fbfbf\">           </span><span style=\"color: #000080; text-decoration-color: #000080\">INFO    </span> <span style=\"font-weight: bold\">[</span><span style=\"color: #00ff00; text-decoration-color: #00ff00; font-weight: bold\">17:25:55</span><span style=\"font-weight: bold\">]</span> Chunk: <span style=\"color: #800080; text-decoration-color: #800080; font-weight: bold\">Chunk</span><span style=\"font-weight: bold\">(</span>Speech: <span style=\"color: #00ff00; text-decoration-color: #00ff00; font-style: italic\">True</span>, <span style=\"color: #008080; text-decoration-color: #008080; font-weight: bold\">379260.0</span><span style=\"font-weight: bold\">)</span>                                     <a href=\"file://c:\\Users\\32165\\Development\\vocal_generating_pack\\src\\thirdparties\\so_vits_svc_fork\\inference\\core.py\" target=\"_blank\"><span style=\"color: #7f7f7f; text-decoration-color: #7f7f7f\">core.py</span></a><span style=\"color: #7f7f7f; text-decoration-color: #7f7f7f\">:</span><a href=\"file://c:\\Users\\32165\\Development\\vocal_generating_pack\\src\\thirdparties\\so_vits_svc_fork\\inference\\core.py#286\" target=\"_blank\"><span style=\"color: #7f7f7f; text-decoration-color: #7f7f7f\">286</span></a>\n",
       "</pre>\n"
      ],
      "text/plain": [
       "\u001B[2;36m          \u001B[0m\u001B[2;36m \u001B[0m\u001B[34mINFO    \u001B[0m \u001B[1m[\u001B[0m\u001B[1;92m17:25:55\u001B[0m\u001B[1m]\u001B[0m Chunk: \u001B[1;35mChunk\u001B[0m\u001B[1m(\u001B[0mSpeech: \u001B[3;92mTrue\u001B[0m, \u001B[1;36m379260.0\u001B[0m\u001B[1m)\u001B[0m                                     \u001B]8;id=375439;file://c:\\Users\\32165\\Development\\vocal_generating_pack\\src\\thirdparties\\so_vits_svc_fork\\inference\\core.py\u001B\\\u001B[2mcore.py\u001B[0m\u001B]8;;\u001B\\\u001B[2m:\u001B[0m\u001B]8;id=895992;file://c:\\Users\\32165\\Development\\vocal_generating_pack\\src\\thirdparties\\so_vits_svc_fork\\inference\\core.py#286\u001B\\\u001B[2m286\u001B[0m\u001B]8;;\u001B\\\n"
      ]
     },
     "metadata": {},
     "output_type": "display_data"
    },
    {
     "data": {
      "text/html": [
       "<pre style=\"white-space:pre;overflow-x:auto;line-height:normal;font-family:Menlo,'DejaVu Sans Mono',consolas,'Courier New',monospace\"><span style=\"color: #7fbfbf; text-decoration-color: #7fbfbf\">           </span><span style=\"color: #000080; text-decoration-color: #000080\">INFO    </span> <span style=\"font-weight: bold\">[</span><span style=\"color: #00ff00; text-decoration-color: #00ff00; font-weight: bold\">17:25:55</span><span style=\"font-weight: bold\">]</span> F0 inference time:       <span style=\"color: #008080; text-decoration-color: #008080; font-weight: bold\">0.</span>185s, RTF: <span style=\"color: #008080; text-decoration-color: #008080; font-weight: bold\">0.019</span>                                <a href=\"file://c:\\Users\\32165\\Development\\vocal_generating_pack\\src\\thirdparties\\so_vits_svc_fork\\f0.py\" target=\"_blank\"><span style=\"color: #7f7f7f; text-decoration-color: #7f7f7f\">f0.py</span></a><span style=\"color: #7f7f7f; text-decoration-color: #7f7f7f\">:</span><a href=\"file://c:\\Users\\32165\\Development\\vocal_generating_pack\\src\\thirdparties\\so_vits_svc_fork\\f0.py#214\" target=\"_blank\"><span style=\"color: #7f7f7f; text-decoration-color: #7f7f7f\">214</span></a>\n",
       "</pre>\n"
      ],
      "text/plain": [
       "\u001B[2;36m          \u001B[0m\u001B[2;36m \u001B[0m\u001B[34mINFO    \u001B[0m \u001B[1m[\u001B[0m\u001B[1;92m17:25:55\u001B[0m\u001B[1m]\u001B[0m F0 inference time:       \u001B[1;36m0.\u001B[0m185s, RTF: \u001B[1;36m0.019\u001B[0m                                \u001B]8;id=738841;file://c:\\Users\\32165\\Development\\vocal_generating_pack\\src\\thirdparties\\so_vits_svc_fork\\f0.py\u001B\\\u001B[2mf0.py\u001B[0m\u001B]8;;\u001B\\\u001B[2m:\u001B[0m\u001B]8;id=395583;file://c:\\Users\\32165\\Development\\vocal_generating_pack\\src\\thirdparties\\so_vits_svc_fork\\f0.py#214\u001B\\\u001B[2m214\u001B[0m\u001B]8;;\u001B\\\n"
      ]
     },
     "metadata": {},
     "output_type": "display_data"
    },
    {
     "data": {
      "text/html": [
       "<pre style=\"white-space:pre;overflow-x:auto;line-height:normal;font-family:Menlo,'DejaVu Sans Mono',consolas,'Courier New',monospace\"><span style=\"color: #7fbfbf; text-decoration-color: #7fbfbf\">           </span><span style=\"color: #000080; text-decoration-color: #000080\">INFO    </span> <span style=\"font-weight: bold\">[</span><span style=\"color: #00ff00; text-decoration-color: #00ff00; font-weight: bold\">17:25:55</span><span style=\"font-weight: bold\">]</span> HuBERT inference time  : <span style=\"color: #008080; text-decoration-color: #008080; font-weight: bold\">0.</span>016s, RTF: <span style=\"color: #008080; text-decoration-color: #008080; font-weight: bold\">0.002</span>                             <a href=\"file://c:\\Users\\32165\\Development\\vocal_generating_pack\\src\\thirdparties\\so_vits_svc_fork\\utils.py\" target=\"_blank\"><span style=\"color: #7f7f7f; text-decoration-color: #7f7f7f\">utils.py</span></a><span style=\"color: #7f7f7f; text-decoration-color: #7f7f7f\">:</span><a href=\"file://c:\\Users\\32165\\Development\\vocal_generating_pack\\src\\thirdparties\\so_vits_svc_fork\\utils.py#214\" target=\"_blank\"><span style=\"color: #7f7f7f; text-decoration-color: #7f7f7f\">214</span></a>\n",
       "</pre>\n"
      ],
      "text/plain": [
       "\u001B[2;36m          \u001B[0m\u001B[2;36m \u001B[0m\u001B[34mINFO    \u001B[0m \u001B[1m[\u001B[0m\u001B[1;92m17:25:55\u001B[0m\u001B[1m]\u001B[0m HuBERT inference time  : \u001B[1;36m0.\u001B[0m016s, RTF: \u001B[1;36m0.002\u001B[0m                             \u001B]8;id=592147;file://c:\\Users\\32165\\Development\\vocal_generating_pack\\src\\thirdparties\\so_vits_svc_fork\\utils.py\u001B\\\u001B[2mutils.py\u001B[0m\u001B]8;;\u001B\\\u001B[2m:\u001B[0m\u001B]8;id=259276;file://c:\\Users\\32165\\Development\\vocal_generating_pack\\src\\thirdparties\\so_vits_svc_fork\\utils.py#214\u001B\\\u001B[2m214\u001B[0m\u001B]8;;\u001B\\\n"
      ]
     },
     "metadata": {},
     "output_type": "display_data"
    },
    {
     "data": {
      "text/html": [
       "<pre style=\"white-space:pre;overflow-x:auto;line-height:normal;font-family:Menlo,'DejaVu Sans Mono',consolas,'Courier New',monospace\"><span style=\"color: #7fbfbf; text-decoration-color: #7fbfbf\">           </span><span style=\"color: #000080; text-decoration-color: #000080\">INFO    </span> <span style=\"font-weight: bold\">[</span><span style=\"color: #00ff00; text-decoration-color: #00ff00; font-weight: bold\">17:25:55</span><span style=\"font-weight: bold\">]</span> Inferece time: <span style=\"color: #008080; text-decoration-color: #008080; font-weight: bold\">0.</span>07s, RTF: <span style=\"color: #008080; text-decoration-color: #008080; font-weight: bold\">0.01</span>                                          <a href=\"file://c:\\Users\\32165\\Development\\vocal_generating_pack\\src\\thirdparties\\so_vits_svc_fork\\inference\\core.py\" target=\"_blank\"><span style=\"color: #7f7f7f; text-decoration-color: #7f7f7f\">core.py</span></a><span style=\"color: #7f7f7f; text-decoration-color: #7f7f7f\">:</span><a href=\"file://c:\\Users\\32165\\Development\\vocal_generating_pack\\src\\thirdparties\\so_vits_svc_fork\\inference\\core.py#238\" target=\"_blank\"><span style=\"color: #7f7f7f; text-decoration-color: #7f7f7f\">238</span></a>\n",
       "</pre>\n"
      ],
      "text/plain": [
       "\u001B[2;36m          \u001B[0m\u001B[2;36m \u001B[0m\u001B[34mINFO    \u001B[0m \u001B[1m[\u001B[0m\u001B[1;92m17:25:55\u001B[0m\u001B[1m]\u001B[0m Inferece time: \u001B[1;36m0.\u001B[0m07s, RTF: \u001B[1;36m0.01\u001B[0m                                          \u001B]8;id=516781;file://c:\\Users\\32165\\Development\\vocal_generating_pack\\src\\thirdparties\\so_vits_svc_fork\\inference\\core.py\u001B\\\u001B[2mcore.py\u001B[0m\u001B]8;;\u001B\\\u001B[2m:\u001B[0m\u001B]8;id=842563;file://c:\\Users\\32165\\Development\\vocal_generating_pack\\src\\thirdparties\\so_vits_svc_fork\\inference\\core.py#238\u001B\\\u001B[2m238\u001B[0m\u001B]8;;\u001B\\\n"
      ]
     },
     "metadata": {},
     "output_type": "display_data"
    },
    {
     "data": {
      "text/html": [
       "<pre style=\"white-space:pre;overflow-x:auto;line-height:normal;font-family:Menlo,'DejaVu Sans Mono',consolas,'Courier New',monospace\"><span style=\"color: #7fbfbf; text-decoration-color: #7fbfbf\">           </span><span style=\"color: #000080; text-decoration-color: #000080\">INFO    </span> <span style=\"font-weight: bold\">[</span><span style=\"color: #00ff00; text-decoration-color: #00ff00; font-weight: bold\">17:25:55</span><span style=\"font-weight: bold\">]</span> Chunk: <span style=\"color: #800080; text-decoration-color: #800080; font-weight: bold\">Chunk</span><span style=\"font-weight: bold\">(</span>Speech: <span style=\"color: #ff0000; text-decoration-color: #ff0000; font-style: italic\">False</span>, <span style=\"color: #008080; text-decoration-color: #008080; font-weight: bold\">114660.0</span><span style=\"font-weight: bold\">)</span>                                    <a href=\"file://c:\\Users\\32165\\Development\\vocal_generating_pack\\src\\thirdparties\\so_vits_svc_fork\\inference\\core.py\" target=\"_blank\"><span style=\"color: #7f7f7f; text-decoration-color: #7f7f7f\">core.py</span></a><span style=\"color: #7f7f7f; text-decoration-color: #7f7f7f\">:</span><a href=\"file://c:\\Users\\32165\\Development\\vocal_generating_pack\\src\\thirdparties\\so_vits_svc_fork\\inference\\core.py#286\" target=\"_blank\"><span style=\"color: #7f7f7f; text-decoration-color: #7f7f7f\">286</span></a>\n",
       "</pre>\n"
      ],
      "text/plain": [
       "\u001B[2;36m          \u001B[0m\u001B[2;36m \u001B[0m\u001B[34mINFO    \u001B[0m \u001B[1m[\u001B[0m\u001B[1;92m17:25:55\u001B[0m\u001B[1m]\u001B[0m Chunk: \u001B[1;35mChunk\u001B[0m\u001B[1m(\u001B[0mSpeech: \u001B[3;91mFalse\u001B[0m, \u001B[1;36m114660.0\u001B[0m\u001B[1m)\u001B[0m                                    \u001B]8;id=162458;file://c:\\Users\\32165\\Development\\vocal_generating_pack\\src\\thirdparties\\so_vits_svc_fork\\inference\\core.py\u001B\\\u001B[2mcore.py\u001B[0m\u001B]8;;\u001B\\\u001B[2m:\u001B[0m\u001B]8;id=890158;file://c:\\Users\\32165\\Development\\vocal_generating_pack\\src\\thirdparties\\so_vits_svc_fork\\inference\\core.py#286\u001B\\\u001B[2m286\u001B[0m\u001B]8;;\u001B\\\n"
      ]
     },
     "metadata": {},
     "output_type": "display_data"
    },
    {
     "data": {
      "text/html": [
       "<pre style=\"white-space:pre;overflow-x:auto;line-height:normal;font-family:Menlo,'DejaVu Sans Mono',consolas,'Courier New',monospace\"><span style=\"color: #7fbfbf; text-decoration-color: #7fbfbf\">           </span><span style=\"color: #000080; text-decoration-color: #000080\">INFO    </span> <span style=\"font-weight: bold\">[</span><span style=\"color: #00ff00; text-decoration-color: #00ff00; font-weight: bold\">17:25:55</span><span style=\"font-weight: bold\">]</span> Chunk: <span style=\"color: #800080; text-decoration-color: #800080; font-weight: bold\">Chunk</span><span style=\"font-weight: bold\">(</span>Speech: <span style=\"color: #00ff00; text-decoration-color: #00ff00; font-style: italic\">True</span>, <span style=\"color: #008080; text-decoration-color: #008080; font-weight: bold\">1649340.0</span><span style=\"font-weight: bold\">)</span>                                    <a href=\"file://c:\\Users\\32165\\Development\\vocal_generating_pack\\src\\thirdparties\\so_vits_svc_fork\\inference\\core.py\" target=\"_blank\"><span style=\"color: #7f7f7f; text-decoration-color: #7f7f7f\">core.py</span></a><span style=\"color: #7f7f7f; text-decoration-color: #7f7f7f\">:</span><a href=\"file://c:\\Users\\32165\\Development\\vocal_generating_pack\\src\\thirdparties\\so_vits_svc_fork\\inference\\core.py#286\" target=\"_blank\"><span style=\"color: #7f7f7f; text-decoration-color: #7f7f7f\">286</span></a>\n",
       "</pre>\n"
      ],
      "text/plain": [
       "\u001B[2;36m          \u001B[0m\u001B[2;36m \u001B[0m\u001B[34mINFO    \u001B[0m \u001B[1m[\u001B[0m\u001B[1;92m17:25:55\u001B[0m\u001B[1m]\u001B[0m Chunk: \u001B[1;35mChunk\u001B[0m\u001B[1m(\u001B[0mSpeech: \u001B[3;92mTrue\u001B[0m, \u001B[1;36m1649340.0\u001B[0m\u001B[1m)\u001B[0m                                    \u001B]8;id=633423;file://c:\\Users\\32165\\Development\\vocal_generating_pack\\src\\thirdparties\\so_vits_svc_fork\\inference\\core.py\u001B\\\u001B[2mcore.py\u001B[0m\u001B]8;;\u001B\\\u001B[2m:\u001B[0m\u001B]8;id=347348;file://c:\\Users\\32165\\Development\\vocal_generating_pack\\src\\thirdparties\\so_vits_svc_fork\\inference\\core.py#286\u001B\\\u001B[2m286\u001B[0m\u001B]8;;\u001B\\\n"
      ]
     },
     "metadata": {},
     "output_type": "display_data"
    },
    {
     "data": {
      "text/html": [
       "<pre style=\"white-space:pre;overflow-x:auto;line-height:normal;font-family:Menlo,'DejaVu Sans Mono',consolas,'Courier New',monospace\"><span style=\"color: #7fbfbf; text-decoration-color: #7fbfbf\">[17:25:56] </span><span style=\"color: #000080; text-decoration-color: #000080\">INFO    </span> <span style=\"font-weight: bold\">[</span><span style=\"color: #00ff00; text-decoration-color: #00ff00; font-weight: bold\">17:25:56</span><span style=\"font-weight: bold\">]</span> F0 inference time:       <span style=\"color: #008080; text-decoration-color: #008080; font-weight: bold\">0.</span>868s, RTF: <span style=\"color: #008080; text-decoration-color: #008080; font-weight: bold\">0.023</span>                                <a href=\"file://c:\\Users\\32165\\Development\\vocal_generating_pack\\src\\thirdparties\\so_vits_svc_fork\\f0.py\" target=\"_blank\"><span style=\"color: #7f7f7f; text-decoration-color: #7f7f7f\">f0.py</span></a><span style=\"color: #7f7f7f; text-decoration-color: #7f7f7f\">:</span><a href=\"file://c:\\Users\\32165\\Development\\vocal_generating_pack\\src\\thirdparties\\so_vits_svc_fork\\f0.py#214\" target=\"_blank\"><span style=\"color: #7f7f7f; text-decoration-color: #7f7f7f\">214</span></a>\n",
       "</pre>\n"
      ],
      "text/plain": [
       "\u001B[2;36m[17:25:56]\u001B[0m\u001B[2;36m \u001B[0m\u001B[34mINFO    \u001B[0m \u001B[1m[\u001B[0m\u001B[1;92m17:25:56\u001B[0m\u001B[1m]\u001B[0m F0 inference time:       \u001B[1;36m0.\u001B[0m868s, RTF: \u001B[1;36m0.023\u001B[0m                                \u001B]8;id=435237;file://c:\\Users\\32165\\Development\\vocal_generating_pack\\src\\thirdparties\\so_vits_svc_fork\\f0.py\u001B\\\u001B[2mf0.py\u001B[0m\u001B]8;;\u001B\\\u001B[2m:\u001B[0m\u001B]8;id=137547;file://c:\\Users\\32165\\Development\\vocal_generating_pack\\src\\thirdparties\\so_vits_svc_fork\\f0.py#214\u001B\\\u001B[2m214\u001B[0m\u001B]8;;\u001B\\\n"
      ]
     },
     "metadata": {},
     "output_type": "display_data"
    },
    {
     "data": {
      "text/html": [
       "<pre style=\"white-space:pre;overflow-x:auto;line-height:normal;font-family:Menlo,'DejaVu Sans Mono',consolas,'Courier New',monospace\"><span style=\"color: #7fbfbf; text-decoration-color: #7fbfbf\">           </span><span style=\"color: #000080; text-decoration-color: #000080\">INFO    </span> <span style=\"font-weight: bold\">[</span><span style=\"color: #00ff00; text-decoration-color: #00ff00; font-weight: bold\">17:25:56</span><span style=\"font-weight: bold\">]</span> HuBERT inference time  : <span style=\"color: #008080; text-decoration-color: #008080; font-weight: bold\">0.</span>024s, RTF: <span style=\"color: #008080; text-decoration-color: #008080; font-weight: bold\">0.001</span>                             <a href=\"file://c:\\Users\\32165\\Development\\vocal_generating_pack\\src\\thirdparties\\so_vits_svc_fork\\utils.py\" target=\"_blank\"><span style=\"color: #7f7f7f; text-decoration-color: #7f7f7f\">utils.py</span></a><span style=\"color: #7f7f7f; text-decoration-color: #7f7f7f\">:</span><a href=\"file://c:\\Users\\32165\\Development\\vocal_generating_pack\\src\\thirdparties\\so_vits_svc_fork\\utils.py#214\" target=\"_blank\"><span style=\"color: #7f7f7f; text-decoration-color: #7f7f7f\">214</span></a>\n",
       "</pre>\n"
      ],
      "text/plain": [
       "\u001B[2;36m          \u001B[0m\u001B[2;36m \u001B[0m\u001B[34mINFO    \u001B[0m \u001B[1m[\u001B[0m\u001B[1;92m17:25:56\u001B[0m\u001B[1m]\u001B[0m HuBERT inference time  : \u001B[1;36m0.\u001B[0m024s, RTF: \u001B[1;36m0.001\u001B[0m                             \u001B]8;id=62331;file://c:\\Users\\32165\\Development\\vocal_generating_pack\\src\\thirdparties\\so_vits_svc_fork\\utils.py\u001B\\\u001B[2mutils.py\u001B[0m\u001B]8;;\u001B\\\u001B[2m:\u001B[0m\u001B]8;id=922503;file://c:\\Users\\32165\\Development\\vocal_generating_pack\\src\\thirdparties\\so_vits_svc_fork\\utils.py#214\u001B\\\u001B[2m214\u001B[0m\u001B]8;;\u001B\\\n"
      ]
     },
     "metadata": {},
     "output_type": "display_data"
    },
    {
     "data": {
      "text/html": [
       "<pre style=\"white-space:pre;overflow-x:auto;line-height:normal;font-family:Menlo,'DejaVu Sans Mono',consolas,'Courier New',monospace\"><span style=\"color: #7fbfbf; text-decoration-color: #7fbfbf\">           </span><span style=\"color: #000080; text-decoration-color: #000080\">INFO    </span> <span style=\"font-weight: bold\">[</span><span style=\"color: #00ff00; text-decoration-color: #00ff00; font-weight: bold\">17:25:56</span><span style=\"font-weight: bold\">]</span> Inferece time: <span style=\"color: #008080; text-decoration-color: #008080; font-weight: bold\">0.</span>20s, RTF: <span style=\"color: #008080; text-decoration-color: #008080; font-weight: bold\">0.01</span>                                          <a href=\"file://c:\\Users\\32165\\Development\\vocal_generating_pack\\src\\thirdparties\\so_vits_svc_fork\\inference\\core.py\" target=\"_blank\"><span style=\"color: #7f7f7f; text-decoration-color: #7f7f7f\">core.py</span></a><span style=\"color: #7f7f7f; text-decoration-color: #7f7f7f\">:</span><a href=\"file://c:\\Users\\32165\\Development\\vocal_generating_pack\\src\\thirdparties\\so_vits_svc_fork\\inference\\core.py#238\" target=\"_blank\"><span style=\"color: #7f7f7f; text-decoration-color: #7f7f7f\">238</span></a>\n",
       "</pre>\n"
      ],
      "text/plain": [
       "\u001B[2;36m          \u001B[0m\u001B[2;36m \u001B[0m\u001B[34mINFO    \u001B[0m \u001B[1m[\u001B[0m\u001B[1;92m17:25:56\u001B[0m\u001B[1m]\u001B[0m Inferece time: \u001B[1;36m0.\u001B[0m20s, RTF: \u001B[1;36m0.01\u001B[0m                                          \u001B]8;id=35039;file://c:\\Users\\32165\\Development\\vocal_generating_pack\\src\\thirdparties\\so_vits_svc_fork\\inference\\core.py\u001B\\\u001B[2mcore.py\u001B[0m\u001B]8;;\u001B\\\u001B[2m:\u001B[0m\u001B]8;id=966093;file://c:\\Users\\32165\\Development\\vocal_generating_pack\\src\\thirdparties\\so_vits_svc_fork\\inference\\core.py#238\u001B\\\u001B[2m238\u001B[0m\u001B]8;;\u001B\\\n"
      ]
     },
     "metadata": {},
     "output_type": "display_data"
    },
    {
     "data": {
      "text/html": [
       "<pre style=\"white-space:pre;overflow-x:auto;line-height:normal;font-family:Menlo,'DejaVu Sans Mono',consolas,'Courier New',monospace\"><span style=\"color: #7fbfbf; text-decoration-color: #7fbfbf\">[17:25:58] </span><span style=\"color: #000080; text-decoration-color: #000080\">INFO    </span> <span style=\"font-weight: bold\">[</span><span style=\"color: #00ff00; text-decoration-color: #00ff00; font-weight: bold\">17:25:58</span><span style=\"font-weight: bold\">]</span> Chunk: <span style=\"color: #800080; text-decoration-color: #800080; font-weight: bold\">Chunk</span><span style=\"font-weight: bold\">(</span>Speech: <span style=\"color: #ff0000; text-decoration-color: #ff0000; font-style: italic\">False</span>, <span style=\"color: #008080; text-decoration-color: #008080; font-weight: bold\">8820.0</span><span style=\"font-weight: bold\">)</span>                                      <a href=\"file://c:\\Users\\32165\\Development\\vocal_generating_pack\\src\\thirdparties\\so_vits_svc_fork\\inference\\core.py\" target=\"_blank\"><span style=\"color: #7f7f7f; text-decoration-color: #7f7f7f\">core.py</span></a><span style=\"color: #7f7f7f; text-decoration-color: #7f7f7f\">:</span><a href=\"file://c:\\Users\\32165\\Development\\vocal_generating_pack\\src\\thirdparties\\so_vits_svc_fork\\inference\\core.py#286\" target=\"_blank\"><span style=\"color: #7f7f7f; text-decoration-color: #7f7f7f\">286</span></a>\n",
       "</pre>\n"
      ],
      "text/plain": [
       "\u001B[2;36m[17:25:58]\u001B[0m\u001B[2;36m \u001B[0m\u001B[34mINFO    \u001B[0m \u001B[1m[\u001B[0m\u001B[1;92m17:25:58\u001B[0m\u001B[1m]\u001B[0m Chunk: \u001B[1;35mChunk\u001B[0m\u001B[1m(\u001B[0mSpeech: \u001B[3;91mFalse\u001B[0m, \u001B[1;36m8820.0\u001B[0m\u001B[1m)\u001B[0m                                      \u001B]8;id=466308;file://c:\\Users\\32165\\Development\\vocal_generating_pack\\src\\thirdparties\\so_vits_svc_fork\\inference\\core.py\u001B\\\u001B[2mcore.py\u001B[0m\u001B]8;;\u001B\\\u001B[2m:\u001B[0m\u001B]8;id=472379;file://c:\\Users\\32165\\Development\\vocal_generating_pack\\src\\thirdparties\\so_vits_svc_fork\\inference\\core.py#286\u001B\\\u001B[2m286\u001B[0m\u001B]8;;\u001B\\\n"
      ]
     },
     "metadata": {},
     "output_type": "display_data"
    },
    {
     "data": {
      "text/html": [
       "<pre style=\"white-space:pre;overflow-x:auto;line-height:normal;font-family:Menlo,'DejaVu Sans Mono',consolas,'Courier New',monospace\"><span style=\"color: #7fbfbf; text-decoration-color: #7fbfbf\">           </span><span style=\"color: #000080; text-decoration-color: #000080\">INFO    </span> <span style=\"font-weight: bold\">[</span><span style=\"color: #00ff00; text-decoration-color: #00ff00; font-weight: bold\">17:25:58</span><span style=\"font-weight: bold\">]</span> Chunk: <span style=\"color: #800080; text-decoration-color: #800080; font-weight: bold\">Chunk</span><span style=\"font-weight: bold\">(</span>Speech: <span style=\"color: #00ff00; text-decoration-color: #00ff00; font-style: italic\">True</span>, <span style=\"color: #008080; text-decoration-color: #008080; font-weight: bold\">1305360.0</span><span style=\"font-weight: bold\">)</span>                                    <a href=\"file://c:\\Users\\32165\\Development\\vocal_generating_pack\\src\\thirdparties\\so_vits_svc_fork\\inference\\core.py\" target=\"_blank\"><span style=\"color: #7f7f7f; text-decoration-color: #7f7f7f\">core.py</span></a><span style=\"color: #7f7f7f; text-decoration-color: #7f7f7f\">:</span><a href=\"file://c:\\Users\\32165\\Development\\vocal_generating_pack\\src\\thirdparties\\so_vits_svc_fork\\inference\\core.py#286\" target=\"_blank\"><span style=\"color: #7f7f7f; text-decoration-color: #7f7f7f\">286</span></a>\n",
       "</pre>\n"
      ],
      "text/plain": [
       "\u001B[2;36m          \u001B[0m\u001B[2;36m \u001B[0m\u001B[34mINFO    \u001B[0m \u001B[1m[\u001B[0m\u001B[1;92m17:25:58\u001B[0m\u001B[1m]\u001B[0m Chunk: \u001B[1;35mChunk\u001B[0m\u001B[1m(\u001B[0mSpeech: \u001B[3;92mTrue\u001B[0m, \u001B[1;36m1305360.0\u001B[0m\u001B[1m)\u001B[0m                                    \u001B]8;id=8349;file://c:\\Users\\32165\\Development\\vocal_generating_pack\\src\\thirdparties\\so_vits_svc_fork\\inference\\core.py\u001B\\\u001B[2mcore.py\u001B[0m\u001B]8;;\u001B\\\u001B[2m:\u001B[0m\u001B]8;id=918329;file://c:\\Users\\32165\\Development\\vocal_generating_pack\\src\\thirdparties\\so_vits_svc_fork\\inference\\core.py#286\u001B\\\u001B[2m286\u001B[0m\u001B]8;;\u001B\\\n"
      ]
     },
     "metadata": {},
     "output_type": "display_data"
    },
    {
     "data": {
      "text/html": [
       "<pre style=\"white-space:pre;overflow-x:auto;line-height:normal;font-family:Menlo,'DejaVu Sans Mono',consolas,'Courier New',monospace\"><span style=\"color: #7fbfbf; text-decoration-color: #7fbfbf\">           </span><span style=\"color: #000080; text-decoration-color: #000080\">INFO    </span> <span style=\"font-weight: bold\">[</span><span style=\"color: #00ff00; text-decoration-color: #00ff00; font-weight: bold\">17:25:58</span><span style=\"font-weight: bold\">]</span> F0 inference time:       <span style=\"color: #008080; text-decoration-color: #008080; font-weight: bold\">0.</span>779s, RTF: <span style=\"color: #008080; text-decoration-color: #008080; font-weight: bold\">0.025</span>                                <a href=\"file://c:\\Users\\32165\\Development\\vocal_generating_pack\\src\\thirdparties\\so_vits_svc_fork\\f0.py\" target=\"_blank\"><span style=\"color: #7f7f7f; text-decoration-color: #7f7f7f\">f0.py</span></a><span style=\"color: #7f7f7f; text-decoration-color: #7f7f7f\">:</span><a href=\"file://c:\\Users\\32165\\Development\\vocal_generating_pack\\src\\thirdparties\\so_vits_svc_fork\\f0.py#214\" target=\"_blank\"><span style=\"color: #7f7f7f; text-decoration-color: #7f7f7f\">214</span></a>\n",
       "</pre>\n"
      ],
      "text/plain": [
       "\u001B[2;36m          \u001B[0m\u001B[2;36m \u001B[0m\u001B[34mINFO    \u001B[0m \u001B[1m[\u001B[0m\u001B[1;92m17:25:58\u001B[0m\u001B[1m]\u001B[0m F0 inference time:       \u001B[1;36m0.\u001B[0m779s, RTF: \u001B[1;36m0.025\u001B[0m                                \u001B]8;id=369292;file://c:\\Users\\32165\\Development\\vocal_generating_pack\\src\\thirdparties\\so_vits_svc_fork\\f0.py\u001B\\\u001B[2mf0.py\u001B[0m\u001B]8;;\u001B\\\u001B[2m:\u001B[0m\u001B]8;id=781463;file://c:\\Users\\32165\\Development\\vocal_generating_pack\\src\\thirdparties\\so_vits_svc_fork\\f0.py#214\u001B\\\u001B[2m214\u001B[0m\u001B]8;;\u001B\\\n"
      ]
     },
     "metadata": {},
     "output_type": "display_data"
    },
    {
     "data": {
      "text/html": [
       "<pre style=\"white-space:pre;overflow-x:auto;line-height:normal;font-family:Menlo,'DejaVu Sans Mono',consolas,'Courier New',monospace\"><span style=\"color: #7fbfbf; text-decoration-color: #7fbfbf\">[17:25:59] </span><span style=\"color: #000080; text-decoration-color: #000080\">INFO    </span> <span style=\"font-weight: bold\">[</span><span style=\"color: #00ff00; text-decoration-color: #00ff00; font-weight: bold\">17:25:59</span><span style=\"font-weight: bold\">]</span> HuBERT inference time  : <span style=\"color: #008080; text-decoration-color: #008080; font-weight: bold\">0.</span>025s, RTF: <span style=\"color: #008080; text-decoration-color: #008080; font-weight: bold\">0.001</span>                             <a href=\"file://c:\\Users\\32165\\Development\\vocal_generating_pack\\src\\thirdparties\\so_vits_svc_fork\\utils.py\" target=\"_blank\"><span style=\"color: #7f7f7f; text-decoration-color: #7f7f7f\">utils.py</span></a><span style=\"color: #7f7f7f; text-decoration-color: #7f7f7f\">:</span><a href=\"file://c:\\Users\\32165\\Development\\vocal_generating_pack\\src\\thirdparties\\so_vits_svc_fork\\utils.py#214\" target=\"_blank\"><span style=\"color: #7f7f7f; text-decoration-color: #7f7f7f\">214</span></a>\n",
       "</pre>\n"
      ],
      "text/plain": [
       "\u001B[2;36m[17:25:59]\u001B[0m\u001B[2;36m \u001B[0m\u001B[34mINFO    \u001B[0m \u001B[1m[\u001B[0m\u001B[1;92m17:25:59\u001B[0m\u001B[1m]\u001B[0m HuBERT inference time  : \u001B[1;36m0.\u001B[0m025s, RTF: \u001B[1;36m0.001\u001B[0m                             \u001B]8;id=347025;file://c:\\Users\\32165\\Development\\vocal_generating_pack\\src\\thirdparties\\so_vits_svc_fork\\utils.py\u001B\\\u001B[2mutils.py\u001B[0m\u001B]8;;\u001B\\\u001B[2m:\u001B[0m\u001B]8;id=134352;file://c:\\Users\\32165\\Development\\vocal_generating_pack\\src\\thirdparties\\so_vits_svc_fork\\utils.py#214\u001B\\\u001B[2m214\u001B[0m\u001B]8;;\u001B\\\n"
      ]
     },
     "metadata": {},
     "output_type": "display_data"
    },
    {
     "data": {
      "text/html": [
       "<pre style=\"white-space:pre;overflow-x:auto;line-height:normal;font-family:Menlo,'DejaVu Sans Mono',consolas,'Courier New',monospace\"><span style=\"color: #7fbfbf; text-decoration-color: #7fbfbf\">           </span><span style=\"color: #000080; text-decoration-color: #000080\">INFO    </span> <span style=\"font-weight: bold\">[</span><span style=\"color: #00ff00; text-decoration-color: #00ff00; font-weight: bold\">17:25:59</span><span style=\"font-weight: bold\">]</span> Inferece time: <span style=\"color: #008080; text-decoration-color: #008080; font-weight: bold\">0.</span>15s, RTF: <span style=\"color: #008080; text-decoration-color: #008080; font-weight: bold\">0.00</span>                                          <a href=\"file://c:\\Users\\32165\\Development\\vocal_generating_pack\\src\\thirdparties\\so_vits_svc_fork\\inference\\core.py\" target=\"_blank\"><span style=\"color: #7f7f7f; text-decoration-color: #7f7f7f\">core.py</span></a><span style=\"color: #7f7f7f; text-decoration-color: #7f7f7f\">:</span><a href=\"file://c:\\Users\\32165\\Development\\vocal_generating_pack\\src\\thirdparties\\so_vits_svc_fork\\inference\\core.py#238\" target=\"_blank\"><span style=\"color: #7f7f7f; text-decoration-color: #7f7f7f\">238</span></a>\n",
       "</pre>\n"
      ],
      "text/plain": [
       "\u001B[2;36m          \u001B[0m\u001B[2;36m \u001B[0m\u001B[34mINFO    \u001B[0m \u001B[1m[\u001B[0m\u001B[1;92m17:25:59\u001B[0m\u001B[1m]\u001B[0m Inferece time: \u001B[1;36m0.\u001B[0m15s, RTF: \u001B[1;36m0.00\u001B[0m                                          \u001B]8;id=311814;file://c:\\Users\\32165\\Development\\vocal_generating_pack\\src\\thirdparties\\so_vits_svc_fork\\inference\\core.py\u001B\\\u001B[2mcore.py\u001B[0m\u001B]8;;\u001B\\\u001B[2m:\u001B[0m\u001B]8;id=491110;file://c:\\Users\\32165\\Development\\vocal_generating_pack\\src\\thirdparties\\so_vits_svc_fork\\inference\\core.py#238\u001B\\\u001B[2m238\u001B[0m\u001B]8;;\u001B\\\n"
      ]
     },
     "metadata": {},
     "output_type": "display_data"
    },
    {
     "data": {
      "text/html": [
       "<pre style=\"white-space:pre;overflow-x:auto;line-height:normal;font-family:Menlo,'DejaVu Sans Mono',consolas,'Courier New',monospace\"><span style=\"color: #7fbfbf; text-decoration-color: #7fbfbf\">[17:26:00] </span><span style=\"color: #000080; text-decoration-color: #000080\">INFO    </span> <span style=\"font-weight: bold\">[</span><span style=\"color: #00ff00; text-decoration-color: #00ff00; font-weight: bold\">17:26:00</span><span style=\"font-weight: bold\">]</span> Chunk: <span style=\"color: #800080; text-decoration-color: #800080; font-weight: bold\">Chunk</span><span style=\"font-weight: bold\">(</span>Speech: <span style=\"color: #ff0000; text-decoration-color: #ff0000; font-style: italic\">False</span>, <span style=\"color: #008080; text-decoration-color: #008080; font-weight: bold\">8820.0</span><span style=\"font-weight: bold\">)</span>                                      <a href=\"file://c:\\Users\\32165\\Development\\vocal_generating_pack\\src\\thirdparties\\so_vits_svc_fork\\inference\\core.py\" target=\"_blank\"><span style=\"color: #7f7f7f; text-decoration-color: #7f7f7f\">core.py</span></a><span style=\"color: #7f7f7f; text-decoration-color: #7f7f7f\">:</span><a href=\"file://c:\\Users\\32165\\Development\\vocal_generating_pack\\src\\thirdparties\\so_vits_svc_fork\\inference\\core.py#286\" target=\"_blank\"><span style=\"color: #7f7f7f; text-decoration-color: #7f7f7f\">286</span></a>\n",
       "</pre>\n"
      ],
      "text/plain": [
       "\u001B[2;36m[17:26:00]\u001B[0m\u001B[2;36m \u001B[0m\u001B[34mINFO    \u001B[0m \u001B[1m[\u001B[0m\u001B[1;92m17:26:00\u001B[0m\u001B[1m]\u001B[0m Chunk: \u001B[1;35mChunk\u001B[0m\u001B[1m(\u001B[0mSpeech: \u001B[3;91mFalse\u001B[0m, \u001B[1;36m8820.0\u001B[0m\u001B[1m)\u001B[0m                                      \u001B]8;id=509176;file://c:\\Users\\32165\\Development\\vocal_generating_pack\\src\\thirdparties\\so_vits_svc_fork\\inference\\core.py\u001B\\\u001B[2mcore.py\u001B[0m\u001B]8;;\u001B\\\u001B[2m:\u001B[0m\u001B]8;id=589330;file://c:\\Users\\32165\\Development\\vocal_generating_pack\\src\\thirdparties\\so_vits_svc_fork\\inference\\core.py#286\u001B\\\u001B[2m286\u001B[0m\u001B]8;;\u001B\\\n"
      ]
     },
     "metadata": {},
     "output_type": "display_data"
    },
    {
     "data": {
      "text/html": [
       "<pre style=\"white-space:pre;overflow-x:auto;line-height:normal;font-family:Menlo,'DejaVu Sans Mono',consolas,'Courier New',monospace\"><span style=\"color: #7fbfbf; text-decoration-color: #7fbfbf\">           </span><span style=\"color: #000080; text-decoration-color: #000080\">INFO    </span> <span style=\"font-weight: bold\">[</span><span style=\"color: #00ff00; text-decoration-color: #00ff00; font-weight: bold\">17:26:00</span><span style=\"font-weight: bold\">]</span> Chunk: <span style=\"color: #800080; text-decoration-color: #800080; font-weight: bold\">Chunk</span><span style=\"font-weight: bold\">(</span>Speech: <span style=\"color: #00ff00; text-decoration-color: #00ff00; font-style: italic\">True</span>, <span style=\"color: #008080; text-decoration-color: #008080; font-weight: bold\">17640.0</span><span style=\"font-weight: bold\">)</span>                                      <a href=\"file://c:\\Users\\32165\\Development\\vocal_generating_pack\\src\\thirdparties\\so_vits_svc_fork\\inference\\core.py\" target=\"_blank\"><span style=\"color: #7f7f7f; text-decoration-color: #7f7f7f\">core.py</span></a><span style=\"color: #7f7f7f; text-decoration-color: #7f7f7f\">:</span><a href=\"file://c:\\Users\\32165\\Development\\vocal_generating_pack\\src\\thirdparties\\so_vits_svc_fork\\inference\\core.py#286\" target=\"_blank\"><span style=\"color: #7f7f7f; text-decoration-color: #7f7f7f\">286</span></a>\n",
       "</pre>\n"
      ],
      "text/plain": [
       "\u001B[2;36m          \u001B[0m\u001B[2;36m \u001B[0m\u001B[34mINFO    \u001B[0m \u001B[1m[\u001B[0m\u001B[1;92m17:26:00\u001B[0m\u001B[1m]\u001B[0m Chunk: \u001B[1;35mChunk\u001B[0m\u001B[1m(\u001B[0mSpeech: \u001B[3;92mTrue\u001B[0m, \u001B[1;36m17640.0\u001B[0m\u001B[1m)\u001B[0m                                      \u001B]8;id=66032;file://c:\\Users\\32165\\Development\\vocal_generating_pack\\src\\thirdparties\\so_vits_svc_fork\\inference\\core.py\u001B\\\u001B[2mcore.py\u001B[0m\u001B]8;;\u001B\\\u001B[2m:\u001B[0m\u001B]8;id=172677;file://c:\\Users\\32165\\Development\\vocal_generating_pack\\src\\thirdparties\\so_vits_svc_fork\\inference\\core.py#286\u001B\\\u001B[2m286\u001B[0m\u001B]8;;\u001B\\\n"
      ]
     },
     "metadata": {},
     "output_type": "display_data"
    },
    {
     "data": {
      "text/html": [
       "<pre style=\"white-space:pre;overflow-x:auto;line-height:normal;font-family:Menlo,'DejaVu Sans Mono',consolas,'Courier New',monospace\"><span style=\"color: #7fbfbf; text-decoration-color: #7fbfbf\">           </span><span style=\"color: #000080; text-decoration-color: #000080\">INFO    </span> <span style=\"font-weight: bold\">[</span><span style=\"color: #00ff00; text-decoration-color: #00ff00; font-weight: bold\">17:26:00</span><span style=\"font-weight: bold\">]</span> F0 inference time:       <span style=\"color: #008080; text-decoration-color: #008080; font-weight: bold\">0.</span>019s, RTF: <span style=\"color: #008080; text-decoration-color: #008080; font-weight: bold\">0.014</span>                                <a href=\"file://c:\\Users\\32165\\Development\\vocal_generating_pack\\src\\thirdparties\\so_vits_svc_fork\\f0.py\" target=\"_blank\"><span style=\"color: #7f7f7f; text-decoration-color: #7f7f7f\">f0.py</span></a><span style=\"color: #7f7f7f; text-decoration-color: #7f7f7f\">:</span><a href=\"file://c:\\Users\\32165\\Development\\vocal_generating_pack\\src\\thirdparties\\so_vits_svc_fork\\f0.py#214\" target=\"_blank\"><span style=\"color: #7f7f7f; text-decoration-color: #7f7f7f\">214</span></a>\n",
       "</pre>\n"
      ],
      "text/plain": [
       "\u001B[2;36m          \u001B[0m\u001B[2;36m \u001B[0m\u001B[34mINFO    \u001B[0m \u001B[1m[\u001B[0m\u001B[1;92m17:26:00\u001B[0m\u001B[1m]\u001B[0m F0 inference time:       \u001B[1;36m0.\u001B[0m019s, RTF: \u001B[1;36m0.014\u001B[0m                                \u001B]8;id=498636;file://c:\\Users\\32165\\Development\\vocal_generating_pack\\src\\thirdparties\\so_vits_svc_fork\\f0.py\u001B\\\u001B[2mf0.py\u001B[0m\u001B]8;;\u001B\\\u001B[2m:\u001B[0m\u001B]8;id=543615;file://c:\\Users\\32165\\Development\\vocal_generating_pack\\src\\thirdparties\\so_vits_svc_fork\\f0.py#214\u001B\\\u001B[2m214\u001B[0m\u001B]8;;\u001B\\\n"
      ]
     },
     "metadata": {},
     "output_type": "display_data"
    },
    {
     "data": {
      "text/html": [
       "<pre style=\"white-space:pre;overflow-x:auto;line-height:normal;font-family:Menlo,'DejaVu Sans Mono',consolas,'Courier New',monospace\"><span style=\"color: #7fbfbf; text-decoration-color: #7fbfbf\">           </span><span style=\"color: #000080; text-decoration-color: #000080\">INFO    </span> <span style=\"font-weight: bold\">[</span><span style=\"color: #00ff00; text-decoration-color: #00ff00; font-weight: bold\">17:26:00</span><span style=\"font-weight: bold\">]</span> HuBERT inference time  : <span style=\"color: #008080; text-decoration-color: #008080; font-weight: bold\">0.</span>030s, RTF: <span style=\"color: #008080; text-decoration-color: #008080; font-weight: bold\">0.021</span>                             <a href=\"file://c:\\Users\\32165\\Development\\vocal_generating_pack\\src\\thirdparties\\so_vits_svc_fork\\utils.py\" target=\"_blank\"><span style=\"color: #7f7f7f; text-decoration-color: #7f7f7f\">utils.py</span></a><span style=\"color: #7f7f7f; text-decoration-color: #7f7f7f\">:</span><a href=\"file://c:\\Users\\32165\\Development\\vocal_generating_pack\\src\\thirdparties\\so_vits_svc_fork\\utils.py#214\" target=\"_blank\"><span style=\"color: #7f7f7f; text-decoration-color: #7f7f7f\">214</span></a>\n",
       "</pre>\n"
      ],
      "text/plain": [
       "\u001B[2;36m          \u001B[0m\u001B[2;36m \u001B[0m\u001B[34mINFO    \u001B[0m \u001B[1m[\u001B[0m\u001B[1;92m17:26:00\u001B[0m\u001B[1m]\u001B[0m HuBERT inference time  : \u001B[1;36m0.\u001B[0m030s, RTF: \u001B[1;36m0.021\u001B[0m                             \u001B]8;id=414708;file://c:\\Users\\32165\\Development\\vocal_generating_pack\\src\\thirdparties\\so_vits_svc_fork\\utils.py\u001B\\\u001B[2mutils.py\u001B[0m\u001B]8;;\u001B\\\u001B[2m:\u001B[0m\u001B]8;id=602626;file://c:\\Users\\32165\\Development\\vocal_generating_pack\\src\\thirdparties\\so_vits_svc_fork\\utils.py#214\u001B\\\u001B[2m214\u001B[0m\u001B]8;;\u001B\\\n"
      ]
     },
     "metadata": {},
     "output_type": "display_data"
    },
    {
     "data": {
      "text/html": [
       "<pre style=\"white-space:pre;overflow-x:auto;line-height:normal;font-family:Menlo,'DejaVu Sans Mono',consolas,'Courier New',monospace\"><span style=\"color: #7fbfbf; text-decoration-color: #7fbfbf\">           </span><span style=\"color: #000080; text-decoration-color: #000080\">INFO    </span> <span style=\"font-weight: bold\">[</span><span style=\"color: #00ff00; text-decoration-color: #00ff00; font-weight: bold\">17:26:00</span><span style=\"font-weight: bold\">]</span> Inferece time: <span style=\"color: #008080; text-decoration-color: #008080; font-weight: bold\">0.</span>08s, RTF: <span style=\"color: #008080; text-decoration-color: #008080; font-weight: bold\">0.06</span>                                          <a href=\"file://c:\\Users\\32165\\Development\\vocal_generating_pack\\src\\thirdparties\\so_vits_svc_fork\\inference\\core.py\" target=\"_blank\"><span style=\"color: #7f7f7f; text-decoration-color: #7f7f7f\">core.py</span></a><span style=\"color: #7f7f7f; text-decoration-color: #7f7f7f\">:</span><a href=\"file://c:\\Users\\32165\\Development\\vocal_generating_pack\\src\\thirdparties\\so_vits_svc_fork\\inference\\core.py#238\" target=\"_blank\"><span style=\"color: #7f7f7f; text-decoration-color: #7f7f7f\">238</span></a>\n",
       "</pre>\n"
      ],
      "text/plain": [
       "\u001B[2;36m          \u001B[0m\u001B[2;36m \u001B[0m\u001B[34mINFO    \u001B[0m \u001B[1m[\u001B[0m\u001B[1;92m17:26:00\u001B[0m\u001B[1m]\u001B[0m Inferece time: \u001B[1;36m0.\u001B[0m08s, RTF: \u001B[1;36m0.06\u001B[0m                                          \u001B]8;id=886169;file://c:\\Users\\32165\\Development\\vocal_generating_pack\\src\\thirdparties\\so_vits_svc_fork\\inference\\core.py\u001B\\\u001B[2mcore.py\u001B[0m\u001B]8;;\u001B\\\u001B[2m:\u001B[0m\u001B]8;id=851075;file://c:\\Users\\32165\\Development\\vocal_generating_pack\\src\\thirdparties\\so_vits_svc_fork\\inference\\core.py#238\u001B\\\u001B[2m238\u001B[0m\u001B]8;;\u001B\\\n"
      ]
     },
     "metadata": {},
     "output_type": "display_data"
    },
    {
     "data": {
      "text/html": [
       "<pre style=\"white-space:pre;overflow-x:auto;line-height:normal;font-family:Menlo,'DejaVu Sans Mono',consolas,'Courier New',monospace\"><span style=\"color: #7fbfbf; text-decoration-color: #7fbfbf\">           </span><span style=\"color: #000080; text-decoration-color: #000080\">INFO    </span> <span style=\"font-weight: bold\">[</span><span style=\"color: #00ff00; text-decoration-color: #00ff00; font-weight: bold\">17:26:00</span><span style=\"font-weight: bold\">]</span> Chunk: <span style=\"color: #800080; text-decoration-color: #800080; font-weight: bold\">Chunk</span><span style=\"font-weight: bold\">(</span>Speech: <span style=\"color: #ff0000; text-decoration-color: #ff0000; font-style: italic\">False</span>, <span style=\"color: #008080; text-decoration-color: #008080; font-weight: bold\">467460.0</span><span style=\"font-weight: bold\">)</span>                                    <a href=\"file://c:\\Users\\32165\\Development\\vocal_generating_pack\\src\\thirdparties\\so_vits_svc_fork\\inference\\core.py\" target=\"_blank\"><span style=\"color: #7f7f7f; text-decoration-color: #7f7f7f\">core.py</span></a><span style=\"color: #7f7f7f; text-decoration-color: #7f7f7f\">:</span><a href=\"file://c:\\Users\\32165\\Development\\vocal_generating_pack\\src\\thirdparties\\so_vits_svc_fork\\inference\\core.py#286\" target=\"_blank\"><span style=\"color: #7f7f7f; text-decoration-color: #7f7f7f\">286</span></a>\n",
       "</pre>\n"
      ],
      "text/plain": [
       "\u001B[2;36m          \u001B[0m\u001B[2;36m \u001B[0m\u001B[34mINFO    \u001B[0m \u001B[1m[\u001B[0m\u001B[1;92m17:26:00\u001B[0m\u001B[1m]\u001B[0m Chunk: \u001B[1;35mChunk\u001B[0m\u001B[1m(\u001B[0mSpeech: \u001B[3;91mFalse\u001B[0m, \u001B[1;36m467460.0\u001B[0m\u001B[1m)\u001B[0m                                    \u001B]8;id=956693;file://c:\\Users\\32165\\Development\\vocal_generating_pack\\src\\thirdparties\\so_vits_svc_fork\\inference\\core.py\u001B\\\u001B[2mcore.py\u001B[0m\u001B]8;;\u001B\\\u001B[2m:\u001B[0m\u001B]8;id=345140;file://c:\\Users\\32165\\Development\\vocal_generating_pack\\src\\thirdparties\\so_vits_svc_fork\\inference\\core.py#286\u001B\\\u001B[2m286\u001B[0m\u001B]8;;\u001B\\\n"
      ]
     },
     "metadata": {},
     "output_type": "display_data"
    },
    {
     "data": {
      "text/html": [
       "<pre style=\"white-space:pre;overflow-x:auto;line-height:normal;font-family:Menlo,'DejaVu Sans Mono',consolas,'Courier New',monospace\"><span style=\"color: #7fbfbf; text-decoration-color: #7fbfbf\">           </span><span style=\"color: #000080; text-decoration-color: #000080\">INFO    </span> <span style=\"font-weight: bold\">[</span><span style=\"color: #00ff00; text-decoration-color: #00ff00; font-weight: bold\">17:26:00</span><span style=\"font-weight: bold\">]</span> Chunk: <span style=\"color: #800080; text-decoration-color: #800080; font-weight: bold\">Chunk</span><span style=\"font-weight: bold\">(</span>Speech: <span style=\"color: #00ff00; text-decoration-color: #00ff00; font-style: italic\">True</span>, <span style=\"color: #008080; text-decoration-color: #008080; font-weight: bold\">141120.0</span><span style=\"font-weight: bold\">)</span>                                     <a href=\"file://c:\\Users\\32165\\Development\\vocal_generating_pack\\src\\thirdparties\\so_vits_svc_fork\\inference\\core.py\" target=\"_blank\"><span style=\"color: #7f7f7f; text-decoration-color: #7f7f7f\">core.py</span></a><span style=\"color: #7f7f7f; text-decoration-color: #7f7f7f\">:</span><a href=\"file://c:\\Users\\32165\\Development\\vocal_generating_pack\\src\\thirdparties\\so_vits_svc_fork\\inference\\core.py#286\" target=\"_blank\"><span style=\"color: #7f7f7f; text-decoration-color: #7f7f7f\">286</span></a>\n",
       "</pre>\n"
      ],
      "text/plain": [
       "\u001B[2;36m          \u001B[0m\u001B[2;36m \u001B[0m\u001B[34mINFO    \u001B[0m \u001B[1m[\u001B[0m\u001B[1;92m17:26:00\u001B[0m\u001B[1m]\u001B[0m Chunk: \u001B[1;35mChunk\u001B[0m\u001B[1m(\u001B[0mSpeech: \u001B[3;92mTrue\u001B[0m, \u001B[1;36m141120.0\u001B[0m\u001B[1m)\u001B[0m                                     \u001B]8;id=224441;file://c:\\Users\\32165\\Development\\vocal_generating_pack\\src\\thirdparties\\so_vits_svc_fork\\inference\\core.py\u001B\\\u001B[2mcore.py\u001B[0m\u001B]8;;\u001B\\\u001B[2m:\u001B[0m\u001B]8;id=801871;file://c:\\Users\\32165\\Development\\vocal_generating_pack\\src\\thirdparties\\so_vits_svc_fork\\inference\\core.py#286\u001B\\\u001B[2m286\u001B[0m\u001B]8;;\u001B\\\n"
      ]
     },
     "metadata": {},
     "output_type": "display_data"
    },
    {
     "data": {
      "text/html": [
       "<pre style=\"white-space:pre;overflow-x:auto;line-height:normal;font-family:Menlo,'DejaVu Sans Mono',consolas,'Courier New',monospace\"><span style=\"color: #7fbfbf; text-decoration-color: #7fbfbf\">           </span><span style=\"color: #000080; text-decoration-color: #000080\">INFO    </span> <span style=\"font-weight: bold\">[</span><span style=\"color: #00ff00; text-decoration-color: #00ff00; font-weight: bold\">17:26:00</span><span style=\"font-weight: bold\">]</span> F0 inference time:       <span style=\"color: #008080; text-decoration-color: #008080; font-weight: bold\">0.</span>118s, RTF: <span style=\"color: #008080; text-decoration-color: #008080; font-weight: bold\">0.028</span>                                <a href=\"file://c:\\Users\\32165\\Development\\vocal_generating_pack\\src\\thirdparties\\so_vits_svc_fork\\f0.py\" target=\"_blank\"><span style=\"color: #7f7f7f; text-decoration-color: #7f7f7f\">f0.py</span></a><span style=\"color: #7f7f7f; text-decoration-color: #7f7f7f\">:</span><a href=\"file://c:\\Users\\32165\\Development\\vocal_generating_pack\\src\\thirdparties\\so_vits_svc_fork\\f0.py#214\" target=\"_blank\"><span style=\"color: #7f7f7f; text-decoration-color: #7f7f7f\">214</span></a>\n",
       "</pre>\n"
      ],
      "text/plain": [
       "\u001B[2;36m          \u001B[0m\u001B[2;36m \u001B[0m\u001B[34mINFO    \u001B[0m \u001B[1m[\u001B[0m\u001B[1;92m17:26:00\u001B[0m\u001B[1m]\u001B[0m F0 inference time:       \u001B[1;36m0.\u001B[0m118s, RTF: \u001B[1;36m0.028\u001B[0m                                \u001B]8;id=978808;file://c:\\Users\\32165\\Development\\vocal_generating_pack\\src\\thirdparties\\so_vits_svc_fork\\f0.py\u001B\\\u001B[2mf0.py\u001B[0m\u001B]8;;\u001B\\\u001B[2m:\u001B[0m\u001B]8;id=149971;file://c:\\Users\\32165\\Development\\vocal_generating_pack\\src\\thirdparties\\so_vits_svc_fork\\f0.py#214\u001B\\\u001B[2m214\u001B[0m\u001B]8;;\u001B\\\n"
      ]
     },
     "metadata": {},
     "output_type": "display_data"
    },
    {
     "data": {
      "text/html": [
       "<pre style=\"white-space:pre;overflow-x:auto;line-height:normal;font-family:Menlo,'DejaVu Sans Mono',consolas,'Courier New',monospace\"><span style=\"color: #7fbfbf; text-decoration-color: #7fbfbf\">           </span><span style=\"color: #000080; text-decoration-color: #000080\">INFO    </span> <span style=\"font-weight: bold\">[</span><span style=\"color: #00ff00; text-decoration-color: #00ff00; font-weight: bold\">17:26:00</span><span style=\"font-weight: bold\">]</span> HuBERT inference time  : <span style=\"color: #008080; text-decoration-color: #008080; font-weight: bold\">0.</span>027s, RTF: <span style=\"color: #008080; text-decoration-color: #008080; font-weight: bold\">0.006</span>                             <a href=\"file://c:\\Users\\32165\\Development\\vocal_generating_pack\\src\\thirdparties\\so_vits_svc_fork\\utils.py\" target=\"_blank\"><span style=\"color: #7f7f7f; text-decoration-color: #7f7f7f\">utils.py</span></a><span style=\"color: #7f7f7f; text-decoration-color: #7f7f7f\">:</span><a href=\"file://c:\\Users\\32165\\Development\\vocal_generating_pack\\src\\thirdparties\\so_vits_svc_fork\\utils.py#214\" target=\"_blank\"><span style=\"color: #7f7f7f; text-decoration-color: #7f7f7f\">214</span></a>\n",
       "</pre>\n"
      ],
      "text/plain": [
       "\u001B[2;36m          \u001B[0m\u001B[2;36m \u001B[0m\u001B[34mINFO    \u001B[0m \u001B[1m[\u001B[0m\u001B[1;92m17:26:00\u001B[0m\u001B[1m]\u001B[0m HuBERT inference time  : \u001B[1;36m0.\u001B[0m027s, RTF: \u001B[1;36m0.006\u001B[0m                             \u001B]8;id=754128;file://c:\\Users\\32165\\Development\\vocal_generating_pack\\src\\thirdparties\\so_vits_svc_fork\\utils.py\u001B\\\u001B[2mutils.py\u001B[0m\u001B]8;;\u001B\\\u001B[2m:\u001B[0m\u001B]8;id=854012;file://c:\\Users\\32165\\Development\\vocal_generating_pack\\src\\thirdparties\\so_vits_svc_fork\\utils.py#214\u001B\\\u001B[2m214\u001B[0m\u001B]8;;\u001B\\\n"
      ]
     },
     "metadata": {},
     "output_type": "display_data"
    },
    {
     "data": {
      "text/html": [
       "<pre style=\"white-space:pre;overflow-x:auto;line-height:normal;font-family:Menlo,'DejaVu Sans Mono',consolas,'Courier New',monospace\"><span style=\"color: #7fbfbf; text-decoration-color: #7fbfbf\">           </span><span style=\"color: #000080; text-decoration-color: #000080\">INFO    </span> <span style=\"font-weight: bold\">[</span><span style=\"color: #00ff00; text-decoration-color: #00ff00; font-weight: bold\">17:26:00</span><span style=\"font-weight: bold\">]</span> Inferece time: <span style=\"color: #008080; text-decoration-color: #008080; font-weight: bold\">0.</span>08s, RTF: <span style=\"color: #008080; text-decoration-color: #008080; font-weight: bold\">0.02</span>                                          <a href=\"file://c:\\Users\\32165\\Development\\vocal_generating_pack\\src\\thirdparties\\so_vits_svc_fork\\inference\\core.py\" target=\"_blank\"><span style=\"color: #7f7f7f; text-decoration-color: #7f7f7f\">core.py</span></a><span style=\"color: #7f7f7f; text-decoration-color: #7f7f7f\">:</span><a href=\"file://c:\\Users\\32165\\Development\\vocal_generating_pack\\src\\thirdparties\\so_vits_svc_fork\\inference\\core.py#238\" target=\"_blank\"><span style=\"color: #7f7f7f; text-decoration-color: #7f7f7f\">238</span></a>\n",
       "</pre>\n"
      ],
      "text/plain": [
       "\u001B[2;36m          \u001B[0m\u001B[2;36m \u001B[0m\u001B[34mINFO    \u001B[0m \u001B[1m[\u001B[0m\u001B[1;92m17:26:00\u001B[0m\u001B[1m]\u001B[0m Inferece time: \u001B[1;36m0.\u001B[0m08s, RTF: \u001B[1;36m0.02\u001B[0m                                          \u001B]8;id=289385;file://c:\\Users\\32165\\Development\\vocal_generating_pack\\src\\thirdparties\\so_vits_svc_fork\\inference\\core.py\u001B\\\u001B[2mcore.py\u001B[0m\u001B]8;;\u001B\\\u001B[2m:\u001B[0m\u001B]8;id=766413;file://c:\\Users\\32165\\Development\\vocal_generating_pack\\src\\thirdparties\\so_vits_svc_fork\\inference\\core.py#238\u001B\\\u001B[2m238\u001B[0m\u001B]8;;\u001B\\\n"
      ]
     },
     "metadata": {},
     "output_type": "display_data"
    },
    {
     "data": {
      "text/html": [
       "<pre style=\"white-space:pre;overflow-x:auto;line-height:normal;font-family:Menlo,'DejaVu Sans Mono',consolas,'Courier New',monospace\"><span style=\"color: #7fbfbf; text-decoration-color: #7fbfbf\">           </span><span style=\"color: #000080; text-decoration-color: #000080\">INFO    </span> <span style=\"font-weight: bold\">[</span><span style=\"color: #00ff00; text-decoration-color: #00ff00; font-weight: bold\">17:26:00</span><span style=\"font-weight: bold\">]</span> Chunk: <span style=\"color: #800080; text-decoration-color: #800080; font-weight: bold\">Chunk</span><span style=\"font-weight: bold\">(</span>Speech: <span style=\"color: #ff0000; text-decoration-color: #ff0000; font-style: italic\">False</span>, <span style=\"color: #008080; text-decoration-color: #008080; font-weight: bold\">124837.0</span><span style=\"font-weight: bold\">)</span>                                    <a href=\"file://c:\\Users\\32165\\Development\\vocal_generating_pack\\src\\thirdparties\\so_vits_svc_fork\\inference\\core.py\" target=\"_blank\"><span style=\"color: #7f7f7f; text-decoration-color: #7f7f7f\">core.py</span></a><span style=\"color: #7f7f7f; text-decoration-color: #7f7f7f\">:</span><a href=\"file://c:\\Users\\32165\\Development\\vocal_generating_pack\\src\\thirdparties\\so_vits_svc_fork\\inference\\core.py#286\" target=\"_blank\"><span style=\"color: #7f7f7f; text-decoration-color: #7f7f7f\">286</span></a>\n",
       "</pre>\n"
      ],
      "text/plain": [
       "\u001B[2;36m          \u001B[0m\u001B[2;36m \u001B[0m\u001B[34mINFO    \u001B[0m \u001B[1m[\u001B[0m\u001B[1;92m17:26:00\u001B[0m\u001B[1m]\u001B[0m Chunk: \u001B[1;35mChunk\u001B[0m\u001B[1m(\u001B[0mSpeech: \u001B[3;91mFalse\u001B[0m, \u001B[1;36m124837.0\u001B[0m\u001B[1m)\u001B[0m                                    \u001B]8;id=227636;file://c:\\Users\\32165\\Development\\vocal_generating_pack\\src\\thirdparties\\so_vits_svc_fork\\inference\\core.py\u001B\\\u001B[2mcore.py\u001B[0m\u001B]8;;\u001B\\\u001B[2m:\u001B[0m\u001B]8;id=301485;file://c:\\Users\\32165\\Development\\vocal_generating_pack\\src\\thirdparties\\so_vits_svc_fork\\inference\\core.py#286\u001B\\\u001B[2m286\u001B[0m\u001B]8;;\u001B\\\n"
      ]
     },
     "metadata": {},
     "output_type": "display_data"
    },
    {
     "name": "stdout",
     "output_type": "stream",
     "text": [
      "..\\files\\output\\demo\\voice_generated_with_hutao.wav\n"
     ]
    }
   ],
   "source": [
    "counterfeited_path = apply_so_vits(separated_path[\"vocal\"], output_path=OUT_PATH, model_path=model_so_vits[\"hutao_G_40000.pth\"], config_file_path=model_so_vits[\"hutao.json\"], cluster=model_so_vits[\"hutao_kmeans_10000.pt\"], auto_predict_f0=False, speaker=\"hutao\", db_threshold=-95)\n",
    "print(counterfeited_path)"
   ]
  },
  {
   "attachments": {},
   "cell_type": "markdown",
   "metadata": {
    "collapsed": false
   },
   "source": [
    "## 合并"
   ]
  },
  {
   "cell_type": "code",
   "execution_count": 21,
   "metadata": {
    "ExecuteTime": {
     "start_time": "2023-06-13T07:00:38.830559Z"
    },
    "collapsed": false
   },
   "outputs": [
    {
     "name": "stdout",
     "output_type": "stream",
     "text": [
      "output file: ..\\files\\output\\demo\\voice_generated_with_hutao_counterfeited_from_hutao.wav\n"
     ]
    }
   ],
   "source": [
    "output = fuse_vocal_and_instrumental(vocal_path=counterfeited_path, instrumental_path=separated_path[\"instrumental\"], output_path=OUT_PATH, speaker=\"hutao\")\n",
    "print(\"output file:\", output)"
   ]
  }
 ],
 "metadata": {
  "kernelspec": {
   "display_name": "vocal_generating_pack",
   "language": "python",
   "name": "python3"
  },
  "language_info": {
   "codemirror_mode": {
    "name": "ipython",
    "version": 3
   },
   "file_extension": ".py",
   "mimetype": "text/x-python",
   "name": "python",
   "nbconvert_exporter": "python",
   "pygments_lexer": "ipython3",
   "version": "3.10.9"
  }
 },
 "nbformat": 4,
 "nbformat_minor": 1
}
