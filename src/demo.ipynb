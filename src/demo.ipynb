{
 "cells": [
  {
   "attachments": {},
   "cell_type": "markdown",
   "metadata": {},
   "source": [
    "Import variables, functions, and construct file structures"
   ]
  },
  {
   "cell_type": "code",
   "execution_count": 1,
   "metadata": {
    "ExecuteTime": {
     "end_time": "2023-06-13T07:00:37.643879Z",
     "start_time": "2023-06-13T07:00:35.907420Z"
    }
   },
   "outputs": [
    {
     "name": "stdout",
     "output_type": "stream",
     "text": [
      "building file structures...\n",
      "['https://github.com/TRvlvr/model_repo/releases/download/all_public_uvr_models/hdemucs_mmi.yaml', 'https://dl.fbaipublicfiles.com/demucs/hybrid_transformer/75fc33f5-1941ce65.th']\n",
      "['https://github.com/TRvlvr/model_repo/releases/download/all_public_uvr_models/htdemucs_6s.yaml', 'https://dl.fbaipublicfiles.com/demucs/hybrid_transformer/5c90dfd2-34c22ccb.th']\n",
      "['https://huggingface.co/therealvul/so-vits-svc-4.0-init/']\n",
      "['https://cowtransfer.com/s/f35da9843a1641']\n",
      "['https://huggingface.co/AbeShinzo0708/so_vits_svc4_AbeShinzo/']\n",
      "['https://huggingface.co/kaze-mio/so-vits-genshin/tree/main/nahida']\n",
      "['https://huggingface.co/megaaziib/hololivemix-so-vits-svc-4.0/tree/main']\n",
      "['https://huggingface.co/Kree/so-vits-svc4.0-Tokai-Teio/tree/main/Tokai-Teio']\n",
      "done\n"
     ]
    },
    {
     "name": "stderr",
     "output_type": "stream",
     "text": [
      "[19:22:31] /home/ayano/miniconda3/envs/vocal-generating-pack/lib/python3.11/site-packages/pyannote/audio/core/io.py:43: UserWarning: torchaudio._backend.set_audio_backend has been deprecated. With dispatcher enabled, this function is no-op. You can remove the function call.\n",
      "  torchaudio.set_audio_backend(\"soundfile\")\n",
      "\n"
     ]
    }
   ],
   "source": [
    "from resource_manager import get_data_from_source\n",
    "from functions import separate_vocal, convert_ncm, apply_so_vits, fuse_vocal_and_instrumental, Path"
   ]
  },
  {
   "attachments": {},
   "cell_type": "markdown",
   "metadata": {},
   "source": [
    "Define paths"
   ]
  },
  {
   "cell_type": "code",
   "execution_count": 2,
   "metadata": {
    "ExecuteTime": {
     "end_time": "2023-06-13T07:00:37.646399Z",
     "start_time": "2023-06-13T07:00:37.645104Z"
    },
    "collapsed": false
   },
   "outputs": [],
   "source": [
    "SONG_PATH = Path(\"./demo_assets/daitan-cm.wav\")\n",
    "OUT_PATH = Path(\"../files/output/\").joinpath(SONG_PATH.name.rsplit('.')[0])"
   ]
  },
  {
   "attachments": {},
   "cell_type": "markdown",
   "metadata": {},
   "source": [
    "Download the model from huggingface"
   ]
  },
  {
   "cell_type": "code",
   "execution_count": 3,
   "metadata": {
    "ExecuteTime": {
     "end_time": "2023-06-13T07:01:01.817544Z",
     "start_time": "2023-06-13T07:00:42.676507Z"
    }
   },
   "outputs": [
    {
     "data": {
      "application/vnd.jupyter.widget-view+json": {
       "model_id": "22364fb385314d47af3db790a8311b95",
       "version_major": 2,
       "version_minor": 0
      },
      "text/plain": [
       "Fetching 28 files:   0%|          | 0/28 [00:00<?, ?it/s]"
      ]
     },
     "metadata": {},
     "output_type": "display_data"
    },
    {
     "name": "stdout",
     "output_type": "stream",
     "text": [
      "['https://github.com/TRvlvr/model_repo/releases/download/all_public_uvr_models/hdemucs_mmi.yaml', 'https://dl.fbaipublicfiles.com/demucs/hybrid_transformer/75fc33f5-1941ce65.th']\n",
      "['https://github.com/TRvlvr/model_repo/releases/download/all_public_uvr_models/htdemucs_6s.yaml', 'https://dl.fbaipublicfiles.com/demucs/hybrid_transformer/5c90dfd2-34c22ccb.th']\n",
      "['https://huggingface.co/therealvul/so-vits-svc-4.0-init/']\n",
      "['https://cowtransfer.com/s/f35da9843a1641']\n",
      "['https://huggingface.co/AbeShinzo0708/so_vits_svc4_AbeShinzo/']\n",
      "['https://huggingface.co/kaze-mio/so-vits-genshin/tree/main/nahida']\n",
      "['https://huggingface.co/megaaziib/hololivemix-so-vits-svc-4.0/tree/main']\n",
      "['https://huggingface.co/Kree/so-vits-svc4.0-Tokai-Teio/tree/main/Tokai-Teio']\n",
      "['https://github.com/TRvlvr/model_repo/releases/download/all_public_uvr_models/hdemucs_mmi.yaml', 'https://dl.fbaipublicfiles.com/demucs/hybrid_transformer/75fc33f5-1941ce65.th']\n",
      "['https://github.com/TRvlvr/model_repo/releases/download/all_public_uvr_models/htdemucs_6s.yaml', 'https://dl.fbaipublicfiles.com/demucs/hybrid_transformer/5c90dfd2-34c22ccb.th']\n",
      "['https://huggingface.co/therealvul/so-vits-svc-4.0-init/']\n",
      "['https://cowtransfer.com/s/f35da9843a1641']\n",
      "['https://huggingface.co/AbeShinzo0708/so_vits_svc4_AbeShinzo/']\n",
      "['https://huggingface.co/kaze-mio/so-vits-genshin/tree/main/nahida']\n",
      "['https://huggingface.co/megaaziib/hololivemix-so-vits-svc-4.0/tree/main']\n",
      "['https://huggingface.co/Kree/so-vits-svc4.0-Tokai-Teio/tree/main/Tokai-Teio']\n",
      "['https://github.com/TRvlvr/model_repo/releases/download/all_public_uvr_models/hdemucs_mmi.yaml', 'https://dl.fbaipublicfiles.com/demucs/hybrid_transformer/75fc33f5-1941ce65.th']\n",
      "['https://github.com/TRvlvr/model_repo/releases/download/all_public_uvr_models/htdemucs_6s.yaml', 'https://dl.fbaipublicfiles.com/demucs/hybrid_transformer/5c90dfd2-34c22ccb.th']\n",
      "['https://huggingface.co/therealvul/so-vits-svc-4.0-init/']\n",
      "['https://cowtransfer.com/s/f35da9843a1641']\n",
      "['https://huggingface.co/AbeShinzo0708/so_vits_svc4_AbeShinzo/']\n",
      "['https://huggingface.co/kaze-mio/so-vits-genshin/tree/main/nahida']\n",
      "['https://huggingface.co/megaaziib/hololivemix-so-vits-svc-4.0/tree/main']\n",
      "['https://huggingface.co/Kree/so-vits-svc4.0-Tokai-Teio/tree/main/Tokai-Teio']\n",
      "['https://github.com/TRvlvr/model_repo/releases/download/all_public_uvr_models/hdemucs_mmi.yaml', 'https://dl.fbaipublicfiles.com/demucs/hybrid_transformer/75fc33f5-1941ce65.th']\n",
      "['https://github.com/TRvlvr/model_repo/releases/download/all_public_uvr_models/htdemucs_6s.yaml', 'https://dl.fbaipublicfiles.com/demucs/hybrid_transformer/5c90dfd2-34c22ccb.th']\n",
      "['https://huggingface.co/therealvul/so-vits-svc-4.0-init/']\n",
      "['https://cowtransfer.com/s/f35da9843a1641']\n",
      "['https://huggingface.co/AbeShinzo0708/so_vits_svc4_AbeShinzo/']\n",
      "['https://huggingface.co/kaze-mio/so-vits-genshin/tree/main/nahida']\n",
      "['https://huggingface.co/megaaziib/hololivemix-so-vits-svc-4.0/tree/main']\n",
      "['https://huggingface.co/Kree/so-vits-svc4.0-Tokai-Teio/tree/main/Tokai-Teio']\n",
      "['https://github.com/TRvlvr/model_repo/releases/download/all_public_uvr_models/hdemucs_mmi.yaml', 'https://dl.fbaipublicfiles.com/demucs/hybrid_transformer/75fc33f5-1941ce65.th']\n",
      "['https://github.com/TRvlvr/model_repo/releases/download/all_public_uvr_models/htdemucs_6s.yaml', 'https://dl.fbaipublicfiles.com/demucs/hybrid_transformer/5c90dfd2-34c22ccb.th']\n",
      "['https://huggingface.co/therealvul/so-vits-svc-4.0-init/']\n",
      "['https://cowtransfer.com/s/f35da9843a1641']\n",
      "['https://huggingface.co/AbeShinzo0708/so_vits_svc4_AbeShinzo/']\n",
      "['https://huggingface.co/kaze-mio/so-vits-genshin/tree/main/nahida']\n",
      "['https://huggingface.co/megaaziib/hololivemix-so-vits-svc-4.0/tree/main']\n",
      "['https://huggingface.co/Kree/so-vits-svc4.0-Tokai-Teio/tree/main/Tokai-Teio']\n",
      "['https://github.com/TRvlvr/model_repo/releases/download/all_public_uvr_models/hdemucs_mmi.yaml', 'https://dl.fbaipublicfiles.com/demucs/hybrid_transformer/75fc33f5-1941ce65.th']\n",
      "['https://github.com/TRvlvr/model_repo/releases/download/all_public_uvr_models/htdemucs_6s.yaml', 'https://dl.fbaipublicfiles.com/demucs/hybrid_transformer/5c90dfd2-34c22ccb.th']\n",
      "['https://huggingface.co/therealvul/so-vits-svc-4.0-init/']\n",
      "['https://cowtransfer.com/s/f35da9843a1641']\n",
      "['https://huggingface.co/AbeShinzo0708/so_vits_svc4_AbeShinzo/']\n",
      "['https://huggingface.co/kaze-mio/so-vits-genshin/tree/main/nahida']\n",
      "['https://huggingface.co/megaaziib/hololivemix-so-vits-svc-4.0/tree/main']\n",
      "['https://huggingface.co/Kree/so-vits-svc4.0-Tokai-Teio/tree/main/Tokai-Teio']\n",
      "['https://github.com/TRvlvr/model_repo/releases/download/all_public_uvr_models/hdemucs_mmi.yaml', 'https://dl.fbaipublicfiles.com/demucs/hybrid_transformer/75fc33f5-1941ce65.th']\n",
      "['https://github.com/TRvlvr/model_repo/releases/download/all_public_uvr_models/htdemucs_6s.yaml', 'https://dl.fbaipublicfiles.com/demucs/hybrid_transformer/5c90dfd2-34c22ccb.th']\n",
      "['https://huggingface.co/therealvul/so-vits-svc-4.0-init/']\n",
      "['https://cowtransfer.com/s/f35da9843a1641']\n",
      "['https://huggingface.co/AbeShinzo0708/so_vits_svc4_AbeShinzo/']\n",
      "['https://huggingface.co/kaze-mio/so-vits-genshin/tree/main/nahida']\n",
      "['https://huggingface.co/megaaziib/hololivemix-so-vits-svc-4.0/tree/main']\n",
      "['https://huggingface.co/Kree/so-vits-svc4.0-Tokai-Teio/tree/main/Tokai-Teio']\n",
      "['https://github.com/TRvlvr/model_repo/releases/download/all_public_uvr_models/hdemucs_mmi.yaml', 'https://dl.fbaipublicfiles.com/demucs/hybrid_transformer/75fc33f5-1941ce65.th']\n",
      "['https://github.com/TRvlvr/model_repo/releases/download/all_public_uvr_models/htdemucs_6s.yaml', 'https://dl.fbaipublicfiles.com/demucs/hybrid_transformer/5c90dfd2-34c22ccb.th']\n",
      "['https://huggingface.co/therealvul/so-vits-svc-4.0-init/']\n",
      "['https://cowtransfer.com/s/f35da9843a1641']\n",
      "['https://huggingface.co/AbeShinzo0708/so_vits_svc4_AbeShinzo/']\n",
      "['https://huggingface.co/kaze-mio/so-vits-genshin/tree/main/nahida']\n",
      "['https://huggingface.co/megaaziib/hololivemix-so-vits-svc-4.0/tree/main']\n",
      "['https://huggingface.co/Kree/so-vits-svc4.0-Tokai-Teio/tree/main/Tokai-Teio']\n",
      "['https://github.com/TRvlvr/model_repo/releases/download/all_public_uvr_models/hdemucs_mmi.yaml', 'https://dl.fbaipublicfiles.com/demucs/hybrid_transformer/75fc33f5-1941ce65.th']\n",
      "['https://github.com/TRvlvr/model_repo/releases/download/all_public_uvr_models/htdemucs_6s.yaml', 'https://dl.fbaipublicfiles.com/demucs/hybrid_transformer/5c90dfd2-34c22ccb.th']\n",
      "['https://huggingface.co/therealvul/so-vits-svc-4.0-init/']\n",
      "['https://cowtransfer.com/s/f35da9843a1641']\n",
      "['https://huggingface.co/AbeShinzo0708/so_vits_svc4_AbeShinzo/']\n",
      "['https://huggingface.co/kaze-mio/so-vits-genshin/tree/main/nahida']\n",
      "['https://huggingface.co/megaaziib/hololivemix-so-vits-svc-4.0/tree/main']\n",
      "['https://huggingface.co/Kree/so-vits-svc4.0-Tokai-Teio/tree/main/Tokai-Teio']\n",
      "['https://github.com/TRvlvr/model_repo/releases/download/all_public_uvr_models/hdemucs_mmi.yaml', 'https://dl.fbaipublicfiles.com/demucs/hybrid_transformer/75fc33f5-1941ce65.th']\n",
      "['https://github.com/TRvlvr/model_repo/releases/download/all_public_uvr_models/htdemucs_6s.yaml', 'https://dl.fbaipublicfiles.com/demucs/hybrid_transformer/5c90dfd2-34c22ccb.th']\n",
      "['https://huggingface.co/therealvul/so-vits-svc-4.0-init/']\n",
      "['https://cowtransfer.com/s/f35da9843a1641']\n",
      "['https://huggingface.co/AbeShinzo0708/so_vits_svc4_AbeShinzo/']\n",
      "['https://huggingface.co/kaze-mio/so-vits-genshin/tree/main/nahida']\n",
      "['https://huggingface.co/megaaziib/hololivemix-so-vits-svc-4.0/tree/main']\n",
      "['https://huggingface.co/Kree/so-vits-svc4.0-Tokai-Teio/tree/main/Tokai-Teio']\n",
      "['https://github.com/TRvlvr/model_repo/releases/download/all_public_uvr_models/hdemucs_mmi.yaml', 'https://dl.fbaipublicfiles.com/demucs/hybrid_transformer/75fc33f5-1941ce65.th']\n",
      "['https://github.com/TRvlvr/model_repo/releases/download/all_public_uvr_models/htdemucs_6s.yaml', 'https://dl.fbaipublicfiles.com/demucs/hybrid_transformer/5c90dfd2-34c22ccb.th']\n",
      "['https://huggingface.co/therealvul/so-vits-svc-4.0-init/']\n",
      "['https://cowtransfer.com/s/f35da9843a1641']\n",
      "['https://huggingface.co/AbeShinzo0708/so_vits_svc4_AbeShinzo/']\n",
      "['https://huggingface.co/kaze-mio/so-vits-genshin/tree/main/nahida']\n",
      "['https://huggingface.co/megaaziib/hololivemix-so-vits-svc-4.0/tree/main']\n",
      "['https://huggingface.co/Kree/so-vits-svc4.0-Tokai-Teio/tree/main/Tokai-Teio']\n",
      "['https://github.com/TRvlvr/model_repo/releases/download/all_public_uvr_models/hdemucs_mmi.yaml', 'https://dl.fbaipublicfiles.com/demucs/hybrid_transformer/75fc33f5-1941ce65.th']\n",
      "['https://github.com/TRvlvr/model_repo/releases/download/all_public_uvr_models/htdemucs_6s.yaml', 'https://dl.fbaipublicfiles.com/demucs/hybrid_transformer/5c90dfd2-34c22ccb.th']\n",
      "['https://huggingface.co/therealvul/so-vits-svc-4.0-init/']\n",
      "['https://cowtransfer.com/s/f35da9843a1641']\n",
      "['https://huggingface.co/AbeShinzo0708/so_vits_svc4_AbeShinzo/']\n",
      "['https://huggingface.co/kaze-mio/so-vits-genshin/tree/main/nahida']\n",
      "['https://huggingface.co/megaaziib/hololivemix-so-vits-svc-4.0/tree/main']\n",
      "['https://huggingface.co/Kree/so-vits-svc4.0-Tokai-Teio/tree/main/Tokai-Teio']\n",
      "['https://github.com/TRvlvr/model_repo/releases/download/all_public_uvr_models/hdemucs_mmi.yaml', 'https://dl.fbaipublicfiles.com/demucs/hybrid_transformer/75fc33f5-1941ce65.th']\n",
      "['https://github.com/TRvlvr/model_repo/releases/download/all_public_uvr_models/htdemucs_6s.yaml', 'https://dl.fbaipublicfiles.com/demucs/hybrid_transformer/5c90dfd2-34c22ccb.th']\n",
      "['https://huggingface.co/therealvul/so-vits-svc-4.0-init/']\n",
      "['https://cowtransfer.com/s/f35da9843a1641']\n",
      "['https://huggingface.co/AbeShinzo0708/so_vits_svc4_AbeShinzo/']\n",
      "['https://huggingface.co/kaze-mio/so-vits-genshin/tree/main/nahida']\n",
      "['https://huggingface.co/megaaziib/hololivemix-so-vits-svc-4.0/tree/main']\n",
      "['https://huggingface.co/Kree/so-vits-svc4.0-Tokai-Teio/tree/main/Tokai-Teio']\n",
      "['https://github.com/TRvlvr/model_repo/releases/download/all_public_uvr_models/hdemucs_mmi.yaml', 'https://dl.fbaipublicfiles.com/demucs/hybrid_transformer/75fc33f5-1941ce65.th']\n",
      "['https://github.com/TRvlvr/model_repo/releases/download/all_public_uvr_models/htdemucs_6s.yaml', 'https://dl.fbaipublicfiles.com/demucs/hybrid_transformer/5c90dfd2-34c22ccb.th']\n",
      "['https://huggingface.co/therealvul/so-vits-svc-4.0-init/']\n",
      "['https://cowtransfer.com/s/f35da9843a1641']\n",
      "['https://huggingface.co/AbeShinzo0708/so_vits_svc4_AbeShinzo/']\n",
      "['https://huggingface.co/kaze-mio/so-vits-genshin/tree/main/nahida']\n",
      "['https://huggingface.co/megaaziib/hololivemix-so-vits-svc-4.0/tree/main']\n",
      "['https://huggingface.co/Kree/so-vits-svc4.0-Tokai-Teio/tree/main/Tokai-Teio']\n",
      "['https://github.com/TRvlvr/model_repo/releases/download/all_public_uvr_models/hdemucs_mmi.yaml', 'https://dl.fbaipublicfiles.com/demucs/hybrid_transformer/75fc33f5-1941ce65.th']\n",
      "['https://github.com/TRvlvr/model_repo/releases/download/all_public_uvr_models/htdemucs_6s.yaml', 'https://dl.fbaipublicfiles.com/demucs/hybrid_transformer/5c90dfd2-34c22ccb.th']\n",
      "['https://huggingface.co/therealvul/so-vits-svc-4.0-init/']\n",
      "['https://cowtransfer.com/s/f35da9843a1641']\n",
      "['https://huggingface.co/AbeShinzo0708/so_vits_svc4_AbeShinzo/']\n",
      "['https://huggingface.co/kaze-mio/so-vits-genshin/tree/main/nahida']\n",
      "['https://huggingface.co/megaaziib/hololivemix-so-vits-svc-4.0/tree/main']\n",
      "['https://huggingface.co/Kree/so-vits-svc4.0-Tokai-Teio/tree/main/Tokai-Teio']\n",
      "['https://github.com/TRvlvr/model_repo/releases/download/all_public_uvr_models/hdemucs_mmi.yaml', 'https://dl.fbaipublicfiles.com/demucs/hybrid_transformer/75fc33f5-1941ce65.th']\n",
      "['https://github.com/TRvlvr/model_repo/releases/download/all_public_uvr_models/htdemucs_6s.yaml', 'https://dl.fbaipublicfiles.com/demucs/hybrid_transformer/5c90dfd2-34c22ccb.th']\n",
      "['https://huggingface.co/therealvul/so-vits-svc-4.0-init/']\n",
      "['https://cowtransfer.com/s/f35da9843a1641']\n",
      "['https://huggingface.co/AbeShinzo0708/so_vits_svc4_AbeShinzo/']\n",
      "['https://huggingface.co/kaze-mio/so-vits-genshin/tree/main/nahida']\n",
      "['https://huggingface.co/megaaziib/hololivemix-so-vits-svc-4.0/tree/main']\n",
      "['https://huggingface.co/Kree/so-vits-svc4.0-Tokai-Teio/tree/main/Tokai-Teio']\n",
      "['https://github.com/TRvlvr/model_repo/releases/download/all_public_uvr_models/hdemucs_mmi.yaml', 'https://dl.fbaipublicfiles.com/demucs/hybrid_transformer/75fc33f5-1941ce65.th']\n",
      "['https://github.com/TRvlvr/model_repo/releases/download/all_public_uvr_models/htdemucs_6s.yaml', 'https://dl.fbaipublicfiles.com/demucs/hybrid_transformer/5c90dfd2-34c22ccb.th']\n",
      "['https://huggingface.co/therealvul/so-vits-svc-4.0-init/']\n",
      "['https://cowtransfer.com/s/f35da9843a1641']\n",
      "['https://huggingface.co/AbeShinzo0708/so_vits_svc4_AbeShinzo/']\n",
      "['https://huggingface.co/kaze-mio/so-vits-genshin/tree/main/nahida']\n",
      "['https://huggingface.co/megaaziib/hololivemix-so-vits-svc-4.0/tree/main']\n",
      "['https://huggingface.co/Kree/so-vits-svc4.0-Tokai-Teio/tree/main/Tokai-Teio']\n",
      "['https://github.com/TRvlvr/model_repo/releases/download/all_public_uvr_models/hdemucs_mmi.yaml', 'https://dl.fbaipublicfiles.com/demucs/hybrid_transformer/75fc33f5-1941ce65.th']\n",
      "['https://github.com/TRvlvr/model_repo/releases/download/all_public_uvr_models/htdemucs_6s.yaml', 'https://dl.fbaipublicfiles.com/demucs/hybrid_transformer/5c90dfd2-34c22ccb.th']\n",
      "['https://huggingface.co/therealvul/so-vits-svc-4.0-init/']\n",
      "['https://cowtransfer.com/s/f35da9843a1641']\n",
      "['https://huggingface.co/AbeShinzo0708/so_vits_svc4_AbeShinzo/']\n",
      "['https://huggingface.co/kaze-mio/so-vits-genshin/tree/main/nahida']\n",
      "['https://huggingface.co/megaaziib/hololivemix-so-vits-svc-4.0/tree/main']\n",
      "['https://huggingface.co/Kree/so-vits-svc4.0-Tokai-Teio/tree/main/Tokai-Teio']\n",
      "['https://github.com/TRvlvr/model_repo/releases/download/all_public_uvr_models/hdemucs_mmi.yaml', 'https://dl.fbaipublicfiles.com/demucs/hybrid_transformer/75fc33f5-1941ce65.th']\n",
      "['https://github.com/TRvlvr/model_repo/releases/download/all_public_uvr_models/htdemucs_6s.yaml', 'https://dl.fbaipublicfiles.com/demucs/hybrid_transformer/5c90dfd2-34c22ccb.th']\n",
      "['https://huggingface.co/therealvul/so-vits-svc-4.0-init/']\n",
      "['https://cowtransfer.com/s/f35da9843a1641']\n",
      "['https://huggingface.co/AbeShinzo0708/so_vits_svc4_AbeShinzo/']\n",
      "['https://huggingface.co/kaze-mio/so-vits-genshin/tree/main/nahida']\n",
      "['https://huggingface.co/megaaziib/hololivemix-so-vits-svc-4.0/tree/main']\n",
      "['https://huggingface.co/Kree/so-vits-svc4.0-Tokai-Teio/tree/main/Tokai-Teio']\n",
      "['https://github.com/TRvlvr/model_repo/releases/download/all_public_uvr_models/hdemucs_mmi.yaml', 'https://dl.fbaipublicfiles.com/demucs/hybrid_transformer/75fc33f5-1941ce65.th']\n",
      "['https://github.com/TRvlvr/model_repo/releases/download/all_public_uvr_models/htdemucs_6s.yaml', 'https://dl.fbaipublicfiles.com/demucs/hybrid_transformer/5c90dfd2-34c22ccb.th']\n",
      "['https://huggingface.co/therealvul/so-vits-svc-4.0-init/']\n",
      "['https://cowtransfer.com/s/f35da9843a1641']\n",
      "['https://huggingface.co/AbeShinzo0708/so_vits_svc4_AbeShinzo/']\n",
      "['https://huggingface.co/kaze-mio/so-vits-genshin/tree/main/nahida']\n",
      "['https://huggingface.co/megaaziib/hololivemix-so-vits-svc-4.0/tree/main']\n",
      "['https://huggingface.co/Kree/so-vits-svc4.0-Tokai-Teio/tree/main/Tokai-Teio']\n",
      "['https://github.com/TRvlvr/model_repo/releases/download/all_public_uvr_models/hdemucs_mmi.yaml', 'https://dl.fbaipublicfiles.com/demucs/hybrid_transformer/75fc33f5-1941ce65.th']\n",
      "['https://github.com/TRvlvr/model_repo/releases/download/all_public_uvr_models/htdemucs_6s.yaml', 'https://dl.fbaipublicfiles.com/demucs/hybrid_transformer/5c90dfd2-34c22ccb.th']\n",
      "['https://huggingface.co/therealvul/so-vits-svc-4.0-init/']\n",
      "['https://cowtransfer.com/s/f35da9843a1641']\n",
      "['https://huggingface.co/AbeShinzo0708/so_vits_svc4_AbeShinzo/']\n",
      "['https://huggingface.co/kaze-mio/so-vits-genshin/tree/main/nahida']\n",
      "['https://huggingface.co/megaaziib/hololivemix-so-vits-svc-4.0/tree/main']\n",
      "['https://huggingface.co/Kree/so-vits-svc4.0-Tokai-Teio/tree/main/Tokai-Teio']\n",
      "['https://github.com/TRvlvr/model_repo/releases/download/all_public_uvr_models/hdemucs_mmi.yaml', 'https://dl.fbaipublicfiles.com/demucs/hybrid_transformer/75fc33f5-1941ce65.th']\n",
      "['https://github.com/TRvlvr/model_repo/releases/download/all_public_uvr_models/htdemucs_6s.yaml', 'https://dl.fbaipublicfiles.com/demucs/hybrid_transformer/5c90dfd2-34c22ccb.th']\n",
      "['https://huggingface.co/therealvul/so-vits-svc-4.0-init/']\n",
      "['https://cowtransfer.com/s/f35da9843a1641']\n",
      "['https://huggingface.co/AbeShinzo0708/so_vits_svc4_AbeShinzo/']\n",
      "['https://huggingface.co/kaze-mio/so-vits-genshin/tree/main/nahida']\n",
      "['https://huggingface.co/megaaziib/hololivemix-so-vits-svc-4.0/tree/main']\n",
      "['https://huggingface.co/Kree/so-vits-svc4.0-Tokai-Teio/tree/main/Tokai-Teio']\n",
      "['https://github.com/TRvlvr/model_repo/releases/download/all_public_uvr_models/hdemucs_mmi.yaml', 'https://dl.fbaipublicfiles.com/demucs/hybrid_transformer/75fc33f5-1941ce65.th']\n",
      "['https://github.com/TRvlvr/model_repo/releases/download/all_public_uvr_models/htdemucs_6s.yaml', 'https://dl.fbaipublicfiles.com/demucs/hybrid_transformer/5c90dfd2-34c22ccb.th']\n",
      "['https://huggingface.co/therealvul/so-vits-svc-4.0-init/']\n",
      "['https://cowtransfer.com/s/f35da9843a1641']\n",
      "['https://huggingface.co/AbeShinzo0708/so_vits_svc4_AbeShinzo/']\n",
      "['https://huggingface.co/kaze-mio/so-vits-genshin/tree/main/nahida']\n",
      "['https://huggingface.co/megaaziib/hololivemix-so-vits-svc-4.0/tree/main']\n",
      "['https://huggingface.co/Kree/so-vits-svc4.0-Tokai-Teio/tree/main/Tokai-Teio']\n",
      "['https://github.com/TRvlvr/model_repo/releases/download/all_public_uvr_models/hdemucs_mmi.yaml', 'https://dl.fbaipublicfiles.com/demucs/hybrid_transformer/75fc33f5-1941ce65.th']\n",
      "['https://github.com/TRvlvr/model_repo/releases/download/all_public_uvr_models/htdemucs_6s.yaml', 'https://dl.fbaipublicfiles.com/demucs/hybrid_transformer/5c90dfd2-34c22ccb.th']\n",
      "['https://huggingface.co/therealvul/so-vits-svc-4.0-init/']\n",
      "['https://cowtransfer.com/s/f35da9843a1641']\n",
      "['https://huggingface.co/AbeShinzo0708/so_vits_svc4_AbeShinzo/']\n",
      "['https://huggingface.co/kaze-mio/so-vits-genshin/tree/main/nahida']\n",
      "['https://huggingface.co/megaaziib/hololivemix-so-vits-svc-4.0/tree/main']\n",
      "['https://huggingface.co/Kree/so-vits-svc4.0-Tokai-Teio/tree/main/Tokai-Teio']\n",
      "['https://github.com/TRvlvr/model_repo/releases/download/all_public_uvr_models/hdemucs_mmi.yaml', 'https://dl.fbaipublicfiles.com/demucs/hybrid_transformer/75fc33f5-1941ce65.th']\n",
      "['https://github.com/TRvlvr/model_repo/releases/download/all_public_uvr_models/htdemucs_6s.yaml', 'https://dl.fbaipublicfiles.com/demucs/hybrid_transformer/5c90dfd2-34c22ccb.th']\n",
      "['https://huggingface.co/therealvul/so-vits-svc-4.0-init/']\n",
      "['https://cowtransfer.com/s/f35da9843a1641']\n",
      "['https://huggingface.co/AbeShinzo0708/so_vits_svc4_AbeShinzo/']\n",
      "['https://huggingface.co/kaze-mio/so-vits-genshin/tree/main/nahida']\n",
      "['https://huggingface.co/megaaziib/hololivemix-so-vits-svc-4.0/tree/main']\n",
      "['https://huggingface.co/Kree/so-vits-svc4.0-Tokai-Teio/tree/main/Tokai-Teio']\n",
      "/home/ayano/projects/vocal_generating_pack/files/models/demucs/hdemucs_mmi\n",
      "Downloading hdemucs_mmi.yaml (33 bytes)\n"
     ]
    },
    {
     "data": {
      "application/vnd.jupyter.widget-view+json": {
       "model_id": "e2ad143cf490429f84a060018d0d61a7",
       "version_major": 2,
       "version_minor": 0
      },
      "text/plain": [
       "hdemucs_mmi.yaml:   0%|          | 0.00/33.0 [00:00<?, ?iB/s]"
      ]
     },
     "metadata": {},
     "output_type": "display_data"
    },
    {
     "name": "stdout",
     "output_type": "stream",
     "text": [
      "hdemucs_mmi.yaml downloaded\n",
      "['https://github.com/TRvlvr/model_repo/releases/download/all_public_uvr_models/hdemucs_mmi.yaml', 'https://dl.fbaipublicfiles.com/demucs/hybrid_transformer/75fc33f5-1941ce65.th']\n",
      "['https://github.com/TRvlvr/model_repo/releases/download/all_public_uvr_models/htdemucs_6s.yaml', 'https://dl.fbaipublicfiles.com/demucs/hybrid_transformer/5c90dfd2-34c22ccb.th']\n",
      "['https://huggingface.co/therealvul/so-vits-svc-4.0-init/']\n",
      "['https://cowtransfer.com/s/f35da9843a1641']\n",
      "['https://huggingface.co/AbeShinzo0708/so_vits_svc4_AbeShinzo/']\n",
      "['https://huggingface.co/kaze-mio/so-vits-genshin/tree/main/nahida']\n",
      "['https://huggingface.co/megaaziib/hololivemix-so-vits-svc-4.0/tree/main']\n",
      "['https://huggingface.co/Kree/so-vits-svc4.0-Tokai-Teio/tree/main/Tokai-Teio']\n",
      "/home/ayano/projects/vocal_generating_pack/files/models/demucs/hdemucs_mmi\n",
      "Downloading 75fc33f5-1941ce65.th (167407275 bytes)\n"
     ]
    },
    {
     "data": {
      "application/vnd.jupyter.widget-view+json": {
       "model_id": "fc63c5ea426948abb3634bb31a8fb67d",
       "version_major": 2,
       "version_minor": 0
      },
      "text/plain": [
       "75fc33f5-1941ce65.th:   0%|          | 0.00/167M [00:00<?, ?iB/s]"
      ]
     },
     "metadata": {},
     "output_type": "display_data"
    },
    {
     "name": "stdout",
     "output_type": "stream",
     "text": [
      "75fc33f5-1941ce65.th downloaded\n",
      "['https://github.com/TRvlvr/model_repo/releases/download/all_public_uvr_models/hdemucs_mmi.yaml', 'https://dl.fbaipublicfiles.com/demucs/hybrid_transformer/75fc33f5-1941ce65.th']\n",
      "['https://github.com/TRvlvr/model_repo/releases/download/all_public_uvr_models/htdemucs_6s.yaml', 'https://dl.fbaipublicfiles.com/demucs/hybrid_transformer/5c90dfd2-34c22ccb.th']\n",
      "['https://huggingface.co/therealvul/so-vits-svc-4.0-init/']\n",
      "['https://cowtransfer.com/s/f35da9843a1641']\n",
      "['https://huggingface.co/AbeShinzo0708/so_vits_svc4_AbeShinzo/']\n",
      "['https://huggingface.co/kaze-mio/so-vits-genshin/tree/main/nahida']\n",
      "['https://huggingface.co/megaaziib/hololivemix-so-vits-svc-4.0/tree/main']\n",
      "['https://huggingface.co/Kree/so-vits-svc4.0-Tokai-Teio/tree/main/Tokai-Teio']\n"
     ]
    }
   ],
   "source": [
    "model_so_vits = get_data_from_source(\"so-vits\", \"model\", \"genshin\", update_cache=False)\n",
    "model_demucs = get_data_from_source(\"demucs\", \"model\", \"hdemucs_mmi\", update_cache=False)"
   ]
  },
  {
   "attachments": {},
   "cell_type": "markdown",
   "metadata": {
    "collapsed": false
   },
   "source": [
    "Convert .ncm file to .wav"
   ]
  },
  {
   "cell_type": "code",
   "execution_count": 4,
   "metadata": {
    "ExecuteTime": {
     "start_time": "2023-06-13T07:00:38.827823Z"
    },
    "collapsed": false
   },
   "outputs": [
    {
     "name": "stdout",
     "output_type": "stream",
     "text": [
      "demo_assets/daitan-cm.wav\n"
     ]
    }
   ],
   "source": [
    "converted_path = convert_ncm(SONG_PATH, OUT_PATH)\n",
    "print(converted_path)"
   ]
  },
  {
   "attachments": {},
   "cell_type": "markdown",
   "metadata": {},
   "source": [
    "Separate vocal and instrumental with demucs"
   ]
  },
  {
   "cell_type": "code",
   "execution_count": 5,
   "metadata": {
    "ExecuteTime": {
     "start_time": "2023-06-13T07:00:38.828651Z"
    }
   },
   "outputs": [
    {
     "name": "stdout",
     "output_type": "stream",
     "text": [
      "['/home/ayano/projects/vocal_generating_pack/src/demo_assets/daitan-cm.wav', '-o', '/home/ayano/projects/vocal_generating_pack/files/output/daitan-cm', '--repo', '../files/models/demucs/hdemucs_mmi', '--device', 'cuda', '--float32', '--segment', '5', '--clip-mode', 'clamp', '--name', 'hdemucs_mmi', '--jobs', '16', '--two-stems', 'vocals']\n"
     ]
    },
    {
     "name": "stdout",
     "output_type": "stream",
     "text": [
      "Selected model is a bag of 1 models. You will see that many progress bars per track.\n",
      "Separated tracks will be stored in /home/ayano/projects/vocal_generating_pack/files/output/daitan-cm/hdemucs_mmi\n",
      "Separating track /home/ayano/projects/vocal_generating_pack/src/demo_assets/daitan-cm.wav\n"
     ]
    },
    {
     "name": "stderr",
     "output_type": "stream",
     "text": [
      "100%|██████████████████████████████████████████████████████████████████████████| 22.5/22.5 [00:00<00:00, 27.38seconds/s]\n"
     ]
    },
    {
     "name": "stdout",
     "output_type": "stream",
     "text": [
      "converting file to wav...\n",
      "done\n",
      "{'vocal': PosixPath('../files/output/daitan-cm/hdemucs_mmi/daitan-cm/vocals.wav'), 'instrumental': PosixPath('../files/output/daitan-cm/hdemucs_mmi/daitan-cm/no_vocals.wav')}\n"
     ]
    }
   ],
   "source": [
    "separated_path = separate_vocal(Path(converted_path), OUT_PATH)\n",
    "print(separated_path)"
   ]
  },
  {
   "attachments": {},
   "cell_type": "markdown",
   "metadata": {},
   "source": [
    "Use so-vits-svc to process audio file"
   ]
  },
  {
   "cell_type": "code",
   "execution_count": 10,
   "metadata": {
    "ExecuteTime": {
     "start_time": "2023-06-13T07:00:38.829795Z"
    }
   },
   "outputs": [
    {
     "name": "stderr",
     "output_type": "stream",
     "text": [
      "Some weights of the model checkpoint at lengyue233/content-vec-best were not used when initializing HubertModelWithFinalProj: ['encoder.pos_conv_embed.conv.weight_g', 'encoder.pos_conv_embed.conv.weight_v']\n",
      "- This IS expected if you are initializing HubertModelWithFinalProj from the checkpoint of a model trained on another task or with another architecture (e.g. initializing a BertForSequenceClassification model from a BertForPreTraining model).\n",
      "- This IS NOT expected if you are initializing HubertModelWithFinalProj from the checkpoint of a model that you expect to be exactly identical (initializing a BertForSequenceClassification model from a BertForSequenceClassification model).\n",
      "Some weights of HubertModelWithFinalProj were not initialized from the model checkpoint at lengyue233/content-vec-best and are newly initialized: ['encoder.pos_conv_embed.conv.parametrizations.weight.original0', 'encoder.pos_conv_embed.conv.parametrizations.weight.original1']\n",
      "You should probably TRAIN this model on a down-stream task to be able to use it for predictions and inference.\n"
     ]
    },
    {
     "name": "stdout",
     "output_type": "stream",
     "text": [
      "model path:  /home/ayano/projects/vocal_generating_pack/files/models/so-vits/genshin/klee_jp_G_40000.pth\n"
     ]
    },
    {
     "name": "stderr",
     "output_type": "stream",
     "text": [
      "[19:24:09] Decoder type: hifi-gan\n",
      "[19:24:09] Loaded checkpoint '/home/ayano/projects/vocal_generating_pack/files/models/so-vits/genshin/klee_jp_G_40000.pth' (epoch 728)\n",
      "[19:24:10] Chunk: Chunk(Speech: False, 17640.0)\n",
      "[19:24:10] Chunk: Chunk(Speech: True, 643860.0)\n",
      "[19:24:10] F0 inference time:       0.274s, RTF: 0.018\n",
      "[19:24:10] HuBERT inference time  : 0.006s, RTF: 0.000\n",
      "[19:24:10] Inference time: 0.06s, RTF: 0.00\n",
      "[19:24:11] Chunk: Chunk(Speech: False, 293508.0)\n"
     ]
    },
    {
     "name": "stdout",
     "output_type": "stream",
     "text": [
      "../files/output/daitan-cm/voice_generated_with_hutao.wav\n"
     ]
    }
   ],
   "source": [
    "\n",
    "counterfeited_path = apply_so_vits(separated_path[\"vocal\"], output_path=OUT_PATH, model_path=model_so_vits[\"klee_jp_G_40000.pth\"], config_file_path=model_so_vits[\"hutao.json\"], cluster=model_so_vits[\"hutao_kmeans_10000.pt\"], auto_predict_f0=False, speaker=\"hutao\", db_threshold=-90)\n",
    "print(counterfeited_path)"
   ]
  },
  {
   "attachments": {},
   "cell_type": "markdown",
   "metadata": {
    "collapsed": false
   },
   "source": [
    "## 合并"
   ]
  },
  {
   "cell_type": "code",
   "execution_count": 11,
   "metadata": {
    "ExecuteTime": {
     "start_time": "2023-06-13T07:00:38.830559Z"
    },
    "collapsed": false
   },
   "outputs": [
    {
     "name": "stdout",
     "output_type": "stream",
     "text": [
      "44100 44100\n",
      "done\n",
      "output file: ../files/output/daitan-cm/voice_generated_with_hutao_counterfeited_from_hutao.wav\n"
     ]
    }
   ],
   "source": [
    "output = fuse_vocal_and_instrumental(vocal_path=counterfeited_path, instrumental_path=separated_path[\"instrumental\"], output_path=OUT_PATH, speaker=\"hutao\")\n",
    "print(\"output file:\", output)"
   ]
  }
 ],
 "metadata": {
  "kernelspec": {
   "display_name": "vocal_generating_pack",
   "language": "python",
   "name": "python3"
  },
  "language_info": {
   "codemirror_mode": {
    "name": "ipython",
    "version": 3
   },
   "file_extension": ".py",
   "mimetype": "text/x-python",
   "name": "python",
   "nbconvert_exporter": "python",
   "pygments_lexer": "ipython3",
   "version": "3.11.8"
  }
 },
 "nbformat": 4,
 "nbformat_minor": 1
}
