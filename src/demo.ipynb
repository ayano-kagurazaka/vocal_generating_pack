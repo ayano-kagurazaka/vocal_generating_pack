{
 "cells": [
  {
   "cell_type": "markdown",
   "metadata": {},
   "source": [
    "## 导入库和构建文件架构"
   ]
  },
  {
   "cell_type": "code",
   "execution_count": null,
   "metadata": {},
   "outputs": [],
   "source": [
    "from functions import separate_vocal, apply_so_vits, fuse_vocal_and_instrumental, convert_ncm, Path\n",
    "from resource_manager import get_data_from_source"
   ]
  },
  {
   "cell_type": "markdown",
   "metadata": {},
   "source": [
    "## 定义路径"
   ]
  },
  {
   "cell_type": "code",
   "execution_count": 3,
   "metadata": {
    "ExecuteTime": {
     "end_time": "2023-06-12T14:01:20.078122Z",
     "start_time": "2023-06-12T14:01:20.073382Z"
    }
   },
   "outputs": [],
   "source": [
    "SONG_PATH = Path(\"/Users/ayano/Documents/developing/AI/song_generating_pack/src/demo_assets/M5000029VD6t3UEmyg.mp3\")\n",
    "OUT_PATH = Path(\"../files/output/\").joinpath(SONG_PATH.name)"
   ]
  },
  {
   "cell_type": "markdown",
   "metadata": {},
   "source": [
    "## 下载模型(来源huggingface, 下载可能会较慢, 请等待)"
   ]
  },
  {
   "cell_type": "code",
   "execution_count": null,
   "metadata": {},
   "outputs": [],
   "source": [
    "model_so_vits = get_data_from_source(\"so-vits\", \"model\", \"genshin\", update_cache=True)\n",
    "model_demucs = get_data_from_source(\"demucs\", \"model\", \"hdemucs_mmi\", update_cache=True)"
   ]
  },
  {
   "cell_type": "markdown",
   "metadata": {},
   "source": [
    "## 利用demucs分离音频"
   ]
  },
  {
   "cell_type": "code",
   "execution_count": null,
   "metadata": {},
   "outputs": [],
   "source": [
    "separated_path = separate_vocal(SONG_PATH, OUT_PATH)\n",
    "print(separated_path)"
   ]
  },
  {
   "cell_type": "markdown",
   "metadata": {},
   "source": [
    "## 利用so-vits处理音频"
   ]
  },
  {
   "cell_type": "code",
   "execution_count": null,
   "metadata": {},
   "outputs": [],
   "source": [
    "counterfeited_path = apply_so_vits(separated_path[\"vocal\"], output_path=OUT_PATH, model_path=model_so_vits[\"nahida_jp_G_40000.pth\"], config_file_path=model_so_vits[\"nahida.json\"], cluster=model_so_vits[\"nahida_jp_kmeans_10000.pt\"], auto_predict_f0=False, speaker=\"nahida\")\n",
    "print(counterfeited_path)"
   ]
  },
  {
   "cell_type": "markdown",
   "source": [
    "## 合并"
   ],
   "metadata": {
    "collapsed": false
   }
  },
  {
   "cell_type": "code",
   "execution_count": null,
   "outputs": [],
   "source": [
    "output = fuse_vocal_and_instrumental(vocal_path=counterfeited_path, instrumental_path=separated_path[\"instrumental\"], output_path=OUT_PATH, speaker=\"nahida\")\n",
    "print(\"output file:\", output)"
   ],
   "metadata": {
    "collapsed": false
   }
  }
 ],
 "metadata": {
  "kernelspec": {
   "name": "conda-env-vocal_generating_pack-py",
   "language": "python",
   "display_name": "Python [conda env:vocal_generating_pack] *"
  },
  "language_info": {
   "codemirror_mode": {
    "name": "ipython",
    "version": 3
   },
   "file_extension": ".py",
   "mimetype": "text/x-python",
   "name": "python",
   "nbconvert_exporter": "python",
   "pygments_lexer": "ipython3",
   "version": "3.10.11"
  }
 },
 "nbformat": 4,
 "nbformat_minor": 1
}
