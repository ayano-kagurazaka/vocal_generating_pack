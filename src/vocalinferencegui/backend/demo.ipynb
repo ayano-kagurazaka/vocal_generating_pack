{
 "cells": [
  {
   "attachments": {},
   "cell_type": "markdown",
   "metadata": {},
   "source": [
    "Import variables, functions, and construct file structures"
   ]
  },
  {
   "cell_type": "code",
   "execution_count": 1,
   "metadata": {
    "ExecuteTime": {
     "end_time": "2023-06-13T07:00:37.643879Z",
     "start_time": "2023-06-13T07:00:35.907420Z"
    }
   },
   "outputs": [
    {
     "name": "stdout",
     "output_type": "stream",
     "text": [
      "building file structures...\n",
      "done\n"
     ]
    },
    {
     "data": {
      "text/html": [
       "<pre style=\"white-space:pre;overflow-x:auto;line-height:normal;font-family:Menlo,'DejaVu Sans Mono',consolas,'Courier New',monospace\"><span style=\"color: #7fbfbf; text-decoration-color: #7fbfbf\">[23:17:19] </span><span style=\"color: #800000; text-decoration-color: #800000\">WARNING </span> <span style=\"font-weight: bold\">[</span><span style=\"color: #00ff00; text-decoration-color: #00ff00; font-weight: bold\">23:17:19</span><span style=\"font-weight: bold\">]</span>                                                                      <a href=\"file:///opt/homebrew/Caskroom/miniconda/base/envs/vocal-generating-pack/lib/python3.11/warnings.py\" target=\"_blank\"><span style=\"color: #7f7f7f; text-decoration-color: #7f7f7f\">warnings.py</span></a><span style=\"color: #7f7f7f; text-decoration-color: #7f7f7f\">:</span><a href=\"file:///opt/homebrew/Caskroom/miniconda/base/envs/vocal-generating-pack/lib/python3.11/warnings.py#110\" target=\"_blank\"><span style=\"color: #7f7f7f; text-decoration-color: #7f7f7f\">110</span></a>\n",
       "<span style=\"color: #7fbfbf; text-decoration-color: #7fbfbf\">           </span>         <span style=\"color: #800080; text-decoration-color: #800080\">/opt/homebrew/Caskroom/miniconda/base/envs/vocal-generating-pack/lib/python3.11</span> <span style=\"color: #7f7f7f; text-decoration-color: #7f7f7f\">               </span>\n",
       "<span style=\"color: #7fbfbf; text-decoration-color: #7fbfbf\">           </span>         <span style=\"color: #800080; text-decoration-color: #800080\">/site-packages/pyannote/audio/core/</span><span style=\"color: #ff00ff; text-decoration-color: #ff00ff\">io.py</span>:<span style=\"color: #008080; text-decoration-color: #008080; font-weight: bold\">43</span>: UserWarning:                       <span style=\"color: #7f7f7f; text-decoration-color: #7f7f7f\">               </span>\n",
       "<span style=\"color: #7fbfbf; text-decoration-color: #7fbfbf\">           </span>         torchaudio._backend.set_audio_backend has been deprecated. With dispatcher      <span style=\"color: #7f7f7f; text-decoration-color: #7f7f7f\">               </span>\n",
       "<span style=\"color: #7fbfbf; text-decoration-color: #7fbfbf\">           </span>         enabled, this function is no-op. You can remove the function call.              <span style=\"color: #7f7f7f; text-decoration-color: #7f7f7f\">               </span>\n",
       "<span style=\"color: #7fbfbf; text-decoration-color: #7fbfbf\">           </span>           <span style=\"color: #800080; text-decoration-color: #800080; font-weight: bold\">torchaudio.set_audio_backend</span><span style=\"font-weight: bold\">(</span><span style=\"color: #008000; text-decoration-color: #008000\">\"soundfile\"</span><span style=\"font-weight: bold\">)</span>                                     <span style=\"color: #7f7f7f; text-decoration-color: #7f7f7f\">               </span>\n",
       "<span style=\"color: #7fbfbf; text-decoration-color: #7fbfbf\">           </span>                                                                                         <span style=\"color: #7f7f7f; text-decoration-color: #7f7f7f\">               </span>\n",
       "</pre>\n"
      ],
      "text/plain": [
       "\u001b[2;36m[23:17:19]\u001b[0m\u001b[2;36m \u001b[0m\u001b[31mWARNING \u001b[0m \u001b[1m[\u001b[0m\u001b[1;92m23:17:19\u001b[0m\u001b[1m]\u001b[0m                                                                      \u001b]8;id=650273;file:///opt/homebrew/Caskroom/miniconda/base/envs/vocal-generating-pack/lib/python3.11/warnings.py\u001b\\\u001b[2mwarnings.py\u001b[0m\u001b]8;;\u001b\\\u001b[2m:\u001b[0m\u001b]8;id=65961;file:///opt/homebrew/Caskroom/miniconda/base/envs/vocal-generating-pack/lib/python3.11/warnings.py#110\u001b\\\u001b[2m110\u001b[0m\u001b]8;;\u001b\\\n",
       "\u001b[2;36m           \u001b[0m         \u001b[35m/opt/homebrew/Caskroom/miniconda/base/envs/vocal-generating-pack/lib/python3.11\u001b[0m \u001b[2m               \u001b[0m\n",
       "\u001b[2;36m           \u001b[0m         \u001b[35m/site-packages/pyannote/audio/core/\u001b[0m\u001b[95mio.py\u001b[0m:\u001b[1;36m43\u001b[0m: UserWarning:                       \u001b[2m               \u001b[0m\n",
       "\u001b[2;36m           \u001b[0m         torchaudio._backend.set_audio_backend has been deprecated. With dispatcher      \u001b[2m               \u001b[0m\n",
       "\u001b[2;36m           \u001b[0m         enabled, this function is no-op. You can remove the function call.              \u001b[2m               \u001b[0m\n",
       "\u001b[2;36m           \u001b[0m           \u001b[1;35mtorchaudio.set_audio_backend\u001b[0m\u001b[1m(\u001b[0m\u001b[32m\"soundfile\"\u001b[0m\u001b[1m)\u001b[0m                                     \u001b[2m               \u001b[0m\n",
       "\u001b[2;36m           \u001b[0m                                                                                         \u001b[2m               \u001b[0m\n"
      ]
     },
     "metadata": {},
     "output_type": "display_data"
    }
   ],
   "source": [
    "from resource_manager import get_data_from_source\n",
    "from environment import output_path\n",
    "from functions import separate_vocal, convert_ncm, apply_so_vits, fuse_vocal_and_instrumental, Path"
   ]
  },
  {
   "attachments": {},
   "cell_type": "markdown",
   "metadata": {},
   "source": [
    "Define paths"
   ]
  },
  {
   "cell_type": "code",
   "execution_count": 2,
   "metadata": {
    "ExecuteTime": {
     "end_time": "2023-06-13T07:00:37.646399Z",
     "start_time": "2023-06-13T07:00:37.645104Z"
    },
    "collapsed": false
   },
   "outputs": [],
   "source": [
    "SONG_PATH = Path(\"./demo_assets/minstrel_short.mp3\")\n",
    "OUT_PATH = output_path.joinpath(SONG_PATH.name.rsplit('.')[0])"
   ]
  },
  {
   "attachments": {},
   "cell_type": "markdown",
   "metadata": {},
   "source": [
    "Download the model from huggingface"
   ]
  },
  {
   "cell_type": "code",
   "execution_count": 3,
   "metadata": {
    "ExecuteTime": {
     "end_time": "2023-06-13T07:01:01.817544Z",
     "start_time": "2023-06-13T07:00:42.676507Z"
    }
   },
   "outputs": [
    {
     "name": "stdout",
     "output_type": "stream",
     "text": [
      "downloading:  kaze-mio/so-vits-genshin\n"
     ]
    },
    {
     "data": {
      "application/vnd.jupyter.widget-view+json": {
       "model_id": "454140db3b394cf485703992609e7a8e",
       "version_major": 2,
       "version_minor": 0
      },
      "text/plain": [
       "Fetching 28 files:   0%|          | 0/28 [00:00<?, ?it/s]"
      ]
     },
     "metadata": {},
     "output_type": "display_data"
    },
    {
     "data": {
      "application/vnd.jupyter.widget-view+json": {
       "model_id": "6c95923c90224e879544b80dfbf91738",
       "version_major": 2,
       "version_minor": 0
      },
      "text/plain": [
       "hutao-jp/hutao_jp_kmeans_10000.pt:   0%|          | 0.00/15.4M [00:00<?, ?B/s]"
      ]
     },
     "metadata": {},
     "output_type": "display_data"
    },
    {
     "data": {
      "application/vnd.jupyter.widget-view+json": {
       "model_id": "64289b1a609e4576b0b803bd4c86d223",
       "version_major": 2,
       "version_minor": 0
      },
      "text/plain": [
       "hutao-jp/hutao.json:   0%|          | 0.00/1.66k [00:00<?, ?B/s]"
      ]
     },
     "metadata": {},
     "output_type": "display_data"
    },
    {
     "data": {
      "application/vnd.jupyter.widget-view+json": {
       "model_id": "4470bf7f542043b19d95884644fabac8",
       "version_major": 2,
       "version_minor": 0
      },
      "text/plain": [
       "hutao-jp/hutao_jp_G_40000.pth:   0%|          | 0.00/542M [00:00<?, ?B/s]"
      ]
     },
     "metadata": {},
     "output_type": "display_data"
    },
    {
     "data": {
      "application/vnd.jupyter.widget-view+json": {
       "model_id": "620c740f5631428fa919a9fecd38017e",
       "version_major": 2,
       "version_minor": 0
      },
      "text/plain": [
       "hutao/hutao.json:   0%|          | 0.00/1.66k [00:00<?, ?B/s]"
      ]
     },
     "metadata": {},
     "output_type": "display_data"
    },
    {
     "data": {
      "application/vnd.jupyter.widget-view+json": {
       "model_id": "142ed4897c654cfba705491f2e3448cb",
       "version_major": 2,
       "version_minor": 0
      },
      "text/plain": [
       "hutao/hutao_kmeans_10000.pt:   0%|          | 0.00/15.4M [00:00<?, ?B/s]"
      ]
     },
     "metadata": {},
     "output_type": "display_data"
    },
    {
     "data": {
      "application/vnd.jupyter.widget-view+json": {
       "model_id": "6b9189b32b4b4d96a39e8ac529f68c68",
       "version_major": 2,
       "version_minor": 0
      },
      "text/plain": [
       "hutao-jp/hutao_jp_D_40000.pth:   0%|          | 0.00/561M [00:00<?, ?B/s]"
      ]
     },
     "metadata": {},
     "output_type": "display_data"
    },
    {
     "data": {
      "application/vnd.jupyter.widget-view+json": {
       "model_id": "e092bd7caa5045838d51911a30d95329",
       "version_major": 2,
       "version_minor": 0
      },
      "text/plain": [
       "klee-jp/klee.json:   0%|          | 0.00/1.66k [00:00<?, ?B/s]"
      ]
     },
     "metadata": {},
     "output_type": "display_data"
    },
    {
     "data": {
      "application/vnd.jupyter.widget-view+json": {
       "model_id": "e2fbd3831eed420cb76a8871245895c1",
       "version_major": 2,
       "version_minor": 0
      },
      "text/plain": [
       "hutao/hutao_D_40000.pth:   0%|          | 0.00/561M [00:00<?, ?B/s]"
      ]
     },
     "metadata": {},
     "output_type": "display_data"
    },
    {
     "data": {
      "application/vnd.jupyter.widget-view+json": {
       "model_id": "730dd35f3702431fb81a3bb2934958f0",
       "version_major": 2,
       "version_minor": 0
      },
      "text/plain": [
       "hutao/hutao_G_40000.pth:   0%|          | 0.00/542M [00:00<?, ?B/s]"
      ]
     },
     "metadata": {},
     "output_type": "display_data"
    },
    {
     "data": {
      "application/vnd.jupyter.widget-view+json": {
       "model_id": "0f191e2f332140ba8a2db4a6f2deb809",
       "version_major": 2,
       "version_minor": 0
      },
      "text/plain": [
       "klee-jp/klee_jp_G_40000.pth:   0%|          | 0.00/542M [00:00<?, ?B/s]"
      ]
     },
     "metadata": {},
     "output_type": "display_data"
    },
    {
     "data": {
      "application/vnd.jupyter.widget-view+json": {
       "model_id": "fdc0d4d550df4ba0b161175f084a8f97",
       "version_major": 2,
       "version_minor": 0
      },
      "text/plain": [
       "klee-jp/klee_jp_D_40000.pth:   0%|          | 0.00/561M [00:00<?, ?B/s]"
      ]
     },
     "metadata": {},
     "output_type": "display_data"
    },
    {
     "data": {
      "application/vnd.jupyter.widget-view+json": {
       "model_id": "bb736d8a74ec4b5b8ac9aa7841a254d3",
       "version_major": 2,
       "version_minor": 0
      },
      "text/plain": [
       "klee-jp/klee_jp_kmeans_10000.pt:   0%|          | 0.00/15.4M [00:00<?, ?B/s]"
      ]
     },
     "metadata": {},
     "output_type": "display_data"
    },
    {
     "data": {
      "application/vnd.jupyter.widget-view+json": {
       "model_id": "722058ed99cc47cf9f1e911f26c27fc2",
       "version_major": 2,
       "version_minor": 0
      },
      "text/plain": [
       "klee/klee.json:   0%|          | 0.00/1.66k [00:00<?, ?B/s]"
      ]
     },
     "metadata": {},
     "output_type": "display_data"
    },
    {
     "data": {
      "application/vnd.jupyter.widget-view+json": {
       "model_id": "0c41a1dd50b64caaa7f6f244585f433f",
       "version_major": 2,
       "version_minor": 0
      },
      "text/plain": [
       "klee/klee_D_40000.pth:   0%|          | 0.00/561M [00:00<?, ?B/s]"
      ]
     },
     "metadata": {},
     "output_type": "display_data"
    },
    {
     "data": {
      "application/vnd.jupyter.widget-view+json": {
       "model_id": "583093c6c2bb4795a72532352ef590aa",
       "version_major": 2,
       "version_minor": 0
      },
      "text/plain": [
       "klee/klee_G_40000.pth:   0%|          | 0.00/542M [00:00<?, ?B/s]"
      ]
     },
     "metadata": {},
     "output_type": "display_data"
    },
    {
     "data": {
      "application/vnd.jupyter.widget-view+json": {
       "model_id": "63c4ca2f232d4fb898fb21963267cbc2",
       "version_major": 2,
       "version_minor": 0
      },
      "text/plain": [
       "klee/klee_kmeans_10000.pt:   0%|          | 0.00/15.4M [00:00<?, ?B/s]"
      ]
     },
     "metadata": {},
     "output_type": "display_data"
    },
    {
     "data": {
      "application/vnd.jupyter.widget-view+json": {
       "model_id": "89217c3c3cbd4a02aecd5e9fdaaf6522",
       "version_major": 2,
       "version_minor": 0
      },
      "text/plain": [
       "nahida-jp/nahida.json:   0%|          | 0.00/1.67k [00:00<?, ?B/s]"
      ]
     },
     "metadata": {},
     "output_type": "display_data"
    },
    {
     "data": {
      "application/vnd.jupyter.widget-view+json": {
       "model_id": "7e39c9be5e134c0f8b14bd0507b9ee48",
       "version_major": 2,
       "version_minor": 0
      },
      "text/plain": [
       "nahida-jp/nahida_jp_D_40000.pth:   0%|          | 0.00/561M [00:00<?, ?B/s]"
      ]
     },
     "metadata": {},
     "output_type": "display_data"
    },
    {
     "data": {
      "application/vnd.jupyter.widget-view+json": {
       "model_id": "2b981e43bb084cafbaa81bedf352625f",
       "version_major": 2,
       "version_minor": 0
      },
      "text/plain": [
       "nahida-jp/nahida_jp_G_40000.pth:   0%|          | 0.00/542M [00:00<?, ?B/s]"
      ]
     },
     "metadata": {},
     "output_type": "display_data"
    },
    {
     "data": {
      "application/vnd.jupyter.widget-view+json": {
       "model_id": "f4d1c10cf47746d98c556b425d89c43a",
       "version_major": 2,
       "version_minor": 0
      },
      "text/plain": [
       "nahida-jp/nahida_jp_kmeans_10000.pt:   0%|          | 0.00/15.4M [00:00<?, ?B/s]"
      ]
     },
     "metadata": {},
     "output_type": "display_data"
    },
    {
     "data": {
      "application/vnd.jupyter.widget-view+json": {
       "model_id": "21dc774720c74d84987695f1cf5ad197",
       "version_major": 2,
       "version_minor": 0
      },
      "text/plain": [
       "nahida/nahida.json:   0%|          | 0.00/1.67k [00:00<?, ?B/s]"
      ]
     },
     "metadata": {},
     "output_type": "display_data"
    },
    {
     "data": {
      "application/vnd.jupyter.widget-view+json": {
       "model_id": "62f9d73c8064462aaa7cd46a766a5c71",
       "version_major": 2,
       "version_minor": 0
      },
      "text/plain": [
       "nahida/nahida_D_40000.pth:   0%|          | 0.00/561M [00:00<?, ?B/s]"
      ]
     },
     "metadata": {},
     "output_type": "display_data"
    },
    {
     "data": {
      "application/vnd.jupyter.widget-view+json": {
       "model_id": "88658a2e34b24b52ac04aa9d04d939f2",
       "version_major": 2,
       "version_minor": 0
      },
      "text/plain": [
       "nahida/nahida_G_40000.pth:   0%|          | 0.00/542M [00:00<?, ?B/s]"
      ]
     },
     "metadata": {},
     "output_type": "display_data"
    },
    {
     "data": {
      "application/vnd.jupyter.widget-view+json": {
       "model_id": "717b534fdf2143ff9cb1941865901e53",
       "version_major": 2,
       "version_minor": 0
      },
      "text/plain": [
       "nahida/nahida_kmeans_10000.pt:   0%|          | 0.00/15.4M [00:00<?, ?B/s]"
      ]
     },
     "metadata": {},
     "output_type": "display_data"
    },
    {
     "data": {
      "application/vnd.jupyter.widget-view+json": {
       "model_id": "e6ee6bce9ce444739004f7941d239dc5",
       "version_major": 2,
       "version_minor": 0
      },
      "text/plain": [
       "yaoyao/yaoyao.json:   0%|          | 0.00/1.67k [00:00<?, ?B/s]"
      ]
     },
     "metadata": {},
     "output_type": "display_data"
    },
    {
     "data": {
      "application/vnd.jupyter.widget-view+json": {
       "model_id": "f3b977c46a884e8f971c88c9e65411f8",
       "version_major": 2,
       "version_minor": 0
      },
      "text/plain": [
       "yaoyao/yaoyao_D_20000.pth:   0%|          | 0.00/561M [00:00<?, ?B/s]"
      ]
     },
     "metadata": {},
     "output_type": "display_data"
    },
    {
     "data": {
      "application/vnd.jupyter.widget-view+json": {
       "model_id": "497e652ab28b46928371d61c05a4854e",
       "version_major": 2,
       "version_minor": 0
      },
      "text/plain": [
       "yaoyao/yaoyao_G_20000.pth:   0%|          | 0.00/542M [00:00<?, ?B/s]"
      ]
     },
     "metadata": {},
     "output_type": "display_data"
    },
    {
     "data": {
      "application/vnd.jupyter.widget-view+json": {
       "model_id": "0c32cbce02094ee28feedfcffc583f5f",
       "version_major": 2,
       "version_minor": 0
      },
      "text/plain": [
       "yaoyao/yaoyao_kmeans_10000.pt:   0%|          | 0.00/15.5M [00:00<?, ?B/s]"
      ]
     },
     "metadata": {},
     "output_type": "display_data"
    },
    {
     "name": "stdout",
     "output_type": "stream",
     "text": [
      "downloaded:  kaze-mio/so-vits-genshin\n",
      "downloading:  megaaziib/hololivemix-so-vits-svc-4.0\n"
     ]
    },
    {
     "data": {
      "application/vnd.jupyter.widget-view+json": {
       "model_id": "b28e574edf924cc8b58b0fc091bb630d",
       "version_major": 2,
       "version_minor": 0
      },
      "text/plain": [
       "Fetching 17 files:   0%|          | 0/17 [00:00<?, ?it/s]"
      ]
     },
     "metadata": {},
     "output_type": "display_data"
    },
    {
     "data": {
      "application/vnd.jupyter.widget-view+json": {
       "model_id": "7c59c8cf10cd403aa7fff8bd8738bca7",
       "version_major": 2,
       "version_minor": 0
      },
      "text/plain": [
       "Kobo/config.json:   0%|          | 0.00/1.58k [00:00<?, ?B/s]"
      ]
     },
     "metadata": {},
     "output_type": "display_data"
    },
    {
     "data": {
      "application/vnd.jupyter.widget-view+json": {
       "model_id": "29783ff37e264bbc8db2193bb2f9fb70",
       "version_major": 2,
       "version_minor": 0
      },
      "text/plain": [
       "Korone/config.json:   0%|          | 0.00/1.72k [00:00<?, ?B/s]"
      ]
     },
     "metadata": {},
     "output_type": "display_data"
    },
    {
     "data": {
      "application/vnd.jupyter.widget-view+json": {
       "model_id": "beabcf2231994c40b48d2a842097bb6c",
       "version_major": 2,
       "version_minor": 0
      },
      "text/plain": [
       "Kaela/config.json:   0%|          | 0.00/1.58k [00:00<?, ?B/s]"
      ]
     },
     "metadata": {},
     "output_type": "display_data"
    },
    {
     "data": {
      "application/vnd.jupyter.widget-view+json": {
       "model_id": "f428d78edbec46e1ba2a17f6b650ee59",
       "version_major": 2,
       "version_minor": 0
      },
      "text/plain": [
       "Moona/config.json:   0%|          | 0.00/1.60k [00:00<?, ?B/s]"
      ]
     },
     "metadata": {},
     "output_type": "display_data"
    },
    {
     "data": {
      "application/vnd.jupyter.widget-view+json": {
       "model_id": "39b1d4df49a64d9dbb6e65fd894063fc",
       "version_major": 2,
       "version_minor": 0
      },
      "text/plain": [
       "Kaela/G_8000.pth:   0%|          | 0.00/543M [00:00<?, ?B/s]"
      ]
     },
     "metadata": {},
     "output_type": "display_data"
    },
    {
     "data": {
      "application/vnd.jupyter.widget-view+json": {
       "model_id": "91f2603a3cc447ca90bfb390bb4ac8c4",
       "version_major": 2,
       "version_minor": 0
      },
      "text/plain": [
       "Pekora/config.json:   0%|          | 0.00/1.58k [00:00<?, ?B/s]"
      ]
     },
     "metadata": {},
     "output_type": "display_data"
    },
    {
     "data": {
      "application/vnd.jupyter.widget-view+json": {
       "model_id": "e7acc6785cdf439694ead04cdf7a4f9c",
       "version_major": 2,
       "version_minor": 0
      },
      "text/plain": [
       "Anya/G_2850.pth:   0%|          | 0.00/543M [00:00<?, ?B/s]"
      ]
     },
     "metadata": {},
     "output_type": "display_data"
    },
    {
     "data": {
      "application/vnd.jupyter.widget-view+json": {
       "model_id": "4fae1d0c74054ccc90bd522b21f65c63",
       "version_major": 2,
       "version_minor": 0
      },
      "text/plain": [
       "Korone/G_480.pth:   0%|          | 0.00/543M [00:00<?, ?B/s]"
      ]
     },
     "metadata": {},
     "output_type": "display_data"
    },
    {
     "data": {
      "application/vnd.jupyter.widget-view+json": {
       "model_id": "a84146525a5f40a4bfe900ea4ef4c797",
       "version_major": 2,
       "version_minor": 0
      },
      "text/plain": [
       "Kobo/G_17600.pth:   0%|          | 0.00/543M [00:00<?, ?B/s]"
      ]
     },
     "metadata": {},
     "output_type": "display_data"
    },
    {
     "data": {
      "application/vnd.jupyter.widget-view+json": {
       "model_id": "2672375160234479a9d171827540e74b",
       "version_major": 2,
       "version_minor": 0
      },
      "text/plain": [
       "Moona/G_29600.pth:   0%|          | 0.00/543M [00:00<?, ?B/s]"
      ]
     },
     "metadata": {},
     "output_type": "display_data"
    },
    {
     "data": {
      "application/vnd.jupyter.widget-view+json": {
       "model_id": "3f728363fa63426b86d4dc17f0c13c08",
       "version_major": 2,
       "version_minor": 0
      },
      "text/plain": [
       "Reine/G_8800.pth:   0%|          | 0.00/543M [00:00<?, ?B/s]"
      ]
     },
     "metadata": {},
     "output_type": "display_data"
    },
    {
     "data": {
      "application/vnd.jupyter.widget-view+json": {
       "model_id": "db9bfcc8861e468882d44a9fd140d5d4",
       "version_major": 2,
       "version_minor": 0
      },
      "text/plain": [
       "Pekora/G_26400.pth:   0%|          | 0.00/543M [00:00<?, ?B/s]"
      ]
     },
     "metadata": {},
     "output_type": "display_data"
    },
    {
     "data": {
      "application/vnd.jupyter.widget-view+json": {
       "model_id": "03a7630f878e497696f885fb294efbd7",
       "version_major": 2,
       "version_minor": 0
      },
      "text/plain": [
       "Anya/config.json:   0%|          | 0.00/1.71k [00:00<?, ?B/s]"
      ]
     },
     "metadata": {},
     "output_type": "display_data"
    },
    {
     "data": {
      "application/vnd.jupyter.widget-view+json": {
       "model_id": "0b02a70b8a2b4565860e9b94ce6ea41c",
       "version_major": 2,
       "version_minor": 0
      },
      "text/plain": [
       "Reine/config.json:   0%|          | 0.00/1.72k [00:00<?, ?B/s]"
      ]
     },
     "metadata": {},
     "output_type": "display_data"
    },
    {
     "data": {
      "application/vnd.jupyter.widget-view+json": {
       "model_id": "bd049f71a21e463cae70fe1c18dbb5cb",
       "version_major": 2,
       "version_minor": 0
      },
      "text/plain": [
       "Reine/kmeans.pt:   0%|          | 0.00/3.09M [00:00<?, ?B/s]"
      ]
     },
     "metadata": {},
     "output_type": "display_data"
    },
    {
     "data": {
      "application/vnd.jupyter.widget-view+json": {
       "model_id": "ffebe39d9732410387c5c6bba7cfb4a8",
       "version_major": 2,
       "version_minor": 0
      },
      "text/plain": [
       "Zeta/G_28800.pth:   0%|          | 0.00/543M [00:00<?, ?B/s]"
      ]
     },
     "metadata": {},
     "output_type": "display_data"
    },
    {
     "data": {
      "application/vnd.jupyter.widget-view+json": {
       "model_id": "57c23a1b38a54f9b829d6a53c6034278",
       "version_major": 2,
       "version_minor": 0
      },
      "text/plain": [
       "Zeta/config.json:   0%|          | 0.00/1.58k [00:00<?, ?B/s]"
      ]
     },
     "metadata": {},
     "output_type": "display_data"
    },
    {
     "name": "stdout",
     "output_type": "stream",
     "text": [
      "downloaded:  megaaziib/hololivemix-so-vits-svc-4.0\n",
      "Downloading hdemucs_mmi.yaml (33 bytes)\n"
     ]
    },
    {
     "data": {
      "application/vnd.jupyter.widget-view+json": {
       "model_id": "8d4c80300e104cf996dcf2fe2806a4c8",
       "version_major": 2,
       "version_minor": 0
      },
      "text/plain": [
       "hdemucs_mmi.yaml:   0%|          | 0.00/33.0 [00:00<?, ?iB/s]"
      ]
     },
     "metadata": {},
     "output_type": "display_data"
    },
    {
     "name": "stdout",
     "output_type": "stream",
     "text": [
      "hdemucs_mmi.yaml downloaded\n",
      "Downloading 75fc33f5-1941ce65.th (167407275 bytes)\n"
     ]
    },
    {
     "data": {
      "application/vnd.jupyter.widget-view+json": {
       "model_id": "6f6afc7a5d4c4b14983190b4fc197073",
       "version_major": 2,
       "version_minor": 0
      },
      "text/plain": [
       "75fc33f5-1941ce65.th:   0%|          | 0.00/167M [00:00<?, ?iB/s]"
      ]
     },
     "metadata": {},
     "output_type": "display_data"
    },
    {
     "name": "stdout",
     "output_type": "stream",
     "text": [
      "75fc33f5-1941ce65.th downloaded\n"
     ]
    }
   ],
   "source": [
    "model_so_vits_genshin = get_data_from_source(\"so-vits\", \"model\", \"genshin\", update_cache=False)\n",
    "model_so_vits_hololive = get_data_from_source(\"so-vits\", \"model\", \"hololive\", update_cache=False)\n",
    "model_demucs = get_data_from_source(\"demucs\", \"model\", \"hdemucs_mmi\", update_cache=False)"
   ]
  },
  {
   "attachments": {},
   "cell_type": "markdown",
   "metadata": {
    "collapsed": false
   },
   "source": [
    "Convert .ncm file to .wav"
   ]
  },
  {
   "cell_type": "code",
   "execution_count": 4,
   "metadata": {
    "ExecuteTime": {
     "start_time": "2023-06-13T07:00:38.827823Z"
    },
    "collapsed": false
   },
   "outputs": [],
   "source": [
    "converted_path = convert_ncm(SONG_PATH, OUT_PATH)"
   ]
  },
  {
   "attachments": {},
   "cell_type": "markdown",
   "metadata": {},
   "source": [
    "Separate vocal and instrumental with demucs"
   ]
  },
  {
   "cell_type": "code",
   "execution_count": 5,
   "metadata": {
    "ExecuteTime": {
     "start_time": "2023-06-13T07:00:38.828651Z"
    }
   },
   "outputs": [
    {
     "name": "stdout",
     "output_type": "stream",
     "text": [
      "Selected model is a bag of 1 models. You will see that many progress bars per track.\n",
      "Separated tracks will be stored in /Users/ayano/Documents/developing/projects/vocal_generating_pack/src/vocalinferencegui/resources/files/output/minstrel_short/hdemucs_mmi\n",
      "Separating track /Users/ayano/Documents/developing/projects/vocal_generating_pack/src/vocalinferencegui/backend/demo_assets/minstrel_short.mp3\n"
     ]
    },
    {
     "name": "stderr",
     "output_type": "stream",
     "text": [
      "100%|████████████████████████████████████████████████████████████████████████| 93.75/93.75 [00:23<00:00,  4.04seconds/s]"
     ]
    },
    {
     "name": "stdout",
     "output_type": "stream",
     "text": [
      "{'vocal': PosixPath('/Users/ayano/Documents/developing/projects/vocal_generating_pack/src/vocalinferencegui/resources/files/output/minstrel_short/hdemucs_mmi/minstrel_short/vocals.wav'), 'instrumental': PosixPath('/Users/ayano/Documents/developing/projects/vocal_generating_pack/src/vocalinferencegui/resources/files/output/minstrel_short/hdemucs_mmi/minstrel_short/no_vocals.wav')}\n"
     ]
    },
    {
     "name": "stderr",
     "output_type": "stream",
     "text": [
      "\n"
     ]
    }
   ],
   "source": [
    "separated_path = separate_vocal(Path(converted_path), OUT_PATH)\n",
    "print(separated_path)"
   ]
  },
  {
   "attachments": {},
   "cell_type": "markdown",
   "metadata": {},
   "source": [
    "Use so-vits-svc to process audio file"
   ]
  },
  {
   "cell_type": "code",
   "execution_count": 6,
   "metadata": {
    "ExecuteTime": {
     "start_time": "2023-06-13T07:00:38.829795Z"
    }
   },
   "outputs": [
    {
     "name": "stdout",
     "output_type": "stream",
     "text": [
      "model path:  /Users/ayano/Documents/developing/projects/vocal_generating_pack/src/vocalinferencegui/resources/files/models/so-vits/genshin/hutao-jp/hutao_jp_G_40000.pth\n"
     ]
    },
    {
     "data": {
      "application/vnd.jupyter.widget-view+json": {
       "model_id": "9c4d67b3aabb445b879c0710cb91fc33",
       "version_major": 2,
       "version_minor": 0
      },
      "text/plain": [
       "config.json:   0%|          | 0.00/1.39k [00:00<?, ?B/s]"
      ]
     },
     "metadata": {},
     "output_type": "display_data"
    },
    {
     "data": {
      "application/vnd.jupyter.widget-view+json": {
       "model_id": "41b48f5c1c8246bfa51bb8fa450967cc",
       "version_major": 2,
       "version_minor": 0
      },
      "text/plain": [
       "pytorch_model.bin:   0%|          | 0.00/378M [00:00<?, ?B/s]"
      ]
     },
     "metadata": {},
     "output_type": "display_data"
    },
    {
     "name": "stderr",
     "output_type": "stream",
     "text": [
      "Some weights of the model checkpoint at lengyue233/content-vec-best were not used when initializing HubertModelWithFinalProj: ['encoder.pos_conv_embed.conv.weight_g', 'encoder.pos_conv_embed.conv.weight_v']\n",
      "- This IS expected if you are initializing HubertModelWithFinalProj from the checkpoint of a model trained on another task or with another architecture (e.g. initializing a BertForSequenceClassification model from a BertForPreTraining model).\n",
      "- This IS NOT expected if you are initializing HubertModelWithFinalProj from the checkpoint of a model that you expect to be exactly identical (initializing a BertForSequenceClassification model from a BertForSequenceClassification model).\n",
      "Some weights of HubertModelWithFinalProj were not initialized from the model checkpoint at lengyue233/content-vec-best and are newly initialized: ['encoder.pos_conv_embed.conv.parametrizations.weight.original0', 'encoder.pos_conv_embed.conv.parametrizations.weight.original1']\n",
      "You should probably TRAIN this model on a down-stream task to be able to use it for predictions and inference.\n"
     ]
    },
    {
     "data": {
      "text/html": [
       "<pre style=\"white-space:pre;overflow-x:auto;line-height:normal;font-family:Menlo,'DejaVu Sans Mono',consolas,'Courier New',monospace\"><span style=\"color: #7fbfbf; text-decoration-color: #7fbfbf\">[23:21:24] </span><span style=\"color: #000080; text-decoration-color: #000080\">INFO    </span> <span style=\"font-weight: bold\">[</span><span style=\"color: #00ff00; text-decoration-color: #00ff00; font-weight: bold\">23:21:24</span><span style=\"font-weight: bold\">]</span> Decoder type: hifi-gan                                           <a href=\"file:///opt/homebrew/Caskroom/miniconda/base/envs/vocal-generating-pack/lib/python3.11/site-packages/so_vits_svc_fork/modules/synthesizers.py\" target=\"_blank\"><span style=\"color: #7f7f7f; text-decoration-color: #7f7f7f\">synthesizers.py</span></a><span style=\"color: #7f7f7f; text-decoration-color: #7f7f7f\">:</span><a href=\"file:///opt/homebrew/Caskroom/miniconda/base/envs/vocal-generating-pack/lib/python3.11/site-packages/so_vits_svc_fork/modules/synthesizers.py#100\" target=\"_blank\"><span style=\"color: #7f7f7f; text-decoration-color: #7f7f7f\">100</span></a>\n",
       "</pre>\n"
      ],
      "text/plain": [
       "\u001b[2;36m[23:21:24]\u001b[0m\u001b[2;36m \u001b[0m\u001b[34mINFO    \u001b[0m \u001b[1m[\u001b[0m\u001b[1;92m23:21:24\u001b[0m\u001b[1m]\u001b[0m Decoder type: hifi-gan                                           \u001b]8;id=995080;file:///opt/homebrew/Caskroom/miniconda/base/envs/vocal-generating-pack/lib/python3.11/site-packages/so_vits_svc_fork/modules/synthesizers.py\u001b\\\u001b[2msynthesizers.py\u001b[0m\u001b]8;;\u001b\\\u001b[2m:\u001b[0m\u001b]8;id=167764;file:///opt/homebrew/Caskroom/miniconda/base/envs/vocal-generating-pack/lib/python3.11/site-packages/so_vits_svc_fork/modules/synthesizers.py#100\u001b\\\u001b[2m100\u001b[0m\u001b]8;;\u001b\\\n"
      ]
     },
     "metadata": {},
     "output_type": "display_data"
    },
    {
     "data": {
      "text/html": [
       "<pre style=\"white-space:pre;overflow-x:auto;line-height:normal;font-family:Menlo,'DejaVu Sans Mono',consolas,'Courier New',monospace\"><span style=\"color: #7fbfbf; text-decoration-color: #7fbfbf\">[23:21:25] </span><span style=\"color: #000080; text-decoration-color: #000080\">INFO    </span> <span style=\"font-weight: bold\">[</span><span style=\"color: #00ff00; text-decoration-color: #00ff00; font-weight: bold\">23:21:25</span><span style=\"font-weight: bold\">]</span> Loaded checkpoint                                                       <a href=\"file:///opt/homebrew/Caskroom/miniconda/base/envs/vocal-generating-pack/lib/python3.11/site-packages/so_vits_svc_fork/utils.py\" target=\"_blank\"><span style=\"color: #7f7f7f; text-decoration-color: #7f7f7f\">utils.py</span></a><span style=\"color: #7f7f7f; text-decoration-color: #7f7f7f\">:</span><a href=\"file:///opt/homebrew/Caskroom/miniconda/base/envs/vocal-generating-pack/lib/python3.11/site-packages/so_vits_svc_fork/utils.py#307\" target=\"_blank\"><span style=\"color: #7f7f7f; text-decoration-color: #7f7f7f\">307</span></a>\n",
       "<span style=\"color: #7fbfbf; text-decoration-color: #7fbfbf\">           </span>         <span style=\"color: #008000; text-decoration-color: #008000\">'/Users/ayano/Documents/developing/projects/vocal_generating_pack/src/vocalinferen</span> <span style=\"color: #7f7f7f; text-decoration-color: #7f7f7f\">            </span>\n",
       "<span style=\"color: #7fbfbf; text-decoration-color: #7fbfbf\">           </span>         <span style=\"color: #008000; text-decoration-color: #008000\">cegui/resources/files/models/so-vits/genshin/hutao-jp/hutao_jp_G_40000.pth'</span> <span style=\"font-weight: bold\">(</span>epoch <span style=\"color: #7f7f7f; text-decoration-color: #7f7f7f\">            </span>\n",
       "<span style=\"color: #7fbfbf; text-decoration-color: #7fbfbf\">           </span>         <span style=\"color: #008080; text-decoration-color: #008080; font-weight: bold\">953</span><span style=\"font-weight: bold\">)</span>                                                                               <span style=\"color: #7f7f7f; text-decoration-color: #7f7f7f\">            </span>\n",
       "</pre>\n"
      ],
      "text/plain": [
       "\u001b[2;36m[23:21:25]\u001b[0m\u001b[2;36m \u001b[0m\u001b[34mINFO    \u001b[0m \u001b[1m[\u001b[0m\u001b[1;92m23:21:25\u001b[0m\u001b[1m]\u001b[0m Loaded checkpoint                                                       \u001b]8;id=509361;file:///opt/homebrew/Caskroom/miniconda/base/envs/vocal-generating-pack/lib/python3.11/site-packages/so_vits_svc_fork/utils.py\u001b\\\u001b[2mutils.py\u001b[0m\u001b]8;;\u001b\\\u001b[2m:\u001b[0m\u001b]8;id=551927;file:///opt/homebrew/Caskroom/miniconda/base/envs/vocal-generating-pack/lib/python3.11/site-packages/so_vits_svc_fork/utils.py#307\u001b\\\u001b[2m307\u001b[0m\u001b]8;;\u001b\\\n",
       "\u001b[2;36m           \u001b[0m         \u001b[32m'/Users/ayano/Documents/developing/projects/vocal_generating_pack/src/vocalinferen\u001b[0m \u001b[2m            \u001b[0m\n",
       "\u001b[2;36m           \u001b[0m         \u001b[32mcegui/resources/files/models/so-vits/genshin/hutao-jp/hutao_jp_G_40000.pth'\u001b[0m \u001b[1m(\u001b[0mepoch \u001b[2m            \u001b[0m\n",
       "\u001b[2;36m           \u001b[0m         \u001b[1;36m953\u001b[0m\u001b[1m)\u001b[0m                                                                               \u001b[2m            \u001b[0m\n"
      ]
     },
     "metadata": {},
     "output_type": "display_data"
    },
    {
     "data": {
      "text/html": [
       "<pre style=\"white-space:pre;overflow-x:auto;line-height:normal;font-family:Menlo,'DejaVu Sans Mono',consolas,'Courier New',monospace\"><span style=\"color: #7fbfbf; text-decoration-color: #7fbfbf\">[23:21:26] </span><span style=\"color: #000080; text-decoration-color: #000080\">INFO    </span> <span style=\"font-weight: bold\">[</span><span style=\"color: #00ff00; text-decoration-color: #00ff00; font-weight: bold\">23:21:26</span><span style=\"font-weight: bold\">]</span> Chunk: <span style=\"color: #800080; text-decoration-color: #800080; font-weight: bold\">Chunk</span><span style=\"font-weight: bold\">(</span>Speech: <span style=\"color: #ff0000; text-decoration-color: #ff0000; font-style: italic\">False</span>, <span style=\"color: #008080; text-decoration-color: #008080; font-weight: bold\">44100.0</span><span style=\"font-weight: bold\">)</span>                                     <a href=\"file:///opt/homebrew/Caskroom/miniconda/base/envs/vocal-generating-pack/lib/python3.11/site-packages/so_vits_svc_fork/inference/core.py\" target=\"_blank\"><span style=\"color: #7f7f7f; text-decoration-color: #7f7f7f\">core.py</span></a><span style=\"color: #7f7f7f; text-decoration-color: #7f7f7f\">:</span><a href=\"file:///opt/homebrew/Caskroom/miniconda/base/envs/vocal-generating-pack/lib/python3.11/site-packages/so_vits_svc_fork/inference/core.py#287\" target=\"_blank\"><span style=\"color: #7f7f7f; text-decoration-color: #7f7f7f\">287</span></a>\n",
       "</pre>\n"
      ],
      "text/plain": [
       "\u001b[2;36m[23:21:26]\u001b[0m\u001b[2;36m \u001b[0m\u001b[34mINFO    \u001b[0m \u001b[1m[\u001b[0m\u001b[1;92m23:21:26\u001b[0m\u001b[1m]\u001b[0m Chunk: \u001b[1;35mChunk\u001b[0m\u001b[1m(\u001b[0mSpeech: \u001b[3;91mFalse\u001b[0m, \u001b[1;36m44100.0\u001b[0m\u001b[1m)\u001b[0m                                     \u001b]8;id=104158;file:///opt/homebrew/Caskroom/miniconda/base/envs/vocal-generating-pack/lib/python3.11/site-packages/so_vits_svc_fork/inference/core.py\u001b\\\u001b[2mcore.py\u001b[0m\u001b]8;;\u001b\\\u001b[2m:\u001b[0m\u001b]8;id=21318;file:///opt/homebrew/Caskroom/miniconda/base/envs/vocal-generating-pack/lib/python3.11/site-packages/so_vits_svc_fork/inference/core.py#287\u001b\\\u001b[2m287\u001b[0m\u001b]8;;\u001b\\\n"
      ]
     },
     "metadata": {},
     "output_type": "display_data"
    },
    {
     "data": {
      "text/html": [
       "<pre style=\"white-space:pre;overflow-x:auto;line-height:normal;font-family:Menlo,'DejaVu Sans Mono',consolas,'Courier New',monospace\"><span style=\"color: #7fbfbf; text-decoration-color: #7fbfbf\">           </span><span style=\"color: #000080; text-decoration-color: #000080\">INFO    </span> <span style=\"font-weight: bold\">[</span><span style=\"color: #00ff00; text-decoration-color: #00ff00; font-weight: bold\">23:21:26</span><span style=\"font-weight: bold\">]</span> Chunk: <span style=\"color: #800080; text-decoration-color: #800080; font-weight: bold\">Chunk</span><span style=\"font-weight: bold\">(</span>Speech: <span style=\"color: #00ff00; text-decoration-color: #00ff00; font-style: italic\">True</span>, <span style=\"color: #008080; text-decoration-color: #008080; font-weight: bold\">979020.0</span><span style=\"font-weight: bold\">)</span>                                     <a href=\"file:///opt/homebrew/Caskroom/miniconda/base/envs/vocal-generating-pack/lib/python3.11/site-packages/so_vits_svc_fork/inference/core.py\" target=\"_blank\"><span style=\"color: #7f7f7f; text-decoration-color: #7f7f7f\">core.py</span></a><span style=\"color: #7f7f7f; text-decoration-color: #7f7f7f\">:</span><a href=\"file:///opt/homebrew/Caskroom/miniconda/base/envs/vocal-generating-pack/lib/python3.11/site-packages/so_vits_svc_fork/inference/core.py#287\" target=\"_blank\"><span style=\"color: #7f7f7f; text-decoration-color: #7f7f7f\">287</span></a>\n",
       "</pre>\n"
      ],
      "text/plain": [
       "\u001b[2;36m          \u001b[0m\u001b[2;36m \u001b[0m\u001b[34mINFO    \u001b[0m \u001b[1m[\u001b[0m\u001b[1;92m23:21:26\u001b[0m\u001b[1m]\u001b[0m Chunk: \u001b[1;35mChunk\u001b[0m\u001b[1m(\u001b[0mSpeech: \u001b[3;92mTrue\u001b[0m, \u001b[1;36m979020.0\u001b[0m\u001b[1m)\u001b[0m                                     \u001b]8;id=864227;file:///opt/homebrew/Caskroom/miniconda/base/envs/vocal-generating-pack/lib/python3.11/site-packages/so_vits_svc_fork/inference/core.py\u001b\\\u001b[2mcore.py\u001b[0m\u001b]8;;\u001b\\\u001b[2m:\u001b[0m\u001b]8;id=292072;file:///opt/homebrew/Caskroom/miniconda/base/envs/vocal-generating-pack/lib/python3.11/site-packages/so_vits_svc_fork/inference/core.py#287\u001b\\\u001b[2m287\u001b[0m\u001b]8;;\u001b\\\n"
      ]
     },
     "metadata": {},
     "output_type": "display_data"
    },
    {
     "data": {
      "text/html": [
       "<pre style=\"white-space:pre;overflow-x:auto;line-height:normal;font-family:Menlo,'DejaVu Sans Mono',consolas,'Courier New',monospace\"><span style=\"color: #7fbfbf; text-decoration-color: #7fbfbf\">           </span><span style=\"color: #000080; text-decoration-color: #000080\">INFO    </span> <span style=\"font-weight: bold\">[</span><span style=\"color: #00ff00; text-decoration-color: #00ff00; font-weight: bold\">23:21:26</span><span style=\"font-weight: bold\">]</span> F0 inference time:       <span style=\"color: #008080; text-decoration-color: #008080; font-weight: bold\">0.</span>350s, RTF: <span style=\"color: #008080; text-decoration-color: #008080; font-weight: bold\">0.015</span>                                <a href=\"file:///opt/homebrew/Caskroom/miniconda/base/envs/vocal-generating-pack/lib/python3.11/site-packages/so_vits_svc_fork/f0.py\" target=\"_blank\"><span style=\"color: #7f7f7f; text-decoration-color: #7f7f7f\">f0.py</span></a><span style=\"color: #7f7f7f; text-decoration-color: #7f7f7f\">:</span><a href=\"file:///opt/homebrew/Caskroom/miniconda/base/envs/vocal-generating-pack/lib/python3.11/site-packages/so_vits_svc_fork/f0.py#214\" target=\"_blank\"><span style=\"color: #7f7f7f; text-decoration-color: #7f7f7f\">214</span></a>\n",
       "</pre>\n"
      ],
      "text/plain": [
       "\u001b[2;36m          \u001b[0m\u001b[2;36m \u001b[0m\u001b[34mINFO    \u001b[0m \u001b[1m[\u001b[0m\u001b[1;92m23:21:26\u001b[0m\u001b[1m]\u001b[0m F0 inference time:       \u001b[1;36m0.\u001b[0m350s, RTF: \u001b[1;36m0.015\u001b[0m                                \u001b]8;id=824872;file:///opt/homebrew/Caskroom/miniconda/base/envs/vocal-generating-pack/lib/python3.11/site-packages/so_vits_svc_fork/f0.py\u001b\\\u001b[2mf0.py\u001b[0m\u001b]8;;\u001b\\\u001b[2m:\u001b[0m\u001b]8;id=29757;file:///opt/homebrew/Caskroom/miniconda/base/envs/vocal-generating-pack/lib/python3.11/site-packages/so_vits_svc_fork/f0.py#214\u001b\\\u001b[2m214\u001b[0m\u001b]8;;\u001b\\\n"
      ]
     },
     "metadata": {},
     "output_type": "display_data"
    },
    {
     "data": {
      "text/html": [
       "<pre style=\"white-space:pre;overflow-x:auto;line-height:normal;font-family:Menlo,'DejaVu Sans Mono',consolas,'Courier New',monospace\"><span style=\"color: #7fbfbf; text-decoration-color: #7fbfbf\">[23:21:29] </span><span style=\"color: #000080; text-decoration-color: #000080\">INFO    </span> <span style=\"font-weight: bold\">[</span><span style=\"color: #00ff00; text-decoration-color: #00ff00; font-weight: bold\">23:21:29</span><span style=\"font-weight: bold\">]</span> HuBERT inference time  : <span style=\"color: #008080; text-decoration-color: #008080; font-weight: bold\">2.</span>274s, RTF: <span style=\"color: #008080; text-decoration-color: #008080; font-weight: bold\">0.098</span>                             <a href=\"file:///opt/homebrew/Caskroom/miniconda/base/envs/vocal-generating-pack/lib/python3.11/site-packages/so_vits_svc_fork/utils.py\" target=\"_blank\"><span style=\"color: #7f7f7f; text-decoration-color: #7f7f7f\">utils.py</span></a><span style=\"color: #7f7f7f; text-decoration-color: #7f7f7f\">:</span><a href=\"file:///opt/homebrew/Caskroom/miniconda/base/envs/vocal-generating-pack/lib/python3.11/site-packages/so_vits_svc_fork/utils.py#234\" target=\"_blank\"><span style=\"color: #7f7f7f; text-decoration-color: #7f7f7f\">234</span></a>\n",
       "</pre>\n"
      ],
      "text/plain": [
       "\u001b[2;36m[23:21:29]\u001b[0m\u001b[2;36m \u001b[0m\u001b[34mINFO    \u001b[0m \u001b[1m[\u001b[0m\u001b[1;92m23:21:29\u001b[0m\u001b[1m]\u001b[0m HuBERT inference time  : \u001b[1;36m2.\u001b[0m274s, RTF: \u001b[1;36m0.098\u001b[0m                             \u001b]8;id=750674;file:///opt/homebrew/Caskroom/miniconda/base/envs/vocal-generating-pack/lib/python3.11/site-packages/so_vits_svc_fork/utils.py\u001b\\\u001b[2mutils.py\u001b[0m\u001b]8;;\u001b\\\u001b[2m:\u001b[0m\u001b]8;id=450439;file:///opt/homebrew/Caskroom/miniconda/base/envs/vocal-generating-pack/lib/python3.11/site-packages/so_vits_svc_fork/utils.py#234\u001b\\\u001b[2m234\u001b[0m\u001b]8;;\u001b\\\n"
      ]
     },
     "metadata": {},
     "output_type": "display_data"
    },
    {
     "data": {
      "text/html": [
       "<pre style=\"white-space:pre;overflow-x:auto;line-height:normal;font-family:Menlo,'DejaVu Sans Mono',consolas,'Courier New',monospace\"><span style=\"color: #7fbfbf; text-decoration-color: #7fbfbf\">[23:21:37] </span><span style=\"color: #000080; text-decoration-color: #000080\">INFO    </span> <span style=\"font-weight: bold\">[</span><span style=\"color: #00ff00; text-decoration-color: #00ff00; font-weight: bold\">23:21:37</span><span style=\"font-weight: bold\">]</span> Inference time: <span style=\"color: #008080; text-decoration-color: #008080; font-weight: bold\">8.</span>05s, RTF: <span style=\"color: #008080; text-decoration-color: #008080; font-weight: bold\">0.35</span>                                         <a href=\"file:///opt/homebrew/Caskroom/miniconda/base/envs/vocal-generating-pack/lib/python3.11/site-packages/so_vits_svc_fork/inference/core.py\" target=\"_blank\"><span style=\"color: #7f7f7f; text-decoration-color: #7f7f7f\">core.py</span></a><span style=\"color: #7f7f7f; text-decoration-color: #7f7f7f\">:</span><a href=\"file:///opt/homebrew/Caskroom/miniconda/base/envs/vocal-generating-pack/lib/python3.11/site-packages/so_vits_svc_fork/inference/core.py#241\" target=\"_blank\"><span style=\"color: #7f7f7f; text-decoration-color: #7f7f7f\">241</span></a>\n",
       "</pre>\n"
      ],
      "text/plain": [
       "\u001b[2;36m[23:21:37]\u001b[0m\u001b[2;36m \u001b[0m\u001b[34mINFO    \u001b[0m \u001b[1m[\u001b[0m\u001b[1;92m23:21:37\u001b[0m\u001b[1m]\u001b[0m Inference time: \u001b[1;36m8.\u001b[0m05s, RTF: \u001b[1;36m0.35\u001b[0m                                         \u001b]8;id=115496;file:///opt/homebrew/Caskroom/miniconda/base/envs/vocal-generating-pack/lib/python3.11/site-packages/so_vits_svc_fork/inference/core.py\u001b\\\u001b[2mcore.py\u001b[0m\u001b]8;;\u001b\\\u001b[2m:\u001b[0m\u001b]8;id=933633;file:///opt/homebrew/Caskroom/miniconda/base/envs/vocal-generating-pack/lib/python3.11/site-packages/so_vits_svc_fork/inference/core.py#241\u001b\\\u001b[2m241\u001b[0m\u001b]8;;\u001b\\\n"
      ]
     },
     "metadata": {},
     "output_type": "display_data"
    },
    {
     "data": {
      "text/html": [
       "<pre style=\"white-space:pre;overflow-x:auto;line-height:normal;font-family:Menlo,'DejaVu Sans Mono',consolas,'Courier New',monospace\"><span style=\"color: #7fbfbf; text-decoration-color: #7fbfbf\">           </span><span style=\"color: #000080; text-decoration-color: #000080\">INFO    </span> <span style=\"font-weight: bold\">[</span><span style=\"color: #00ff00; text-decoration-color: #00ff00; font-weight: bold\">23:21:37</span><span style=\"font-weight: bold\">]</span> Chunk: <span style=\"color: #800080; text-decoration-color: #800080; font-weight: bold\">Chunk</span><span style=\"font-weight: bold\">(</span>Speech: <span style=\"color: #ff0000; text-decoration-color: #ff0000; font-style: italic\">False</span>, <span style=\"color: #008080; text-decoration-color: #008080; font-weight: bold\">414540.0</span><span style=\"font-weight: bold\">)</span>                                    <a href=\"file:///opt/homebrew/Caskroom/miniconda/base/envs/vocal-generating-pack/lib/python3.11/site-packages/so_vits_svc_fork/inference/core.py\" target=\"_blank\"><span style=\"color: #7f7f7f; text-decoration-color: #7f7f7f\">core.py</span></a><span style=\"color: #7f7f7f; text-decoration-color: #7f7f7f\">:</span><a href=\"file:///opt/homebrew/Caskroom/miniconda/base/envs/vocal-generating-pack/lib/python3.11/site-packages/so_vits_svc_fork/inference/core.py#287\" target=\"_blank\"><span style=\"color: #7f7f7f; text-decoration-color: #7f7f7f\">287</span></a>\n",
       "</pre>\n"
      ],
      "text/plain": [
       "\u001b[2;36m          \u001b[0m\u001b[2;36m \u001b[0m\u001b[34mINFO    \u001b[0m \u001b[1m[\u001b[0m\u001b[1;92m23:21:37\u001b[0m\u001b[1m]\u001b[0m Chunk: \u001b[1;35mChunk\u001b[0m\u001b[1m(\u001b[0mSpeech: \u001b[3;91mFalse\u001b[0m, \u001b[1;36m414540.0\u001b[0m\u001b[1m)\u001b[0m                                    \u001b]8;id=514552;file:///opt/homebrew/Caskroom/miniconda/base/envs/vocal-generating-pack/lib/python3.11/site-packages/so_vits_svc_fork/inference/core.py\u001b\\\u001b[2mcore.py\u001b[0m\u001b]8;;\u001b\\\u001b[2m:\u001b[0m\u001b]8;id=202687;file:///opt/homebrew/Caskroom/miniconda/base/envs/vocal-generating-pack/lib/python3.11/site-packages/so_vits_svc_fork/inference/core.py#287\u001b\\\u001b[2m287\u001b[0m\u001b]8;;\u001b\\\n"
      ]
     },
     "metadata": {},
     "output_type": "display_data"
    },
    {
     "data": {
      "text/html": [
       "<pre style=\"white-space:pre;overflow-x:auto;line-height:normal;font-family:Menlo,'DejaVu Sans Mono',consolas,'Courier New',monospace\"><span style=\"color: #7fbfbf; text-decoration-color: #7fbfbf\">           </span><span style=\"color: #000080; text-decoration-color: #000080\">INFO    </span> <span style=\"font-weight: bold\">[</span><span style=\"color: #00ff00; text-decoration-color: #00ff00; font-weight: bold\">23:21:37</span><span style=\"font-weight: bold\">]</span> Chunk: <span style=\"color: #800080; text-decoration-color: #800080; font-weight: bold\">Chunk</span><span style=\"font-weight: bold\">(</span>Speech: <span style=\"color: #00ff00; text-decoration-color: #00ff00; font-style: italic\">True</span>, <span style=\"color: #008080; text-decoration-color: #008080; font-weight: bold\">26460.0</span><span style=\"font-weight: bold\">)</span>                                      <a href=\"file:///opt/homebrew/Caskroom/miniconda/base/envs/vocal-generating-pack/lib/python3.11/site-packages/so_vits_svc_fork/inference/core.py\" target=\"_blank\"><span style=\"color: #7f7f7f; text-decoration-color: #7f7f7f\">core.py</span></a><span style=\"color: #7f7f7f; text-decoration-color: #7f7f7f\">:</span><a href=\"file:///opt/homebrew/Caskroom/miniconda/base/envs/vocal-generating-pack/lib/python3.11/site-packages/so_vits_svc_fork/inference/core.py#287\" target=\"_blank\"><span style=\"color: #7f7f7f; text-decoration-color: #7f7f7f\">287</span></a>\n",
       "</pre>\n"
      ],
      "text/plain": [
       "\u001b[2;36m          \u001b[0m\u001b[2;36m \u001b[0m\u001b[34mINFO    \u001b[0m \u001b[1m[\u001b[0m\u001b[1;92m23:21:37\u001b[0m\u001b[1m]\u001b[0m Chunk: \u001b[1;35mChunk\u001b[0m\u001b[1m(\u001b[0mSpeech: \u001b[3;92mTrue\u001b[0m, \u001b[1;36m26460.0\u001b[0m\u001b[1m)\u001b[0m                                      \u001b]8;id=914755;file:///opt/homebrew/Caskroom/miniconda/base/envs/vocal-generating-pack/lib/python3.11/site-packages/so_vits_svc_fork/inference/core.py\u001b\\\u001b[2mcore.py\u001b[0m\u001b]8;;\u001b\\\u001b[2m:\u001b[0m\u001b]8;id=846785;file:///opt/homebrew/Caskroom/miniconda/base/envs/vocal-generating-pack/lib/python3.11/site-packages/so_vits_svc_fork/inference/core.py#287\u001b\\\u001b[2m287\u001b[0m\u001b]8;;\u001b\\\n"
      ]
     },
     "metadata": {},
     "output_type": "display_data"
    },
    {
     "data": {
      "text/html": [
       "<pre style=\"white-space:pre;overflow-x:auto;line-height:normal;font-family:Menlo,'DejaVu Sans Mono',consolas,'Courier New',monospace\"><span style=\"color: #7fbfbf; text-decoration-color: #7fbfbf\">           </span><span style=\"color: #000080; text-decoration-color: #000080\">INFO    </span> <span style=\"font-weight: bold\">[</span><span style=\"color: #00ff00; text-decoration-color: #00ff00; font-weight: bold\">23:21:37</span><span style=\"font-weight: bold\">]</span> F0 inference time:       <span style=\"color: #008080; text-decoration-color: #008080; font-weight: bold\">0.</span>032s, RTF: <span style=\"color: #008080; text-decoration-color: #008080; font-weight: bold\">0.020</span>                                <a href=\"file:///opt/homebrew/Caskroom/miniconda/base/envs/vocal-generating-pack/lib/python3.11/site-packages/so_vits_svc_fork/f0.py\" target=\"_blank\"><span style=\"color: #7f7f7f; text-decoration-color: #7f7f7f\">f0.py</span></a><span style=\"color: #7f7f7f; text-decoration-color: #7f7f7f\">:</span><a href=\"file:///opt/homebrew/Caskroom/miniconda/base/envs/vocal-generating-pack/lib/python3.11/site-packages/so_vits_svc_fork/f0.py#214\" target=\"_blank\"><span style=\"color: #7f7f7f; text-decoration-color: #7f7f7f\">214</span></a>\n",
       "</pre>\n"
      ],
      "text/plain": [
       "\u001b[2;36m          \u001b[0m\u001b[2;36m \u001b[0m\u001b[34mINFO    \u001b[0m \u001b[1m[\u001b[0m\u001b[1;92m23:21:37\u001b[0m\u001b[1m]\u001b[0m F0 inference time:       \u001b[1;36m0.\u001b[0m032s, RTF: \u001b[1;36m0.020\u001b[0m                                \u001b]8;id=703992;file:///opt/homebrew/Caskroom/miniconda/base/envs/vocal-generating-pack/lib/python3.11/site-packages/so_vits_svc_fork/f0.py\u001b\\\u001b[2mf0.py\u001b[0m\u001b]8;;\u001b\\\u001b[2m:\u001b[0m\u001b]8;id=633151;file:///opt/homebrew/Caskroom/miniconda/base/envs/vocal-generating-pack/lib/python3.11/site-packages/so_vits_svc_fork/f0.py#214\u001b\\\u001b[2m214\u001b[0m\u001b]8;;\u001b\\\n"
      ]
     },
     "metadata": {},
     "output_type": "display_data"
    },
    {
     "data": {
      "text/html": [
       "<pre style=\"white-space:pre;overflow-x:auto;line-height:normal;font-family:Menlo,'DejaVu Sans Mono',consolas,'Courier New',monospace\"><span style=\"color: #7fbfbf; text-decoration-color: #7fbfbf\">           </span><span style=\"color: #000080; text-decoration-color: #000080\">INFO    </span> <span style=\"font-weight: bold\">[</span><span style=\"color: #00ff00; text-decoration-color: #00ff00; font-weight: bold\">23:21:37</span><span style=\"font-weight: bold\">]</span> HuBERT inference time  : <span style=\"color: #008080; text-decoration-color: #008080; font-weight: bold\">0.</span>565s, RTF: <span style=\"color: #008080; text-decoration-color: #008080; font-weight: bold\">0.353</span>                             <a href=\"file:///opt/homebrew/Caskroom/miniconda/base/envs/vocal-generating-pack/lib/python3.11/site-packages/so_vits_svc_fork/utils.py\" target=\"_blank\"><span style=\"color: #7f7f7f; text-decoration-color: #7f7f7f\">utils.py</span></a><span style=\"color: #7f7f7f; text-decoration-color: #7f7f7f\">:</span><a href=\"file:///opt/homebrew/Caskroom/miniconda/base/envs/vocal-generating-pack/lib/python3.11/site-packages/so_vits_svc_fork/utils.py#234\" target=\"_blank\"><span style=\"color: #7f7f7f; text-decoration-color: #7f7f7f\">234</span></a>\n",
       "</pre>\n"
      ],
      "text/plain": [
       "\u001b[2;36m          \u001b[0m\u001b[2;36m \u001b[0m\u001b[34mINFO    \u001b[0m \u001b[1m[\u001b[0m\u001b[1;92m23:21:37\u001b[0m\u001b[1m]\u001b[0m HuBERT inference time  : \u001b[1;36m0.\u001b[0m565s, RTF: \u001b[1;36m0.353\u001b[0m                             \u001b]8;id=364759;file:///opt/homebrew/Caskroom/miniconda/base/envs/vocal-generating-pack/lib/python3.11/site-packages/so_vits_svc_fork/utils.py\u001b\\\u001b[2mutils.py\u001b[0m\u001b]8;;\u001b\\\u001b[2m:\u001b[0m\u001b]8;id=267721;file:///opt/homebrew/Caskroom/miniconda/base/envs/vocal-generating-pack/lib/python3.11/site-packages/so_vits_svc_fork/utils.py#234\u001b\\\u001b[2m234\u001b[0m\u001b]8;;\u001b\\\n"
      ]
     },
     "metadata": {},
     "output_type": "display_data"
    },
    {
     "data": {
      "text/html": [
       "<pre style=\"white-space:pre;overflow-x:auto;line-height:normal;font-family:Menlo,'DejaVu Sans Mono',consolas,'Courier New',monospace\"><span style=\"color: #7fbfbf; text-decoration-color: #7fbfbf\">[23:21:40] </span><span style=\"color: #000080; text-decoration-color: #000080\">INFO    </span> <span style=\"font-weight: bold\">[</span><span style=\"color: #00ff00; text-decoration-color: #00ff00; font-weight: bold\">23:21:40</span><span style=\"font-weight: bold\">]</span> Inference time: <span style=\"color: #008080; text-decoration-color: #008080; font-weight: bold\">2.</span>74s, RTF: <span style=\"color: #008080; text-decoration-color: #008080; font-weight: bold\">1.72</span>                                         <a href=\"file:///opt/homebrew/Caskroom/miniconda/base/envs/vocal-generating-pack/lib/python3.11/site-packages/so_vits_svc_fork/inference/core.py\" target=\"_blank\"><span style=\"color: #7f7f7f; text-decoration-color: #7f7f7f\">core.py</span></a><span style=\"color: #7f7f7f; text-decoration-color: #7f7f7f\">:</span><a href=\"file:///opt/homebrew/Caskroom/miniconda/base/envs/vocal-generating-pack/lib/python3.11/site-packages/so_vits_svc_fork/inference/core.py#241\" target=\"_blank\"><span style=\"color: #7f7f7f; text-decoration-color: #7f7f7f\">241</span></a>\n",
       "</pre>\n"
      ],
      "text/plain": [
       "\u001b[2;36m[23:21:40]\u001b[0m\u001b[2;36m \u001b[0m\u001b[34mINFO    \u001b[0m \u001b[1m[\u001b[0m\u001b[1;92m23:21:40\u001b[0m\u001b[1m]\u001b[0m Inference time: \u001b[1;36m2.\u001b[0m74s, RTF: \u001b[1;36m1.72\u001b[0m                                         \u001b]8;id=746107;file:///opt/homebrew/Caskroom/miniconda/base/envs/vocal-generating-pack/lib/python3.11/site-packages/so_vits_svc_fork/inference/core.py\u001b\\\u001b[2mcore.py\u001b[0m\u001b]8;;\u001b\\\u001b[2m:\u001b[0m\u001b]8;id=31014;file:///opt/homebrew/Caskroom/miniconda/base/envs/vocal-generating-pack/lib/python3.11/site-packages/so_vits_svc_fork/inference/core.py#241\u001b\\\u001b[2m241\u001b[0m\u001b]8;;\u001b\\\n"
      ]
     },
     "metadata": {},
     "output_type": "display_data"
    },
    {
     "data": {
      "text/html": [
       "<pre style=\"white-space:pre;overflow-x:auto;line-height:normal;font-family:Menlo,'DejaVu Sans Mono',consolas,'Courier New',monospace\"><span style=\"color: #7fbfbf; text-decoration-color: #7fbfbf\">           </span><span style=\"color: #000080; text-decoration-color: #000080\">INFO    </span> <span style=\"font-weight: bold\">[</span><span style=\"color: #00ff00; text-decoration-color: #00ff00; font-weight: bold\">23:21:40</span><span style=\"font-weight: bold\">]</span> Chunk: <span style=\"color: #800080; text-decoration-color: #800080; font-weight: bold\">Chunk</span><span style=\"font-weight: bold\">(</span>Speech: <span style=\"color: #ff0000; text-decoration-color: #ff0000; font-style: italic\">False</span>, <span style=\"color: #008080; text-decoration-color: #008080; font-weight: bold\">282240.0</span><span style=\"font-weight: bold\">)</span>                                    <a href=\"file:///opt/homebrew/Caskroom/miniconda/base/envs/vocal-generating-pack/lib/python3.11/site-packages/so_vits_svc_fork/inference/core.py\" target=\"_blank\"><span style=\"color: #7f7f7f; text-decoration-color: #7f7f7f\">core.py</span></a><span style=\"color: #7f7f7f; text-decoration-color: #7f7f7f\">:</span><a href=\"file:///opt/homebrew/Caskroom/miniconda/base/envs/vocal-generating-pack/lib/python3.11/site-packages/so_vits_svc_fork/inference/core.py#287\" target=\"_blank\"><span style=\"color: #7f7f7f; text-decoration-color: #7f7f7f\">287</span></a>\n",
       "</pre>\n"
      ],
      "text/plain": [
       "\u001b[2;36m          \u001b[0m\u001b[2;36m \u001b[0m\u001b[34mINFO    \u001b[0m \u001b[1m[\u001b[0m\u001b[1;92m23:21:40\u001b[0m\u001b[1m]\u001b[0m Chunk: \u001b[1;35mChunk\u001b[0m\u001b[1m(\u001b[0mSpeech: \u001b[3;91mFalse\u001b[0m, \u001b[1;36m282240.0\u001b[0m\u001b[1m)\u001b[0m                                    \u001b]8;id=537001;file:///opt/homebrew/Caskroom/miniconda/base/envs/vocal-generating-pack/lib/python3.11/site-packages/so_vits_svc_fork/inference/core.py\u001b\\\u001b[2mcore.py\u001b[0m\u001b]8;;\u001b\\\u001b[2m:\u001b[0m\u001b]8;id=55613;file:///opt/homebrew/Caskroom/miniconda/base/envs/vocal-generating-pack/lib/python3.11/site-packages/so_vits_svc_fork/inference/core.py#287\u001b\\\u001b[2m287\u001b[0m\u001b]8;;\u001b\\\n"
      ]
     },
     "metadata": {},
     "output_type": "display_data"
    },
    {
     "data": {
      "text/html": [
       "<pre style=\"white-space:pre;overflow-x:auto;line-height:normal;font-family:Menlo,'DejaVu Sans Mono',consolas,'Courier New',monospace\"><span style=\"color: #7fbfbf; text-decoration-color: #7fbfbf\">           </span><span style=\"color: #000080; text-decoration-color: #000080\">INFO    </span> <span style=\"font-weight: bold\">[</span><span style=\"color: #00ff00; text-decoration-color: #00ff00; font-weight: bold\">23:21:40</span><span style=\"font-weight: bold\">]</span> Chunk: <span style=\"color: #800080; text-decoration-color: #800080; font-weight: bold\">Chunk</span><span style=\"font-weight: bold\">(</span>Speech: <span style=\"color: #00ff00; text-decoration-color: #00ff00; font-style: italic\">True</span>, <span style=\"color: #008080; text-decoration-color: #008080; font-weight: bold\">1764000.0</span><span style=\"font-weight: bold\">)</span>                                    <a href=\"file:///opt/homebrew/Caskroom/miniconda/base/envs/vocal-generating-pack/lib/python3.11/site-packages/so_vits_svc_fork/inference/core.py\" target=\"_blank\"><span style=\"color: #7f7f7f; text-decoration-color: #7f7f7f\">core.py</span></a><span style=\"color: #7f7f7f; text-decoration-color: #7f7f7f\">:</span><a href=\"file:///opt/homebrew/Caskroom/miniconda/base/envs/vocal-generating-pack/lib/python3.11/site-packages/so_vits_svc_fork/inference/core.py#287\" target=\"_blank\"><span style=\"color: #7f7f7f; text-decoration-color: #7f7f7f\">287</span></a>\n",
       "</pre>\n"
      ],
      "text/plain": [
       "\u001b[2;36m          \u001b[0m\u001b[2;36m \u001b[0m\u001b[34mINFO    \u001b[0m \u001b[1m[\u001b[0m\u001b[1;92m23:21:40\u001b[0m\u001b[1m]\u001b[0m Chunk: \u001b[1;35mChunk\u001b[0m\u001b[1m(\u001b[0mSpeech: \u001b[3;92mTrue\u001b[0m, \u001b[1;36m1764000.0\u001b[0m\u001b[1m)\u001b[0m                                    \u001b]8;id=673867;file:///opt/homebrew/Caskroom/miniconda/base/envs/vocal-generating-pack/lib/python3.11/site-packages/so_vits_svc_fork/inference/core.py\u001b\\\u001b[2mcore.py\u001b[0m\u001b]8;;\u001b\\\u001b[2m:\u001b[0m\u001b]8;id=163482;file:///opt/homebrew/Caskroom/miniconda/base/envs/vocal-generating-pack/lib/python3.11/site-packages/so_vits_svc_fork/inference/core.py#287\u001b\\\u001b[2m287\u001b[0m\u001b]8;;\u001b\\\n"
      ]
     },
     "metadata": {},
     "output_type": "display_data"
    },
    {
     "data": {
      "text/html": [
       "<pre style=\"white-space:pre;overflow-x:auto;line-height:normal;font-family:Menlo,'DejaVu Sans Mono',consolas,'Courier New',monospace\"><span style=\"color: #7fbfbf; text-decoration-color: #7fbfbf\">[23:21:41] </span><span style=\"color: #000080; text-decoration-color: #000080\">INFO    </span> <span style=\"font-weight: bold\">[</span><span style=\"color: #00ff00; text-decoration-color: #00ff00; font-weight: bold\">23:21:41</span><span style=\"font-weight: bold\">]</span> F0 inference time:       <span style=\"color: #008080; text-decoration-color: #008080; font-weight: bold\">0.</span>539s, RTF: <span style=\"color: #008080; text-decoration-color: #008080; font-weight: bold\">0.013</span>                                <a href=\"file:///opt/homebrew/Caskroom/miniconda/base/envs/vocal-generating-pack/lib/python3.11/site-packages/so_vits_svc_fork/f0.py\" target=\"_blank\"><span style=\"color: #7f7f7f; text-decoration-color: #7f7f7f\">f0.py</span></a><span style=\"color: #7f7f7f; text-decoration-color: #7f7f7f\">:</span><a href=\"file:///opt/homebrew/Caskroom/miniconda/base/envs/vocal-generating-pack/lib/python3.11/site-packages/so_vits_svc_fork/f0.py#214\" target=\"_blank\"><span style=\"color: #7f7f7f; text-decoration-color: #7f7f7f\">214</span></a>\n",
       "</pre>\n"
      ],
      "text/plain": [
       "\u001b[2;36m[23:21:41]\u001b[0m\u001b[2;36m \u001b[0m\u001b[34mINFO    \u001b[0m \u001b[1m[\u001b[0m\u001b[1;92m23:21:41\u001b[0m\u001b[1m]\u001b[0m F0 inference time:       \u001b[1;36m0.\u001b[0m539s, RTF: \u001b[1;36m0.013\u001b[0m                                \u001b]8;id=228364;file:///opt/homebrew/Caskroom/miniconda/base/envs/vocal-generating-pack/lib/python3.11/site-packages/so_vits_svc_fork/f0.py\u001b\\\u001b[2mf0.py\u001b[0m\u001b]8;;\u001b\\\u001b[2m:\u001b[0m\u001b]8;id=440512;file:///opt/homebrew/Caskroom/miniconda/base/envs/vocal-generating-pack/lib/python3.11/site-packages/so_vits_svc_fork/f0.py#214\u001b\\\u001b[2m214\u001b[0m\u001b]8;;\u001b\\\n"
      ]
     },
     "metadata": {},
     "output_type": "display_data"
    },
    {
     "data": {
      "text/html": [
       "<pre style=\"white-space:pre;overflow-x:auto;line-height:normal;font-family:Menlo,'DejaVu Sans Mono',consolas,'Courier New',monospace\"><span style=\"color: #7fbfbf; text-decoration-color: #7fbfbf\">           </span><span style=\"color: #000080; text-decoration-color: #000080\">INFO    </span> <span style=\"font-weight: bold\">[</span><span style=\"color: #00ff00; text-decoration-color: #00ff00; font-weight: bold\">23:21:41</span><span style=\"font-weight: bold\">]</span> HuBERT inference time  : <span style=\"color: #008080; text-decoration-color: #008080; font-weight: bold\">0.</span>396s, RTF: <span style=\"color: #008080; text-decoration-color: #008080; font-weight: bold\">0.010</span>                             <a href=\"file:///opt/homebrew/Caskroom/miniconda/base/envs/vocal-generating-pack/lib/python3.11/site-packages/so_vits_svc_fork/utils.py\" target=\"_blank\"><span style=\"color: #7f7f7f; text-decoration-color: #7f7f7f\">utils.py</span></a><span style=\"color: #7f7f7f; text-decoration-color: #7f7f7f\">:</span><a href=\"file:///opt/homebrew/Caskroom/miniconda/base/envs/vocal-generating-pack/lib/python3.11/site-packages/so_vits_svc_fork/utils.py#234\" target=\"_blank\"><span style=\"color: #7f7f7f; text-decoration-color: #7f7f7f\">234</span></a>\n",
       "</pre>\n"
      ],
      "text/plain": [
       "\u001b[2;36m          \u001b[0m\u001b[2;36m \u001b[0m\u001b[34mINFO    \u001b[0m \u001b[1m[\u001b[0m\u001b[1;92m23:21:41\u001b[0m\u001b[1m]\u001b[0m HuBERT inference time  : \u001b[1;36m0.\u001b[0m396s, RTF: \u001b[1;36m0.010\u001b[0m                             \u001b]8;id=584054;file:///opt/homebrew/Caskroom/miniconda/base/envs/vocal-generating-pack/lib/python3.11/site-packages/so_vits_svc_fork/utils.py\u001b\\\u001b[2mutils.py\u001b[0m\u001b]8;;\u001b\\\u001b[2m:\u001b[0m\u001b]8;id=780066;file:///opt/homebrew/Caskroom/miniconda/base/envs/vocal-generating-pack/lib/python3.11/site-packages/so_vits_svc_fork/utils.py#234\u001b\\\u001b[2m234\u001b[0m\u001b]8;;\u001b\\\n"
      ]
     },
     "metadata": {},
     "output_type": "display_data"
    },
    {
     "data": {
      "text/html": [
       "<pre style=\"white-space:pre;overflow-x:auto;line-height:normal;font-family:Menlo,'DejaVu Sans Mono',consolas,'Courier New',monospace\"><span style=\"color: #7fbfbf; text-decoration-color: #7fbfbf\">[23:21:42] </span><span style=\"color: #000080; text-decoration-color: #000080\">INFO    </span> <span style=\"font-weight: bold\">[</span><span style=\"color: #00ff00; text-decoration-color: #00ff00; font-weight: bold\">23:21:42</span><span style=\"font-weight: bold\">]</span> Inference time: <span style=\"color: #008080; text-decoration-color: #008080; font-weight: bold\">1.</span>16s, RTF: <span style=\"color: #008080; text-decoration-color: #008080; font-weight: bold\">0.03</span>                                         <a href=\"file:///opt/homebrew/Caskroom/miniconda/base/envs/vocal-generating-pack/lib/python3.11/site-packages/so_vits_svc_fork/inference/core.py\" target=\"_blank\"><span style=\"color: #7f7f7f; text-decoration-color: #7f7f7f\">core.py</span></a><span style=\"color: #7f7f7f; text-decoration-color: #7f7f7f\">:</span><a href=\"file:///opt/homebrew/Caskroom/miniconda/base/envs/vocal-generating-pack/lib/python3.11/site-packages/so_vits_svc_fork/inference/core.py#241\" target=\"_blank\"><span style=\"color: #7f7f7f; text-decoration-color: #7f7f7f\">241</span></a>\n",
       "</pre>\n"
      ],
      "text/plain": [
       "\u001b[2;36m[23:21:42]\u001b[0m\u001b[2;36m \u001b[0m\u001b[34mINFO    \u001b[0m \u001b[1m[\u001b[0m\u001b[1;92m23:21:42\u001b[0m\u001b[1m]\u001b[0m Inference time: \u001b[1;36m1.\u001b[0m16s, RTF: \u001b[1;36m0.03\u001b[0m                                         \u001b]8;id=113463;file:///opt/homebrew/Caskroom/miniconda/base/envs/vocal-generating-pack/lib/python3.11/site-packages/so_vits_svc_fork/inference/core.py\u001b\\\u001b[2mcore.py\u001b[0m\u001b]8;;\u001b\\\u001b[2m:\u001b[0m\u001b]8;id=995930;file:///opt/homebrew/Caskroom/miniconda/base/envs/vocal-generating-pack/lib/python3.11/site-packages/so_vits_svc_fork/inference/core.py#241\u001b\\\u001b[2m241\u001b[0m\u001b]8;;\u001b\\\n"
      ]
     },
     "metadata": {},
     "output_type": "display_data"
    },
    {
     "data": {
      "text/html": [
       "<pre style=\"white-space:pre;overflow-x:auto;line-height:normal;font-family:Menlo,'DejaVu Sans Mono',consolas,'Courier New',monospace\"><span style=\"color: #7fbfbf; text-decoration-color: #7fbfbf\">[23:21:43] </span><span style=\"color: #000080; text-decoration-color: #000080\">INFO    </span> <span style=\"font-weight: bold\">[</span><span style=\"color: #00ff00; text-decoration-color: #00ff00; font-weight: bold\">23:21:43</span><span style=\"font-weight: bold\">]</span> Chunk: <span style=\"color: #800080; text-decoration-color: #800080; font-weight: bold\">Chunk</span><span style=\"font-weight: bold\">(</span>Speech: <span style=\"color: #00ff00; text-decoration-color: #00ff00; font-style: italic\">True</span>, <span style=\"color: #008080; text-decoration-color: #008080; font-weight: bold\">582120.0</span><span style=\"font-weight: bold\">)</span>                                     <a href=\"file:///opt/homebrew/Caskroom/miniconda/base/envs/vocal-generating-pack/lib/python3.11/site-packages/so_vits_svc_fork/inference/core.py\" target=\"_blank\"><span style=\"color: #7f7f7f; text-decoration-color: #7f7f7f\">core.py</span></a><span style=\"color: #7f7f7f; text-decoration-color: #7f7f7f\">:</span><a href=\"file:///opt/homebrew/Caskroom/miniconda/base/envs/vocal-generating-pack/lib/python3.11/site-packages/so_vits_svc_fork/inference/core.py#287\" target=\"_blank\"><span style=\"color: #7f7f7f; text-decoration-color: #7f7f7f\">287</span></a>\n",
       "</pre>\n"
      ],
      "text/plain": [
       "\u001b[2;36m[23:21:43]\u001b[0m\u001b[2;36m \u001b[0m\u001b[34mINFO    \u001b[0m \u001b[1m[\u001b[0m\u001b[1;92m23:21:43\u001b[0m\u001b[1m]\u001b[0m Chunk: \u001b[1;35mChunk\u001b[0m\u001b[1m(\u001b[0mSpeech: \u001b[3;92mTrue\u001b[0m, \u001b[1;36m582120.0\u001b[0m\u001b[1m)\u001b[0m                                     \u001b]8;id=642770;file:///opt/homebrew/Caskroom/miniconda/base/envs/vocal-generating-pack/lib/python3.11/site-packages/so_vits_svc_fork/inference/core.py\u001b\\\u001b[2mcore.py\u001b[0m\u001b]8;;\u001b\\\u001b[2m:\u001b[0m\u001b]8;id=588744;file:///opt/homebrew/Caskroom/miniconda/base/envs/vocal-generating-pack/lib/python3.11/site-packages/so_vits_svc_fork/inference/core.py#287\u001b\\\u001b[2m287\u001b[0m\u001b]8;;\u001b\\\n"
      ]
     },
     "metadata": {},
     "output_type": "display_data"
    },
    {
     "data": {
      "text/html": [
       "<pre style=\"white-space:pre;overflow-x:auto;line-height:normal;font-family:Menlo,'DejaVu Sans Mono',consolas,'Courier New',monospace\"><span style=\"color: #7fbfbf; text-decoration-color: #7fbfbf\">           </span><span style=\"color: #000080; text-decoration-color: #000080\">INFO    </span> <span style=\"font-weight: bold\">[</span><span style=\"color: #00ff00; text-decoration-color: #00ff00; font-weight: bold\">23:21:43</span><span style=\"font-weight: bold\">]</span> F0 inference time:       <span style=\"color: #008080; text-decoration-color: #008080; font-weight: bold\">0.</span>231s, RTF: <span style=\"color: #008080; text-decoration-color: #008080; font-weight: bold\">0.016</span>                                <a href=\"file:///opt/homebrew/Caskroom/miniconda/base/envs/vocal-generating-pack/lib/python3.11/site-packages/so_vits_svc_fork/f0.py\" target=\"_blank\"><span style=\"color: #7f7f7f; text-decoration-color: #7f7f7f\">f0.py</span></a><span style=\"color: #7f7f7f; text-decoration-color: #7f7f7f\">:</span><a href=\"file:///opt/homebrew/Caskroom/miniconda/base/envs/vocal-generating-pack/lib/python3.11/site-packages/so_vits_svc_fork/f0.py#214\" target=\"_blank\"><span style=\"color: #7f7f7f; text-decoration-color: #7f7f7f\">214</span></a>\n",
       "</pre>\n"
      ],
      "text/plain": [
       "\u001b[2;36m          \u001b[0m\u001b[2;36m \u001b[0m\u001b[34mINFO    \u001b[0m \u001b[1m[\u001b[0m\u001b[1;92m23:21:43\u001b[0m\u001b[1m]\u001b[0m F0 inference time:       \u001b[1;36m0.\u001b[0m231s, RTF: \u001b[1;36m0.016\u001b[0m                                \u001b]8;id=681528;file:///opt/homebrew/Caskroom/miniconda/base/envs/vocal-generating-pack/lib/python3.11/site-packages/so_vits_svc_fork/f0.py\u001b\\\u001b[2mf0.py\u001b[0m\u001b]8;;\u001b\\\u001b[2m:\u001b[0m\u001b]8;id=344852;file:///opt/homebrew/Caskroom/miniconda/base/envs/vocal-generating-pack/lib/python3.11/site-packages/so_vits_svc_fork/f0.py#214\u001b\\\u001b[2m214\u001b[0m\u001b]8;;\u001b\\\n"
      ]
     },
     "metadata": {},
     "output_type": "display_data"
    },
    {
     "data": {
      "text/html": [
       "<pre style=\"white-space:pre;overflow-x:auto;line-height:normal;font-family:Menlo,'DejaVu Sans Mono',consolas,'Courier New',monospace\"><span style=\"color: #7fbfbf; text-decoration-color: #7fbfbf\">           </span><span style=\"color: #000080; text-decoration-color: #000080\">INFO    </span> <span style=\"font-weight: bold\">[</span><span style=\"color: #00ff00; text-decoration-color: #00ff00; font-weight: bold\">23:21:43</span><span style=\"font-weight: bold\">]</span> HuBERT inference time  : <span style=\"color: #008080; text-decoration-color: #008080; font-weight: bold\">0.</span>434s, RTF: <span style=\"color: #008080; text-decoration-color: #008080; font-weight: bold\">0.031</span>                             <a href=\"file:///opt/homebrew/Caskroom/miniconda/base/envs/vocal-generating-pack/lib/python3.11/site-packages/so_vits_svc_fork/utils.py\" target=\"_blank\"><span style=\"color: #7f7f7f; text-decoration-color: #7f7f7f\">utils.py</span></a><span style=\"color: #7f7f7f; text-decoration-color: #7f7f7f\">:</span><a href=\"file:///opt/homebrew/Caskroom/miniconda/base/envs/vocal-generating-pack/lib/python3.11/site-packages/so_vits_svc_fork/utils.py#234\" target=\"_blank\"><span style=\"color: #7f7f7f; text-decoration-color: #7f7f7f\">234</span></a>\n",
       "</pre>\n"
      ],
      "text/plain": [
       "\u001b[2;36m          \u001b[0m\u001b[2;36m \u001b[0m\u001b[34mINFO    \u001b[0m \u001b[1m[\u001b[0m\u001b[1;92m23:21:43\u001b[0m\u001b[1m]\u001b[0m HuBERT inference time  : \u001b[1;36m0.\u001b[0m434s, RTF: \u001b[1;36m0.031\u001b[0m                             \u001b]8;id=83356;file:///opt/homebrew/Caskroom/miniconda/base/envs/vocal-generating-pack/lib/python3.11/site-packages/so_vits_svc_fork/utils.py\u001b\\\u001b[2mutils.py\u001b[0m\u001b]8;;\u001b\\\u001b[2m:\u001b[0m\u001b]8;id=611968;file:///opt/homebrew/Caskroom/miniconda/base/envs/vocal-generating-pack/lib/python3.11/site-packages/so_vits_svc_fork/utils.py#234\u001b\\\u001b[2m234\u001b[0m\u001b]8;;\u001b\\\n"
      ]
     },
     "metadata": {},
     "output_type": "display_data"
    },
    {
     "data": {
      "text/html": [
       "<pre style=\"white-space:pre;overflow-x:auto;line-height:normal;font-family:Menlo,'DejaVu Sans Mono',consolas,'Courier New',monospace\"><span style=\"color: #7fbfbf; text-decoration-color: #7fbfbf\">[23:21:44] </span><span style=\"color: #000080; text-decoration-color: #000080\">INFO    </span> <span style=\"font-weight: bold\">[</span><span style=\"color: #00ff00; text-decoration-color: #00ff00; font-weight: bold\">23:21:44</span><span style=\"font-weight: bold\">]</span> Inference time: <span style=\"color: #008080; text-decoration-color: #008080; font-weight: bold\">1.</span>07s, RTF: <span style=\"color: #008080; text-decoration-color: #008080; font-weight: bold\">0.08</span>                                         <a href=\"file:///opt/homebrew/Caskroom/miniconda/base/envs/vocal-generating-pack/lib/python3.11/site-packages/so_vits_svc_fork/inference/core.py\" target=\"_blank\"><span style=\"color: #7f7f7f; text-decoration-color: #7f7f7f\">core.py</span></a><span style=\"color: #7f7f7f; text-decoration-color: #7f7f7f\">:</span><a href=\"file:///opt/homebrew/Caskroom/miniconda/base/envs/vocal-generating-pack/lib/python3.11/site-packages/so_vits_svc_fork/inference/core.py#241\" target=\"_blank\"><span style=\"color: #7f7f7f; text-decoration-color: #7f7f7f\">241</span></a>\n",
       "</pre>\n"
      ],
      "text/plain": [
       "\u001b[2;36m[23:21:44]\u001b[0m\u001b[2;36m \u001b[0m\u001b[34mINFO    \u001b[0m \u001b[1m[\u001b[0m\u001b[1;92m23:21:44\u001b[0m\u001b[1m]\u001b[0m Inference time: \u001b[1;36m1.\u001b[0m07s, RTF: \u001b[1;36m0.08\u001b[0m                                         \u001b]8;id=10682;file:///opt/homebrew/Caskroom/miniconda/base/envs/vocal-generating-pack/lib/python3.11/site-packages/so_vits_svc_fork/inference/core.py\u001b\\\u001b[2mcore.py\u001b[0m\u001b]8;;\u001b\\\u001b[2m:\u001b[0m\u001b]8;id=968980;file:///opt/homebrew/Caskroom/miniconda/base/envs/vocal-generating-pack/lib/python3.11/site-packages/so_vits_svc_fork/inference/core.py#241\u001b\\\u001b[2m241\u001b[0m\u001b]8;;\u001b\\\n"
      ]
     },
     "metadata": {},
     "output_type": "display_data"
    },
    {
     "data": {
      "text/html": [
       "<pre style=\"white-space:pre;overflow-x:auto;line-height:normal;font-family:Menlo,'DejaVu Sans Mono',consolas,'Courier New',monospace\"><span style=\"color: #7fbfbf; text-decoration-color: #7fbfbf\">           </span><span style=\"color: #000080; text-decoration-color: #000080\">INFO    </span> <span style=\"font-weight: bold\">[</span><span style=\"color: #00ff00; text-decoration-color: #00ff00; font-weight: bold\">23:21:44</span><span style=\"font-weight: bold\">]</span> Chunk: <span style=\"color: #800080; text-decoration-color: #800080; font-weight: bold\">Chunk</span><span style=\"font-weight: bold\">(</span>Speech: <span style=\"color: #ff0000; text-decoration-color: #ff0000; font-style: italic\">False</span>, <span style=\"color: #008080; text-decoration-color: #008080; font-weight: bold\">20160.0</span><span style=\"font-weight: bold\">)</span>                                     <a href=\"file:///opt/homebrew/Caskroom/miniconda/base/envs/vocal-generating-pack/lib/python3.11/site-packages/so_vits_svc_fork/inference/core.py\" target=\"_blank\"><span style=\"color: #7f7f7f; text-decoration-color: #7f7f7f\">core.py</span></a><span style=\"color: #7f7f7f; text-decoration-color: #7f7f7f\">:</span><a href=\"file:///opt/homebrew/Caskroom/miniconda/base/envs/vocal-generating-pack/lib/python3.11/site-packages/so_vits_svc_fork/inference/core.py#287\" target=\"_blank\"><span style=\"color: #7f7f7f; text-decoration-color: #7f7f7f\">287</span></a>\n",
       "</pre>\n"
      ],
      "text/plain": [
       "\u001b[2;36m          \u001b[0m\u001b[2;36m \u001b[0m\u001b[34mINFO    \u001b[0m \u001b[1m[\u001b[0m\u001b[1;92m23:21:44\u001b[0m\u001b[1m]\u001b[0m Chunk: \u001b[1;35mChunk\u001b[0m\u001b[1m(\u001b[0mSpeech: \u001b[3;91mFalse\u001b[0m, \u001b[1;36m20160.0\u001b[0m\u001b[1m)\u001b[0m                                     \u001b]8;id=294761;file:///opt/homebrew/Caskroom/miniconda/base/envs/vocal-generating-pack/lib/python3.11/site-packages/so_vits_svc_fork/inference/core.py\u001b\\\u001b[2mcore.py\u001b[0m\u001b]8;;\u001b\\\u001b[2m:\u001b[0m\u001b]8;id=370932;file:///opt/homebrew/Caskroom/miniconda/base/envs/vocal-generating-pack/lib/python3.11/site-packages/so_vits_svc_fork/inference/core.py#287\u001b\\\u001b[2m287\u001b[0m\u001b]8;;\u001b\\\n"
      ]
     },
     "metadata": {},
     "output_type": "display_data"
    },
    {
     "name": "stdout",
     "output_type": "stream",
     "text": [
      "/Users/ayano/Documents/developing/projects/vocal_generating_pack/src/vocalinferencegui/resources/files/output/minstrel_short/voice_generated_with_hutao.wav\n"
     ]
    }
   ],
   "source": [
    "\n",
    "counterfeited_path = apply_so_vits(separated_path[\"vocal\"], output_path=OUT_PATH, model_path=model_so_vits_genshin[\"hutao-jp/hutao_jp_G_40000.pth\"], cluster=model_so_vits_genshin[\"hutao-jp/hutao_jp_kmeans_10000.pt\"], config_file_path=model_so_vits_genshin[\"hutao-jp/hutao.json\"], auto_predict_f0=False, speaker=\"hutao\", db_threshold=0, chunk_seconds=40)\n",
    "\n",
    "\n",
    "print(counterfeited_path)"
   ]
  },
  {
   "attachments": {},
   "cell_type": "markdown",
   "metadata": {
    "collapsed": false
   },
   "source": [
    "## 合并"
   ]
  },
  {
   "cell_type": "code",
   "execution_count": 7,
   "metadata": {
    "ExecuteTime": {
     "start_time": "2023-06-13T07:00:38.830559Z"
    },
    "collapsed": false
   },
   "outputs": [
    {
     "name": "stdout",
     "output_type": "stream",
     "text": [
      "done\n",
      "output file: /Users/ayano/Documents/developing/projects/vocal_generating_pack/src/vocalinferencegui/resources/files/output/minstrel_short/voice_generated_with_hutao_counterfeited_from_yuuka.wav\n"
     ]
    }
   ],
   "source": [
    "output = fuse_vocal_and_instrumental(vocal_path=counterfeited_path, instrumental_path=separated_path[\"instrumental\"], output_path=OUT_PATH, speaker=\"hutao\")\n",
    "print(\"output file:\", output)"
   ]
  }
 ],
 "metadata": {
  "kernelspec": {
   "display_name": "vocal_generating_pack",
   "language": "python",
   "name": "python3"
  },
  "language_info": {
   "codemirror_mode": {
    "name": "ipython",
    "version": 3
   },
   "file_extension": ".py",
   "mimetype": "text/x-python",
   "name": "python",
   "nbconvert_exporter": "python",
   "pygments_lexer": "ipython3",
   "version": "3.11.8"
  }
 },
 "nbformat": 4,
 "nbformat_minor": 1
}
