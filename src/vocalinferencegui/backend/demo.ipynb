{
 "cells": [
  {
   "attachments": {},
   "cell_type": "markdown",
   "metadata": {},
   "source": [
    "Import variables, functions, and construct file structures"
   ]
  },
  {
   "cell_type": "code",
   "execution_count": null,
   "metadata": {
    "ExecuteTime": {
     "end_time": "2023-06-13T07:00:37.643879Z",
     "start_time": "2023-06-13T07:00:35.907420Z"
    }
   },
   "outputs": [],
   "source": [
    "from resource_manager import get_data_from_source\n",
    "from environment import output_path\n",
    "from functions import separate_vocal, convert_ncm, apply_so_vits, fuse_vocal_and_instrumental, Path"
   ]
  },
  {
   "attachments": {},
   "cell_type": "markdown",
   "metadata": {},
   "source": [
    "Define paths"
   ]
  },
  {
   "cell_type": "code",
   "execution_count": null,
   "metadata": {
    "ExecuteTime": {
     "end_time": "2023-06-13T07:00:37.646399Z",
     "start_time": "2023-06-13T07:00:37.645104Z"
    },
    "collapsed": false
   },
   "outputs": [],
   "source": [
    "SONG_PATH = Path(\"./demo_assets/minstrel_short.mp3\")\n",
    "OUT_PATH = output_path.joinpath(SONG_PATH.name.rsplit('.')[0])"
   ]
  },
  {
   "attachments": {},
   "cell_type": "markdown",
   "metadata": {},
   "source": [
    "Download the model from huggingface"
   ]
  },
  {
   "cell_type": "code",
   "execution_count": null,
   "metadata": {
    "ExecuteTime": {
     "end_time": "2023-06-13T07:01:01.817544Z",
     "start_time": "2023-06-13T07:00:42.676507Z"
    }
   },
   "outputs": [],
   "source": [
    "model_so_vits_genshin = get_data_from_source(\"so-vits\", \"model\", \"genshin\", update_cache=False)\n",
    "model_so_vits_hololive = get_data_from_source(\"so-vits\", \"model\", \"hololive\", update_cache=False)\n",
    "model_demucs = get_data_from_source(\"demucs\", \"model\", \"hdemucs_mmi\", update_cache=False)"
   ]
  },
  {
   "attachments": {},
   "cell_type": "markdown",
   "metadata": {
    "collapsed": false
   },
   "source": [
    "Convert .ncm file to .wav"
   ]
  },
  {
   "cell_type": "code",
   "execution_count": null,
   "metadata": {
    "ExecuteTime": {
     "start_time": "2023-06-13T07:00:38.827823Z"
    },
    "collapsed": false
   },
   "outputs": [],
   "source": [
    "converted_path = convert_ncm(SONG_PATH, OUT_PATH)"
   ]
  },
  {
   "attachments": {},
   "cell_type": "markdown",
   "metadata": {},
   "source": [
    "Separate vocal and instrumental with demucs"
   ]
  },
  {
   "cell_type": "code",
   "execution_count": null,
   "metadata": {
    "ExecuteTime": {
     "start_time": "2023-06-13T07:00:38.828651Z"
    }
   },
   "outputs": [],
   "source": [
    "separated_path = separate_vocal(Path(converted_path), OUT_PATH)\n",
    "print(separated_path)"
   ]
  },
  {
   "attachments": {},
   "cell_type": "markdown",
   "metadata": {},
   "source": [
    "Use so-vits-svc to process audio file"
   ]
  },
  {
   "cell_type": "code",
   "execution_count": null,
   "metadata": {
    "ExecuteTime": {
     "start_time": "2023-06-13T07:00:38.829795Z"
    }
   },
   "outputs": [],
   "source": [
    "\n",
    "counterfeited_path = apply_so_vits(separated_path[\"vocal\"], output_path=OUT_PATH, model_path=model_so_vits_genshin[\"hutao-jp/hutao_jp_G_40000.pth\"], cluster=model_so_vits_genshin[\"hutao-jp/hutao_jp_kmeans_10000.pt\"], config_file_path=model_so_vits_genshin[\"hutao-jp/hutao.json\"], auto_predict_f0=False, speaker=\"hutao\", db_threshold=0, chunk_seconds=40)\n",
    "\n",
    "\n",
    "print(counterfeited_path)"
   ]
  },
  {
   "attachments": {},
   "cell_type": "markdown",
   "metadata": {
    "collapsed": false
   },
   "source": [
    "## 合并"
   ]
  },
  {
   "cell_type": "code",
   "execution_count": null,
   "metadata": {
    "ExecuteTime": {
     "start_time": "2023-06-13T07:00:38.830559Z"
    },
    "collapsed": false
   },
   "outputs": [],
   "source": [
    "output = fuse_vocal_and_instrumental(vocal_path=counterfeited_path, instrumental_path=separated_path[\"instrumental\"], output_path=OUT_PATH, speaker=\"hutao\")\n",
    "print(\"output file:\", output)"
   ]
  }
 ],
 "metadata": {
  "kernelspec": {
   "display_name": "vocal_generating_pack",
   "language": "python",
   "name": "python3"
  },
  "language_info": {
   "codemirror_mode": {
    "name": "ipython",
    "version": 3
   },
   "file_extension": ".py",
   "mimetype": "text/x-python",
   "name": "python",
   "nbconvert_exporter": "python",
   "pygments_lexer": "ipython3",
   "version": "3.11.8"
  }
 },
 "nbformat": 4,
 "nbformat_minor": 1
}
